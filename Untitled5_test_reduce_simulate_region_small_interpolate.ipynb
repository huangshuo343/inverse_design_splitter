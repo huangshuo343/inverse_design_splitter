{
 "cells": [
  {
   "cell_type": "code",
   "execution_count": 1,
   "id": "ad4b9260",
   "metadata": {},
   "outputs": [],
   "source": [
    "#import tensorflow as tf\n",
    "import matplotlib.pyplot as plt\n",
    "import seaborn as sns\n",
    "import numpy as np\n",
    "import scipy.sparse as sparse\n",
    "import math\n",
    "import nibabel as nib\n",
    "import os\n",
    "from skimage.transform import resize as resize\n",
    "from scipy.ndimage import label as connection_label\n",
    "from matplotlib.colors import LogNorm"
   ]
  },
  {
   "cell_type": "code",
   "execution_count": 2,
   "id": "08280072",
   "metadata": {},
   "outputs": [],
   "source": [
    "def fun_s(u):\n",
    "    v = []    \n",
    "    pi = 3.1415926\n",
    "    power_kappa = 3;\n",
    "    kappa_max = 15;\n",
    "    power_sigma = 3;\n",
    "    lambda_over_dx = 40; # use a common choice for lambda/dx/n_bg\n",
    "    sigma_over_omega_max = 0.8*(power_sigma+1)*lambda_over_dx/(2*pi);\n",
    "    kappa = lambda u: 1 + (kappa_max-1)*u**power_kappa;\n",
    "    sigma_over_omega = lambda u: sigma_over_omega_max*u**power_sigma;\n",
    "    for i in range(len(u)):\n",
    "        #print([i, u[i]])\n",
    "        v.append(complex(kappa(u[i]), sigma_over_omega(u[i])))\n",
    "    return v"
   ]
  },
  {
   "cell_type": "code",
   "execution_count": 3,
   "id": "6d15cf26",
   "metadata": {},
   "outputs": [],
   "source": [
    "def build_laplacian_1d_PML(N, N_PML_L, N_PML_R):\n",
    "    # Builds dx^2 times the Laplacian in 1D with effective outgoing boundary\n",
    "    # condition implemented using PML on the two sides.\n",
    "    # N = number of grid points\n",
    "    # N_PML_L = number of PML pixels on the left; zero means no PML\n",
    "    # N_PML_R = number of PML pixels on the right; zero means no PML\n",
    "\n",
    "    # f = [f(1), ...., f(N)]\n",
    "    # df = [df(0.5), ..., df(N+0.5)]\n",
    "    # d2f = [d2f(1), ...., d2f(N)]\n",
    "    # put Dirichlet boundary condition behind PML: f(0) = f(N+1) = 0\n",
    "    # ddx_1*f = df\n",
    "    # This is dx times (d/dx) operator \n",
    "    pi = 3.1415926\n",
    "    ddx_1 = sparse.spdiags([np.ones(N),-np.ones(N)], [0, -1], N+1, N);\n",
    "\n",
    "    # ddx_2*df = d2f\n",
    "    # This is dx times (d/dx) operator \n",
    "    ddx_2 = -np.transpose(ddx_1);\n",
    "\n",
    "    if N_PML_L==0 and N_PML_R==0:\n",
    "        A = ddx_2*ddx_1;\n",
    "        return\n",
    "\n",
    "    # define coordinate-stretching profile s(u)\n",
    "    power_kappa = 3;\n",
    "    kappa_max = 15;\n",
    "    power_sigma = 3;\n",
    "    lambda_over_dx = 40; # use a common choice for lambda/dx/n_bg\n",
    "    sigma_over_omega_max = 0.8*(power_sigma+1)*lambda_over_dx/(2*pi);\n",
    "    #kappa = lambda u: 1 + (kappa_max-1)*u**power_kappa;\n",
    "    #sigma_over_omega = lambda u: sigma_over_omega_max*u**power_sigma;\n",
    "    #fun_s = lambda u: complex(kappa(u), sigma_over_omega(u));\n",
    "\n",
    "    # assign s(u) on interger and half-interger grid points\n",
    "    # u = 0 on the integer site before PML\n",
    "    # u = 1 on the integer site after PML (where we put Dirichlet BC)\n",
    "    s_half = np.array([1+0j for i in range(N+1)]); # column vector\n",
    "    s_int  = np.array([1+0j for i in range(N  )]); # column vector\n",
    "    if N_PML_R > 0:\n",
    "        s_half[(N-N_PML_R):(N+1)] = np.transpose(fun_s(np.arange(0.5,(N_PML_R+1),1)/(N_PML_R+1)))\n",
    "        s_int[(N-N_PML_R):N] = np.transpose(fun_s(np.arange(1,N_PML_R+1,1)/(N_PML_R+1)))\n",
    "    if N_PML_L > 0:\n",
    "        s_half[(N_PML_L)::-1] = np.transpose(fun_s(np.arange(0.5,(N_PML_L+1),1)/(N_PML_L+1)))\n",
    "        s_int[N_PML_L-1::-1] = np.transpose(fun_s(np.arange(1,N_PML_L+1,1)/(N_PML_L+1)))\n",
    "\n",
    "    # dx^2 times the Laplacian with PML on the two sides\n",
    "    A = sparse.spdiags(1./s_int, 0, N, N)*ddx_2*sparse.spdiags(1./s_half, 0, N+1, N+1)*ddx_1;\n",
    "    \n",
    "    return A\n"
   ]
  },
  {
   "cell_type": "code",
   "execution_count": 4,
   "id": "8463d65f",
   "metadata": {},
   "outputs": [],
   "source": [
    "def  build_laplacian_2d_PML(nx, ny, N_PML_L, N_PML_R, N_PML_B, N_PML_T):\n",
    "    # Builds dx^2 times the Laplacian in 2D with effective outgoing boundary\n",
    "    # condition implemented using PML on all four sides.\n",
    "    # nx = number of grid points in x\n",
    "    # ny = number of grid points in y\n",
    "    # N_PML_L = number of PML pixels on the left; zero means no PML\n",
    "    # N_PML_R = number of PML pixels on the right; zero means no PML\n",
    "    # N_PML_B = number of PML pixels on the bottom; zero means no PML\n",
    "    # N_PML_T = number of PML pixels on the top; zero means no PML\n",
    "\n",
    "    # A = [(d^2/dx^2) + (d^2/dy^2)]*dx^2\n",
    "    A = sparse.kron(build_laplacian_1d_PML(nx, N_PML_L, N_PML_R), sparse.eye(ny)) + sparse.kron(sparse.eye(nx), build_laplacian_1d_PML(ny, N_PML_B, N_PML_T));\n",
    "    return A"
   ]
  },
  {
   "cell_type": "code",
   "execution_count": 5,
   "id": "1f0925f2",
   "metadata": {},
   "outputs": [],
   "source": [
    "# refractive indices\n",
    "n_bg = 1; # air\n",
    "n_waveguide = 3.5; # silicon index near lambda = 1.55 micron\n",
    "\n",
    "# system dimensions, in micron\n",
    "lambda1 = 1.55; # wavelength\n",
    "w = 0.3; # waveguide width\n",
    "R_in_x = 1.5; # inner radius of bend\n",
    "R_in_y = 1.5; # inner radius of bend\n",
    "# spacing = 0.5; # waveguide-PML (for visualization)\n",
    "\n",
    "# number of PML pixels\n",
    "N_PML = 24;\n",
    "\n",
    "lambdax = 1.55\n",
    "# discretization grid size\n",
    "dx = lambdax/n_waveguide/26;\n",
    "spacing = 3 * dx\n",
    "\n",
    "# number of grid points across the waveguide\n",
    "nx_w = int(np.ceil(w/dx));\n",
    "\n",
    "# adjust dx slightly so waveguide width w fits into an integer number of grids\n",
    "dx = w/nx_w;\n",
    "dy = dx;\n",
    "\n",
    "# adjust spacing slightly it fits into an integer number of grids\n",
    "nx_spacing = round(spacing/dx);\n",
    "spacing = nx_spacing*dx;\n",
    "\n",
    "# R_in will be discretized into an integer number of grid points since R_in\n",
    "# = w here\n",
    "nx_R_in = round(R_in_x/dx);\n",
    "ny_R_in = round(R_in_y/dy);\n",
    "ny_w = ny_R_in\n",
    "\n",
    "# total number of pixels in the system\n",
    "nx = N_PML + 36 + nx_spacing + nx_R_in + nx_spacing + 36 + N_PML;\n",
    "ny = N_PML + nx_spacing + ny_w + nx_spacing + N_PML;\n",
    "\n",
    "# have x = 0 & y = 0 being the start of PML\n",
    "x = (np.arange(0.5,nx,1) - N_PML - 38)*dx;\n",
    "y = (np.arange(0.5,ny,1) - N_PML)*dx;\n",
    "x_length = x[-1];\n",
    "y_length = y[-1];\n"
   ]
  },
  {
   "cell_type": "code",
   "execution_count": 6,
   "id": "9eb0e997",
   "metadata": {},
   "outputs": [
    {
     "data": {
      "text/plain": [
       "216"
      ]
     },
     "execution_count": 6,
     "metadata": {},
     "output_type": "execute_result"
    }
   ],
   "source": [
    "nx"
   ]
  },
  {
   "cell_type": "code",
   "execution_count": 7,
   "id": "f05ac0cb",
   "metadata": {},
   "outputs": [
    {
     "data": {
      "text/plain": [
       "144"
      ]
     },
     "execution_count": 7,
     "metadata": {},
     "output_type": "execute_result"
    }
   ],
   "source": [
    "ny"
   ]
  },
  {
   "cell_type": "code",
   "execution_count": 8,
   "id": "2331a425",
   "metadata": {},
   "outputs": [
    {
     "data": {
      "text/plain": [
       "0.016666666666666607"
      ]
     },
     "execution_count": 8,
     "metadata": {},
     "output_type": "execute_result"
    }
   ],
   "source": [
    "x[2] - x[1]"
   ]
  },
  {
   "cell_type": "code",
   "execution_count": 9,
   "id": "5e35742a",
   "metadata": {},
   "outputs": [],
   "source": [
    "\n",
    "# center position of the waveguide\n",
    "length_waveguidey = 0.4;\n",
    "y0_waveguide = spacing + R_in_y/2;\n",
    "y1_waveguide = spacing + R_in_y/2 + length_waveguidey;\n",
    "y2_waveguide = spacing + R_in_y/2 - length_waveguidey;\n",
    "x0_waveguide = spacing + w/2;\n",
    "\n",
    "# build refractive index profile for the waveguide\n",
    "n0_y = n_bg*np.ones(ny);\n",
    "n0_y[np.abs(y-y0_waveguide) < w/2] = n_waveguide;\n",
    "#n0 = repmat(n0_y, 1, nx);\n",
    "\n",
    "# center position of the bend\n",
    "x0 = spacing;\n",
    "x_startn = int(x0 / dx + N_PML);\n",
    "x_guide = x0 + N_PML * dx\n",
    "y0 = x0;\n",
    "\n",
    "# build refractive index profile for the bent waveguide\n",
    "# n = n_bg*np.ones([ny,nx]);\n",
    "# [X,Y] = np.meshgrid(x,y);\n",
    "# # incoming waveguide segment\n",
    "# n[(np.abs(Y-y0_waveguide) < w/2) * (X < x0)] = n_waveguide;#报错解决ValueError: https://blog.csdn.net/weixin_47344149/article/details/124190877\n",
    "# n[(np.abs(Y-y1_waveguide) < w/2) * (X > x_length - x_guide)] = n_waveguide;\n",
    "# n[(np.abs(Y-y2_waveguide) < w/2) * (X > x_length - x_guide)] = n_waveguide;\n",
    "# n_fit = n.copy()\n",
    "# # outgoing waveguide segment\n",
    "# #n(abs(X-x0_waveguide) < w/2 & Y < y0) = n_waveguide;\n",
    "# # bend segment\n",
    "# #n((X-x0).^2 + (Y-y0).^2 > R_in^2 & ...\n",
    "#   #(X-x0).^2 + (Y-y0).^2 < (R_in+w)^2 & ...\n",
    "#   #X > x0 & Y > y0) = n_waveguide;\n",
    "# n_simulate = int(nx - 2 * x_startn);\n",
    "# n_halfsimulate = 0.95;\n",
    "# #y_halfsize = (nx - 2 * N_PML) / 2 * dx;\n",
    "# y_halfsize = y0_waveguide;\n",
    "# y1 = np.ones(n_simulate) * n_halfsimulate;\n",
    "# y2 = np.ones(n_simulate) * n_halfsimulate;\n",
    "# for i in range(1, n_simulate+1):\n",
    "#     n[(y < y_halfsize + y1[i-1]) * (y > y_halfsize -y2[i-1]), x_startn + i - 1] = n_waveguide;"
   ]
  },
  {
   "cell_type": "code",
   "execution_count": 112,
   "id": "d45289b2",
   "metadata": {},
   "outputs": [],
   "source": [
    "percent1 = 45\n",
    "#percent2 = 99\n",
    "percent2 = 100 - percent1\n",
    "#n_path = 'D:/data_ee604_final_project/results/test_data_reduce_simulation_area_wide_265accuracy/1_55_54_46/'\n",
    "n_path = 'D:/data_ee604_final_project/results/test_data_reduce_simulation_area_wide_3size_250epoches_align_corner_smooth_spreatchannel12_learningrate_suit_alltestdata/1_55_' + str(percent1) + '_' + str(percent2) + '/'\n",
    "n_name = 'waveguide_structure_simulation_result.nii.gz'\n",
    "n_waveguide_simulation_result_name = os.path.join(n_path, n_name)\n",
    "n_waveguide_simulation_result_data = nib.load(n_waveguide_simulation_result_name)\n",
    "n_original = n_waveguide_simulation_result_data.get_fdata()\n",
    "n = n_original.reshape(48, 48)\n",
    "n_copy = n.copy()\n",
    "ntransmit = np.zeros([48, 72])\n",
    "ntransmit[0:48, 12:60] = n\n",
    "for i in range(60, 72):\n",
    "    ntransmit[ : , i] = n[ : , 47]\n",
    "for i in range(0, 12):\n",
    "    ntransmit[ : , i] = n[ : , 1]\n",
    "    \n",
    "ntransmit_simulationregion = n[9 : 39, 9 : 39]\n",
    "ntransmit_resize = resize(ntransmit_simulationregion, [90, 90], order = 0, mode = 'reflect')\n",
    "\n",
    "ntransmit_3interpolation = np.zeros([144, 216])\n",
    "for iy in range(0, 144, 3):\n",
    "    for ix in range(0, 216, 3):\n",
    "        ntransmit_3interpolation[iy : iy + 3, ix : ix + 3] = np.ones([3, 3]) * ntransmit[int(iy / 3), int(ix / 3)]\n",
    "ntransmit_3interpolation[27 : 117, 63 : 153] = ntransmit_resize\n",
    "n = ntransmit_3interpolation\n",
    "# n = np.where(n <= 2.25, 1.0, 3.5)\n",
    "#n[n < 1] = 1\n",
    "#n.reshape(96, 96)"
   ]
  },
  {
   "cell_type": "code",
   "execution_count": 113,
   "id": "1d6b42bd",
   "metadata": {},
   "outputs": [
    {
     "data": {
      "text/plain": [
       "<matplotlib.collections.QuadMesh at 0x194c0c4d640>"
      ]
     },
     "execution_count": 113,
     "metadata": {},
     "output_type": "execute_result"
    },
    {
     "data": {
      "image/png": "[encoded data removed]",
      "text/plain": [
       "<Figure size 360x216 with 1 Axes>"
      ]
     },
     "metadata": {
      "needs_background": "light"
     },
     "output_type": "display_data"
    }
   ],
   "source": [
    "fig, axes = plt.subplots(figsize=[5, 3])\n",
    "#sns.heatmap(n)\n",
    "plt.pcolormesh(ntransmit_3interpolation, cmap = 'inferno')#'inferno'"
   ]
  },
  {
   "cell_type": "code",
   "execution_count": 114,
   "id": "f0d290e7",
   "metadata": {},
   "outputs": [
    {
     "name": "stdout",
     "output_type": "stream",
     "text": [
      "y0_waveguide = 0.8, y1_waveguide = 1.2000000000000002, y2_waveguide = 0.4\n"
     ]
    }
   ],
   "source": [
    "print('y0_waveguide = {}, y1_waveguide = {}, y2_waveguide = {}'.format(y0_waveguide, y1_waveguide, y2_waveguide))"
   ]
  },
  {
   "cell_type": "code",
   "execution_count": 115,
   "id": "c5b4bd09",
   "metadata": {},
   "outputs": [],
   "source": [
    "x_meshgrid, y_meshgrid = np.meshgrid(x, y)"
   ]
  },
  {
   "cell_type": "code",
   "execution_count": 116,
   "id": "88d05824",
   "metadata": {},
   "outputs": [
    {
     "name": "stderr",
     "output_type": "stream",
     "text": [
      "C:\\Users\\DELL\\AppData\\Local\\Temp/ipykernel_28104/1469428217.py:3: MatplotlibDeprecationWarning: shading='flat' when X and Y have the same dimensions as C is deprecated since 3.3.  Either specify the corners of the quadrilaterals with X and Y, or pass shading='auto', 'nearest' or 'gouraud', or set rcParams['pcolor.shading'].  This will become an error two minor releases later.\n",
      "  plt.pcolormesh(x_meshgrid, y_meshgrid, n, cmap = 'gray')#'inferno'\n"
     ]
    },
    {
     "data": {
      "image/png": "[encoded data removed]",
      "text/plain": [
       "<Figure size 216x194.4 with 1 Axes>"
      ]
     },
     "metadata": {
      "needs_background": "light"
     },
     "output_type": "display_data"
    }
   ],
   "source": [
    "fig, axes = plt.subplots(figsize=[3, 2.7])#fig, axes = plt.subplots(figsize=[4.5, 4]) #fig, axes = plt.subplots(figsize=[3, 2.4]) #fig, axes = plt.subplots(figsize=[3, 2])\n",
    "#sns.heatmap(n)\n",
    "plt.pcolormesh(x_meshgrid, y_meshgrid, n, cmap = 'gray')#'inferno'\n",
    "#fig, axes = plt.subplots(figsize=[4, 3])\n",
    "#plt.pcolormesh(x_meshgrid, y_meshgrid, n[0:48, 12:60], cmap = 'gray')#'gray' YlOrRd\n",
    "#plt.pcolormesh(x_meshgrid[0:48, 12:60], y_meshgrid[0:48, 12:60], n[0:48, 12:60], cmap = 'gray')\n",
    "#plt.xlabel(\"y ($\\mu m$)\")#, loc = 'right'\n",
    "#plt.ylabel(\"x ($\\mu m$)\")#, loc = 'top'\n",
    "#plt.plot(x_meshgrid[ : , 125], y_meshgrid[ : , 125])\n",
    "#plt.plot(x_meshgrid[ : , 125], y_meshgrid[ : , 125])\n",
    "#plt.plot(x_meshgrid[ : , 125], y_meshgrid[ : , 125])\n",
    "#plt.plot(x_meshgrid[ : , 125], y_meshgrid[ : , 125])\n",
    "#plt.plot(x_meshgrid[ : , 125], y_meshgrid[ : , 125])\n",
    "#plt.plot(x_meshgrid[N_PML, N_PML : 217 - N_PML], y_meshgrid[N_PML, N_PML : 217 - N_PML], color = 'y')\n",
    "#plt.plot(x_meshgrid[144 - N_PML, N_PML : 217 - N_PML], y_meshgrid[144 - N_PML, N_PML : 217 - N_PML], color = 'y')\n",
    "#plt.plot(x_meshgrid[N_PML : 145 - N_PML, N_PML], y_meshgrid[N_PML : 145 - N_PML, N_PML], color = 'y')\n",
    "#plt.plot(x_meshgrid[N_PML : 145 - N_PML, 216 - N_PML], y_meshgrid[N_PML : 145 - N_PML, 216 - N_PML], color = 'y')#color = 'g'\n",
    "##plt.plot(x_meshgrid[N_PML + nx_spacing, N_PML + nx_spacing + 36 : 217 - N_PML - nx_spacing - 36], y_meshgrid[N_PML + nx_spacing, N_PML + nx_spacing + 36 : 217 - N_PML - nx_spacing - 36], color = 'r')\n",
    "##plt.plot(x_meshgrid[144 - N_PML - nx_spacing, N_PML + nx_spacing + 36 : 217 - N_PML - nx_spacing - 36], y_meshgrid[144 - N_PML - nx_spacing, N_PML + nx_spacing + 36 : 217 - N_PML - nx_spacing - 36], color = 'r')\n",
    "##plt.plot(x_meshgrid[N_PML + nx_spacing : 145 - N_PML - nx_spacing, N_PML + nx_spacing + 36], y_meshgrid[N_PML + nx_spacing : 145 - N_PML - nx_spacing, N_PML + nx_spacing + 36], color = 'r')\n",
    "##plt.plot(x_meshgrid[N_PML + nx_spacing : 145 - N_PML - nx_spacing, 216 - N_PML - nx_spacing - 36], y_meshgrid[N_PML + nx_spacing : 145 - N_PML - nx_spacing, 216 - N_PML - nx_spacing - 36], color = 'r')\n",
    "#plt.plot(x_meshgrid[ : , 216 - N_PML - nx_spacing - 35], y_meshgrid[ : , 216 - N_PML - nx_spacing - 35], color = 'g', linestyle = '--') #color = 'y'\n",
    "#plt.plot(x_meshgrid[ : , 216 - N_PML - 1], y_meshgrid[ : , 216 - N_PML - 1], color = 'r', linestyle = '--')\n",
    "#plt.colorbar(orientation = 'horizontal')#ax = axes[1, 0] #, label = 'n'\n",
    "plt.axis('scaled')\n",
    "#plt.savefig('C:/Users/DELL/Desktop/2023年上半年学习和生活的文件/科研的文件/waveguide_structure_design/figures/structure_outputs/structure_5_marks_position_color.png', dpi = 450)\n",
    "plt.show()"
   ]
  },
  {
   "cell_type": "code",
   "execution_count": 117,
   "id": "1dd24c0c",
   "metadata": {},
   "outputs": [],
   "source": [
    "n_result = n[0 : 144, 36 : 180]#n_original.reshape(48, 48)"
   ]
  },
  {
   "cell_type": "code",
   "execution_count": 118,
   "id": "897faf73",
   "metadata": {},
   "outputs": [
    {
     "name": "stderr",
     "output_type": "stream",
     "text": [
      "C:\\Users\\DELL\\AppData\\Local\\Temp/ipykernel_28104/1018872758.py:3: MatplotlibDeprecationWarning: shading='flat' when X and Y have the same dimensions as C is deprecated since 3.3.  Either specify the corners of the quadrilaterals with X and Y, or pass shading='auto', 'nearest' or 'gouraud', or set rcParams['pcolor.shading'].  This will become an error two minor releases later.\n",
      "  plt.pcolormesh(x_meshgrid[0 : 144, 36 : 180], y_meshgrid[0 : 144, 36 : 180], n_result, cmap = 'gray')#'inferno'\n"
     ]
    },
    {
     "data": {
      "image/png": "[encoded data removed]",
      "text/plain": [
       "<Figure size 288x216 with 2 Axes>"
      ]
     },
     "metadata": {
      "needs_background": "light"
     },
     "output_type": "display_data"
    }
   ],
   "source": [
    "fig, axes = plt.subplots(figsize=[4, 3])\n",
    "#sns.heatmap(n)\n",
    "plt.pcolormesh(x_meshgrid[0 : 144, 36 : 180], y_meshgrid[0 : 144, 36 : 180], n_result, cmap = 'gray')#'inferno'\n",
    "#fig, axes = plt.subplots(figsize=[4, 3])\n",
    "#plt.pcolormesh(x_meshgrid, y_meshgrid, n[0:48, 12:60], cmap = 'gray')#'gray' YlOrRd\n",
    "#plt.pcolormesh(x_meshgrid[0:48, 12:60], y_meshgrid[0:48, 12:60], n[0:48, 12:60], cmap = 'gray')\n",
    "plt.colorbar()\n",
    "plt.axis('scaled')\n",
    "#plt.savefig('C:/Users/DELL/Desktop/2023年上半年学习和生活的文件/科研的文件/waveguide_structure_design/figures/structure_outputs/designed_structure_50_50.png', dpi = 450)\n",
    "plt.show()"
   ]
  },
  {
   "cell_type": "code",
   "execution_count": 119,
   "id": "b1291f42",
   "metadata": {},
   "outputs": [
    {
     "ename": "NameError",
     "evalue": "name 'x1' is not defined",
     "output_type": "error",
     "traceback": [
      "\u001b[1;31m---------------------------------------------------------------------------\u001b[0m",
      "\u001b[1;31mNameError\u001b[0m                                 Traceback (most recent call last)",
      "\u001b[1;32m~\\AppData\\Local\\Temp/ipykernel_28104/471608330.py\u001b[0m in \u001b[0;36m<module>\u001b[1;34m\u001b[0m\n\u001b[0;32m      2\u001b[0m \u001b[0mposition\u001b[0m \u001b[1;33m=\u001b[0m \u001b[1;36m125\u001b[0m\u001b[1;31m#125\u001b[0m\u001b[1;33m\u001b[0m\u001b[1;33m\u001b[0m\u001b[0m\n\u001b[0;32m      3\u001b[0m \u001b[0mfig\u001b[0m\u001b[1;33m,\u001b[0m \u001b[0maxes\u001b[0m \u001b[1;33m=\u001b[0m \u001b[0mplt\u001b[0m\u001b[1;33m.\u001b[0m\u001b[0msubplots\u001b[0m\u001b[1;33m(\u001b[0m\u001b[0mfigsize\u001b[0m\u001b[1;33m=\u001b[0m\u001b[1;33m[\u001b[0m\u001b[1;36m7.5\u001b[0m\u001b[1;33m,\u001b[0m \u001b[1;36m2\u001b[0m\u001b[1;33m]\u001b[0m\u001b[1;33m)\u001b[0m\u001b[1;31m#fig, axes = plt.subplots(figsize=[9, 3]) fig, axes = plt.subplots(figsize=[6, 2])\u001b[0m\u001b[1;33m\u001b[0m\u001b[1;33m\u001b[0m\u001b[0m\n\u001b[1;32m----> 4\u001b[1;33m \u001b[0mplt\u001b[0m\u001b[1;33m.\u001b[0m\u001b[0mplot\u001b[0m\u001b[1;33m(\u001b[0m\u001b[0my_meshgrid\u001b[0m\u001b[1;33m[\u001b[0m \u001b[1;33m:\u001b[0m \u001b[1;33m,\u001b[0m \u001b[0mposition\u001b[0m\u001b[1;33m]\u001b[0m\u001b[1;33m,\u001b[0m \u001b[0mx1\u001b[0m\u001b[1;33m[\u001b[0m \u001b[1;33m:\u001b[0m \u001b[1;33m,\u001b[0m \u001b[0mposition\u001b[0m\u001b[1;33m]\u001b[0m\u001b[1;33m,\u001b[0m \u001b[0mlabel\u001b[0m \u001b[1;33m=\u001b[0m \u001b[1;34m'0 epoch'\u001b[0m\u001b[1;33m)\u001b[0m\u001b[1;33m\u001b[0m\u001b[1;33m\u001b[0m\u001b[0m\n\u001b[0m\u001b[0;32m      5\u001b[0m \u001b[0mplt\u001b[0m\u001b[1;33m.\u001b[0m\u001b[0mplot\u001b[0m\u001b[1;33m(\u001b[0m\u001b[0my_meshgrid\u001b[0m\u001b[1;33m[\u001b[0m \u001b[1;33m:\u001b[0m \u001b[1;33m,\u001b[0m \u001b[0mposition\u001b[0m\u001b[1;33m]\u001b[0m\u001b[1;33m,\u001b[0m \u001b[0mx2\u001b[0m\u001b[1;33m[\u001b[0m \u001b[1;33m:\u001b[0m \u001b[1;33m,\u001b[0m \u001b[0mposition\u001b[0m\u001b[1;33m]\u001b[0m\u001b[1;33m,\u001b[0m \u001b[0mlabel\u001b[0m \u001b[1;33m=\u001b[0m \u001b[1;34m'50 epoches'\u001b[0m\u001b[1;33m)\u001b[0m\u001b[1;33m\u001b[0m\u001b[1;33m\u001b[0m\u001b[0m\n\u001b[0;32m      6\u001b[0m \u001b[0mplt\u001b[0m\u001b[1;33m.\u001b[0m\u001b[0mplot\u001b[0m\u001b[1;33m(\u001b[0m\u001b[0my_meshgrid\u001b[0m\u001b[1;33m[\u001b[0m \u001b[1;33m:\u001b[0m \u001b[1;33m,\u001b[0m \u001b[0mposition\u001b[0m\u001b[1;33m]\u001b[0m\u001b[1;33m,\u001b[0m \u001b[0mx3\u001b[0m\u001b[1;33m[\u001b[0m \u001b[1;33m:\u001b[0m \u001b[1;33m,\u001b[0m \u001b[0mposition\u001b[0m\u001b[1;33m]\u001b[0m\u001b[1;33m,\u001b[0m \u001b[0mlabel\u001b[0m \u001b[1;33m=\u001b[0m \u001b[1;34m'100 epoches'\u001b[0m\u001b[1;33m)\u001b[0m\u001b[1;33m\u001b[0m\u001b[1;33m\u001b[0m\u001b[0m\n",
      "\u001b[1;31mNameError\u001b[0m: name 'x1' is not defined"
     ]
    },
    {
     "data": {
      "image/png": "[encoded data removed]",
      "text/plain": [
       "<Figure size 540x144 with 1 Axes>"
      ]
     },
     "metadata": {
      "needs_background": "light"
     },
     "output_type": "display_data"
    }
   ],
   "source": [
    "x5 = n#[ : , 125]\n",
    "position = 125#125\n",
    "fig, axes = plt.subplots(figsize=[7.5, 2])#fig, axes = plt.subplots(figsize=[9, 3]) fig, axes = plt.subplots(figsize=[6, 2])\n",
    "plt.plot(y_meshgrid[ : , position], x1[ : , position], label = '0 epoch')\n",
    "plt.plot(y_meshgrid[ : , position], x2[ : , position], label = '50 epoches')\n",
    "plt.plot(y_meshgrid[ : , position], x3[ : , position], label = '100 epoches')\n",
    "#plt.plot(y_meshgrid[ : , position], x4[ : , position], label = '195 epoches')\n",
    "plt.plot(y_meshgrid[ : , position], x5[ : , position], label = '250 epoches')\n",
    "plt.legend(loc = 0)\n",
    "#plt.savefig('C:/Users/DELL/Desktop/2023年上半年学习和生活的文件/科研的文件/waveguide_structure_design/figures/lines_x125plxel_nolegend_long.png', dpi = 300)\n",
    "print('Location of y is: ', x[position], '.')"
   ]
  },
  {
   "cell_type": "code",
   "execution_count": 120,
   "id": "5d1056bb",
   "metadata": {},
   "outputs": [
    {
     "name": "stdout",
     "output_type": "stream",
     "text": [
      "The field strength is:  [0.13533528 0.17377394 0.22313016 0.2865048  0.36787944 0.47236655\n",
      " 0.60653066 0.77880078] .\n"
     ]
    }
   ],
   "source": [
    "log_field = np.array([-2.00, -1.75, -1.50, -1.25, -1.00, -0.75, -0.50, -0.25])\n",
    "field_strength = np.exp(log_field)\n",
    "print('The field strength is: ', field_strength, '.')"
   ]
  },
  {
   "cell_type": "code",
   "execution_count": 121,
   "id": "abcc2f42",
   "metadata": {},
   "outputs": [
    {
     "name": "stdout",
     "output_type": "stream",
     "text": [
      "The calculated energy transmission efficiency is: 2251288099.4807887 .\n"
     ]
    }
   ],
   "source": [
    "transmit_total = np.abs(sum(sum(n)))**2\n",
    "print(\"The calculated energy transmission efficiency is:\", transmit_total, \".\")"
   ]
  },
  {
   "cell_type": "code",
   "execution_count": 122,
   "id": "307781a8",
   "metadata": {},
   "outputs": [
    {
     "name": "stdout",
     "output_type": "stream",
     "text": [
      "k0dx =  0.0675611311827957\n"
     ]
    },
    {
     "name": "stderr",
     "output_type": "stream",
     "text": [
      "C:\\Users\\DELL\\AppData\\Local\\Temp/ipykernel_28104/2213248007.py:25: ComplexWarning: Casting complex values to real discards the imaginary part\n",
      "  kxdx_eig=math.asin(kxdx_eig1)*2\n"
     ]
    },
    {
     "data": {
      "image/png": "[encoded data removed]",
      "text/plain": [
       "<Figure size 216x216 with 1 Axes>"
      ]
     },
     "metadata": {
      "needs_background": "light"
     },
     "output_type": "display_data"
    }
   ],
   "source": [
    "# k0dx = (omega/c)*dx\n",
    "\n",
    "pi = 3.1415926\n",
    "k0dx = 2*pi/lambda1*dx;\n",
    "print(\"k0dx = \", k0dx)\n",
    "#percent1 = 54\n",
    "#percent2 = 46\n",
    "# percentenergy_1 = 50\n",
    "# percentenergy_2 = 50\n",
    "# percent_1 = (percentenergy_1 ** 2) / (percentenergy_1 ** 2 + percentenergy_2 ** 2)\n",
    "# percent_2 = 100 - percent_1\n",
    "\n",
    "# dx^2 times the shifted eigen operatore for waveguide modes u(y)\n",
    "# with effective outgoing boundary condition implemented using PML on the two sides.\n",
    "A = build_laplacian_1d_PML(ny, N_PML, N_PML) + sparse.spdiags(k0dx**2*(n0_y**2 - n_waveguide**2), 0, ny, ny);\n",
    "\n",
    "# compute first few eigenmodes with n_eff close to n_waveguide\n",
    "n_eig = 1;\n",
    "[D, V] = sparse.linalg.eigs(A, n_eig, which='SM');\n",
    "\n",
    "# convert eigenvalue back to kx\n",
    "kxdx_eig1 = np.sqrt(D[0] + (k0dx*n_waveguide)**2)/2\n",
    "#kxdx_eig2 = np.sqrt(D[1] + (k0dx*n_waveguide)**2)/2\n",
    "#for i in kxdx_eig1:\n",
    "kxdx_eig=math.asin(kxdx_eig1)*2\n",
    "\n",
    "# effective index\n",
    "n_eff_eig = np.array(kxdx_eig)/k0dx\n",
    "\n",
    "# transverse profile u_j(y) of the waveguide modes\n",
    "u1 = V;\n",
    "#u2 = V[:,1];\n",
    "\n",
    "u1out = u1 * 0;\n",
    "center0 = int(y0_waveguide / dy);\n",
    "center1 = int(y1_waveguide / dy);\n",
    "center2 = int(y2_waveguide / dy);\n",
    "u1out[0 : - (center0 - center2)] = u1[center0 - center2 : ] * np.sqrt(percent1 / 100);\n",
    "u1out[center1 - center0 : ] = u1out[center1 - center0 : ] + u1[0 : - (center1 - center0)] * np.sqrt(percent2 / 100);\n",
    "\n",
    "u1stout = u1 * 0;\n",
    "u1stout[0 : - (center0 - center2)] = u1[center0 - center2 : ]# * np.sqrt(percent1 / 100)\n",
    "\n",
    "u2ndout = u1 * 0;\n",
    "u2ndout[center1 - center0 : ] = u1[0 : -(center1 - center0)]# * np.sqrt(percent2 / 100)\n",
    "\n",
    "fig, axes = plt.subplots(figsize=[3, 3])\n",
    "plt.plot(y, abs(u1out));\n",
    "#plt.ylim([0, 0.5])\n",
    "\n",
    "# prefactor for the power of j-th waveguide mode in x direction\n",
    "nu1 = np.real(np.sin(kxdx_eig))\n",
    "#nu2 = np.real(np.sin(kxdx_eig[1]))"
   ]
  },
  {
   "cell_type": "code",
   "execution_count": 123,
   "id": "feaf0fc0",
   "metadata": {},
   "outputs": [
    {
     "name": "stdout",
     "output_type": "stream",
     "text": [
      "The energy of the first channel is:  0.9999999889243871 .\n"
     ]
    }
   ],
   "source": [
    "u1stout_energy = abs(np.dot(np.reshape(u1stout, 144), np.reshape(u1stout, 144)))\n",
    "#u1stout_energy = abs(np.sum(u1stout ** 2))\n",
    "print(\"The energy of the first channel is: \", u1stout_energy, \".\")"
   ]
  },
  {
   "cell_type": "code",
   "execution_count": 124,
   "id": "1dc11a4e",
   "metadata": {},
   "outputs": [
    {
     "name": "stdout",
     "output_type": "stream",
     "text": [
      "The energy of the second channel is:  0.999999988924387 .\n"
     ]
    }
   ],
   "source": [
    "u2ndout_energy = abs(np.dot(np.reshape(u2ndout, 144), np.reshape(u2ndout, 144)))\n",
    "print(\"The energy of the second channel is: \", u2ndout_energy, \".\")"
   ]
  },
  {
   "cell_type": "code",
   "execution_count": 125,
   "id": "e747d7aa",
   "metadata": {},
   "outputs": [],
   "source": [
    "# psi_in(x,y) = u_j(y)*exp(i*kx_j*x)\n",
    "kx_1 = kxdx_eig/dx;\n",
    "u_1 = V\n",
    "psi_in = np.outer(u_1, np.exp(1j*kx_1*x)); #implicit expansion\n",
    "\n",
    "# dx^2 times the 2D wave operator for the waveguide + disk system\n",
    "# with effective outgoing boundary condition implemented using PML on all four sides.\n",
    "A = build_laplacian_2d_PML(nx, ny, N_PML, N_PML, N_PML, N_PML) + sparse.spdiags(k0dx**2*n.flatten('F')**2, 0, nx*ny, nx*ny);\n",
    "\n",
    "# dx^2 times the source profile b(x,y)\n",
    "# recall x = 0 is the surface of PML\n",
    "# n = N_PML + 1 => x_n = dx/2\n",
    "# put a surface source at x_n = dx/2, where we want psi_in to have\n",
    "# phase exp(1i*kx_1*dx/2)\n",
    "b = np.zeros([ny, nx], dtype='complex_');\n",
    "b[:, N_PML + 3 + 36 - 1] = 2j*nu1*u1[:,0]*np.exp(1j*kx_1*dx/2);\n",
    "#b = -b"
   ]
  },
  {
   "cell_type": "code",
   "execution_count": 126,
   "id": "65ffaefb",
   "metadata": {},
   "outputs": [
    {
     "data": {
      "image/png": "[encoded data removed]",
      "text/plain": [
       "<Figure size 576x432 with 2 Axes>"
      ]
     },
     "metadata": {
      "needs_background": "light"
     },
     "output_type": "display_data"
    }
   ],
   "source": [
    "fig, axes = plt.subplots(figsize=[8, 6])\n",
    "sns.heatmap(np.real(b))\n",
    "plt.show()"
   ]
  },
  {
   "cell_type": "code",
   "execution_count": 127,
   "id": "e6d9c178",
   "metadata": {},
   "outputs": [
    {
     "data": {
      "image/png": "[encoded data removed]",
      "text/plain": [
       "<Figure size 576x432 with 2 Axes>"
      ]
     },
     "metadata": {
      "needs_background": "light"
     },
     "output_type": "display_data"
    }
   ],
   "source": [
    "fig, axes = plt.subplots(figsize=[8, 6])\n",
    "sns.heatmap(np.imag(b))\n",
    "plt.show()"
   ]
  },
  {
   "cell_type": "code",
   "execution_count": 128,
   "id": "57c27a9f",
   "metadata": {},
   "outputs": [],
   "source": [
    "# solve A*(psi_out+psi_sca) = b, psi_out+psi_sca = psi_tot when x>0\n",
    "#psi_tot = np.reshape(sparse.linalg.spsolve(A,b.flatten('F')), [nx, ny])\n",
    "psi_tot = np.reshape(sparse.linalg.spsolve(A,b.flatten('F')), [ny, nx], order = 'F')\n",
    "#psi_tot = np.reshape(np.linalg.solve(np.array(A.todense()),b.flatten('F')), [ny, nx])"
   ]
  },
  {
   "cell_type": "code",
   "execution_count": 129,
   "id": "a42bea0b",
   "metadata": {},
   "outputs": [
    {
     "name": "stdout",
     "output_type": "stream",
     "text": [
      "0.08292679346740416\n"
     ]
    },
    {
     "name": "stderr",
     "output_type": "stream",
     "text": [
      "C:\\Users\\DELL\\AppData\\Local\\Temp/ipykernel_28104/765714267.py:6: MatplotlibDeprecationWarning: shading='flat' when X and Y have the same dimensions as C is deprecated since 3.3.  Either specify the corners of the quadrilaterals with X and Y, or pass shading='auto', 'nearest' or 'gouraud', or set rcParams['pcolor.shading'].  This will become an error two minor releases later.\n",
      "  plt.pcolormesh(x_meshgrid, y_meshgrid, np.log10(np.abs(psi_tot)**2), vmin = np.log10(0.004), vmax = np.log10(0.6), cmap = 'gist_heat_r')\n"
     ]
    },
    {
     "data": {
      "image/png": "[encoded data removed]",
      "text/plain": [
       "<Figure size 216x194.4 with 2 Axes>"
      ]
     },
     "metadata": {
      "needs_background": "light"
     },
     "output_type": "display_data"
    }
   ],
   "source": [
    "#fig, axes = plt.subplots(figsize=[4.5, 4])\n",
    "fig, axes = plt.subplots(figsize=[3, 2.7])\n",
    "#sns.heatmap(np.abs(psi_tot)**2)\n",
    "#plt.pcolormesh(x_meshgrid, y_meshgrid, np.log10(np.abs(psi_tot)**2), vmin = np.log10(0.6) - 2, vmax = np.log10(0.6), cmap = 'gist_heat_r')\n",
    "#plt.pcolormesh(x_meshgrid, y_meshgrid, np.log10(np.abs(psi_tot)**2), vmin = np.log10(0.6) - 2, vmax = np.log10(0.6), cmap = 'gist_heat_r')\n",
    "plt.pcolormesh(x_meshgrid, y_meshgrid, np.log10(np.abs(psi_tot)**2), vmin = np.log10(0.004), vmax = np.log10(0.6), cmap = 'gist_heat_r')\n",
    "#x_intensity_field = 0.1 * (x_meshgrid - np.min(x_meshgrid)) / (np.max(x_meshgrid) - np.min(x_meshgrid))\n",
    "#plt.pcolormesh(x_intensity_field, y_meshgrid, np.log10(x_intensity_field), vmin = np.log10(0.004), vmax = np.log10(0.6), cmap = 'gist_heat_r')\n",
    "print(np.max(np.abs(psi_tot)**2))\n",
    "plt.colorbar(orientation='horizontal')\n",
    "plt.xlim([x[0], x[-1]])\n",
    "plt.ylim([y[0], y[-1]])\n",
    "plt.axis('scaled')\n",
    "#plt.savefig('C:/Users/DELL/Desktop/2023年上半年学习和生活的文件/科研的文件/waveguide_structure_design/figures/intensity_transmission/intensity_field_45_colorbar.png', dpi = 450)\n",
    "plt.show()"
   ]
  },
  {
   "cell_type": "code",
   "execution_count": 130,
   "id": "eefd15b0",
   "metadata": {},
   "outputs": [],
   "source": [
    "regulation_connection_factor = 1.0 / (nx * ny * 4 * 10)\n",
    "n_prediction = np.where(n > 1.0, 3.5, n)#n.copy()\n",
    "continuous_control = np.abs(np.log(np.abs(psi_tot)) * (n_prediction - 1) / (3.5 - 1)) ** 2"
   ]
  },
  {
   "cell_type": "code",
   "execution_count": 131,
   "id": "63d33ad4",
   "metadata": {},
   "outputs": [
    {
     "name": "stdout",
     "output_type": "stream",
     "text": [
      "The connection loss is:  29033.504524967095 .\n"
     ]
    }
   ],
   "source": [
    "connection_loss = np.sum(continuous_control[ : , N_PML : nx - N_PML + 1])\n",
    "print(\"The connection loss is: \", connection_loss, \".\")"
   ]
  },
  {
   "cell_type": "code",
   "execution_count": 132,
   "id": "9637cd9b",
   "metadata": {},
   "outputs": [
    {
     "name": "stdout",
     "output_type": "stream",
     "text": [
      "The connection loss of large loss value is:  29033.504524967095 .\n"
     ]
    }
   ],
   "source": [
    "continuous_control_large = np.where(continuous_control >= 0.00009, continuous_control, 0)\n",
    "connection_loss_large = np.sum(continuous_control_large[ : , N_PML : nx - N_PML + 1])\n",
    "print(\"The connection loss of large loss value is: \", connection_loss_large, \".\")"
   ]
  },
  {
   "cell_type": "code",
   "execution_count": 133,
   "id": "0d621e7e",
   "metadata": {},
   "outputs": [
    {
     "name": "stderr",
     "output_type": "stream",
     "text": [
      "C:\\Users\\DELL\\AppData\\Local\\Temp/ipykernel_28104/4016499075.py:3: MatplotlibDeprecationWarning: shading='flat' when X and Y have the same dimensions as C is deprecated since 3.3.  Either specify the corners of the quadrilaterals with X and Y, or pass shading='auto', 'nearest' or 'gouraud', or set rcParams['pcolor.shading'].  This will become an error two minor releases later.\n",
      "  plt.pcolormesh(x_meshgrid[ : , N_PML : nx - N_PML + 1], y_meshgrid[ : , N_PML : nx - N_PML + 1], continuous_control_large[ : , N_PML : nx - N_PML + 1],\n"
     ]
    },
    {
     "data": {
      "image/png": "[encoded data removed]",
      "text/plain": [
       "<Figure size 360x216 with 2 Axes>"
      ]
     },
     "metadata": {
      "needs_background": "light"
     },
     "output_type": "display_data"
    }
   ],
   "source": [
    "fig, axes = plt.subplots(figsize=[5, 3])\n",
    "#sns.heatmap(np.abs(psi_tot)**2)\n",
    "plt.pcolormesh(x_meshgrid[ : , N_PML : nx - N_PML + 1], y_meshgrid[ : , N_PML : nx - N_PML + 1], continuous_control_large[ : , N_PML : nx - N_PML + 1], \n",
    "                cmap = 'gist_heat_r')\n",
    "plt.colorbar()\n",
    "plt.xlim([x[0], x[-1]])\n",
    "plt.ylim([y[0], y[-1]])\n",
    "plt.axis('scaled')\n",
    "plt.show()"
   ]
  },
  {
   "cell_type": "code",
   "execution_count": 134,
   "id": "54479791",
   "metadata": {},
   "outputs": [
    {
     "name": "stderr",
     "output_type": "stream",
     "text": [
      "C:\\Users\\DELL\\AppData\\Local\\Temp/ipykernel_28104/2087193959.py:3: MatplotlibDeprecationWarning: shading='flat' when X and Y have the same dimensions as C is deprecated since 3.3.  Either specify the corners of the quadrilaterals with X and Y, or pass shading='auto', 'nearest' or 'gouraud', or set rcParams['pcolor.shading'].  This will become an error two minor releases later.\n",
      "  plt.pcolormesh(x_meshgrid, y_meshgrid, np.real(psi_tot), vmin = -0.5, vmax = 0.5, cmap = 'seismic')\n"
     ]
    },
    {
     "data": {
      "image/png": "[encoded data removed]",
      "text/plain": [
       "<Figure size 360x216 with 2 Axes>"
      ]
     },
     "metadata": {
      "needs_background": "light"
     },
     "output_type": "display_data"
    }
   ],
   "source": [
    "fig, axes = plt.subplots(figsize=[5, 3])\n",
    "#sns.heatmap(np.real(psi_tot))\n",
    "plt.pcolormesh(x_meshgrid, y_meshgrid, np.real(psi_tot), vmin = -0.5, vmax = 0.5, cmap = 'seismic')\n",
    "plt.colorbar()\n",
    "plt.xlim([x[0], x[-1]])\n",
    "plt.ylim([y[0], y[-1]])\n",
    "plt.axis('scaled')\n",
    "plt.show()"
   ]
  },
  {
   "cell_type": "code",
   "execution_count": 135,
   "id": "7ea1ef5e",
   "metadata": {},
   "outputs": [
    {
     "name": "stderr",
     "output_type": "stream",
     "text": [
      "C:\\Users\\DELL\\AppData\\Local\\Temp/ipykernel_28104/457234102.py:3: MatplotlibDeprecationWarning: shading='flat' when X and Y have the same dimensions as C is deprecated since 3.3.  Either specify the corners of the quadrilaterals with X and Y, or pass shading='auto', 'nearest' or 'gouraud', or set rcParams['pcolor.shading'].  This will become an error two minor releases later.\n",
      "  plt.pcolormesh(x_meshgrid, y_meshgrid, np.imag(psi_tot), vmin = -0.5, vmax = 0.5, cmap = 'seismic')\n"
     ]
    },
    {
     "data": {
      "image/png": "[encoded data removed]",
      "text/plain": [
       "<Figure size 360x216 with 2 Axes>"
      ]
     },
     "metadata": {
      "needs_background": "light"
     },
     "output_type": "display_data"
    }
   ],
   "source": [
    "fig, axes = plt.subplots(figsize=[5, 3])\n",
    "#sns.heatmap(np.imag(psi_tot))\n",
    "plt.pcolormesh(x_meshgrid, y_meshgrid, np.imag(psi_tot), vmin = -0.5, vmax = 0.5, cmap = 'seismic')\n",
    "plt.colorbar()\n",
    "plt.xlim([x[0], x[-1]])\n",
    "plt.ylim([y[0], y[-1]])\n",
    "plt.axis('scaled')\n",
    "plt.show()"
   ]
  },
  {
   "cell_type": "code",
   "execution_count": 136,
   "id": "aad9ce93",
   "metadata": {},
   "outputs": [
    {
     "name": "stderr",
     "output_type": "stream",
     "text": [
      "C:\\Users\\DELL\\AppData\\Local\\Temp/ipykernel_28104/3669963373.py:3: MatplotlibDeprecationWarning: shading='flat' when X and Y have the same dimensions as C is deprecated since 3.3.  Either specify the corners of the quadrilaterals with X and Y, or pass shading='auto', 'nearest' or 'gouraud', or set rcParams['pcolor.shading'].  This will become an error two minor releases later.\n",
      "  plt.pcolormesh(x_meshgrid, y_meshgrid, np.abs(psi_tot), vmin = -1.0, vmax = 1.0, cmap = 'seismic')\n"
     ]
    },
    {
     "data": {
      "image/png": "[encoded data removed]",
      "text/plain": [
       "<Figure size 360x216 with 2 Axes>"
      ]
     },
     "metadata": {
      "needs_background": "light"
     },
     "output_type": "display_data"
    }
   ],
   "source": [
    "fig, axes = plt.subplots(figsize=[5, 3])\n",
    "#sns.heatmap(np.real(psi_tot))\n",
    "plt.pcolormesh(x_meshgrid, y_meshgrid, np.abs(psi_tot), vmin = -1.0, vmax = 1.0, cmap = 'seismic')\n",
    "plt.colorbar()\n",
    "plt.xlim([x[0], x[-1]])\n",
    "plt.ylim([y[0], y[-1]])\n",
    "plt.axis('scaled')\n",
    "plt.show()"
   ]
  },
  {
   "cell_type": "code",
   "execution_count": 137,
   "id": "47949ce2",
   "metadata": {},
   "outputs": [
    {
     "data": {
      "image/png": "[encoded data removed]",
      "text/plain": [
       "<Figure size 158.4x147.6 with 1 Axes>"
      ]
     },
     "metadata": {
      "needs_background": "light"
     },
     "output_type": "display_data"
    }
   ],
   "source": [
    "#fig, axes = plt.subplots(figsize=[3, 3])\n",
    "fig, axes = plt.subplots(figsize=[2.2, 2.05])\n",
    "#fig, axes = plt.subplots(figsize=[4, 2.05])\n",
    "plt.plot(y, abs(u1out) ** 2, '-', label = 'Target')#'Designed'#plt.plot(y, abs(u1out), '-', label = 'Target')#'Designed'\n",
    "plt.plot(y, abs(psi_tot[ : ,- N_PML - 1]) ** 2, 'r--', label = 'Actual');#plt.plot(y, abs(psi_tot[ : ,- N_PML - 1]), 'r--', label = 'Actual');\n",
    "#plt.plot(y, abs(psi_tot[ : ,- N_PML - 1 - 10]), 'r-', label = 'Actual');\n",
    "#plt.xlim([x[0], x[-1]])\n",
    "plt.ylim([0, 0.08])#plt.ylim([0, 0.30])\n",
    "#hold on;\n",
    "#plt.plot(y, (n[ : , - N_PML - 1] - 1) / 12.5, 'r-');\n",
    "#hold off;\n",
    "plt.legend(loc = 0)\n",
    "#plt.savefig('C:/Users/DELL/Desktop/2023年上半年学习和生活的文件/科研的文件/waveguide_structure_design/figures/structure_outputs/intensity_output_50_full.png', dpi = 450, pad_inches = 0.3)\n",
    "plt.show()"
   ]
  },
  {
   "cell_type": "code",
   "execution_count": 138,
   "id": "ef451c8e",
   "metadata": {},
   "outputs": [],
   "source": [
    "psi_transmission_total = np.zeros([ny, nx])\n",
    "for xi in range(0, nx - 1):\n",
    "    psi_transmission_total[ : , xi] = np.imag(np.conjugate(psi_tot[:, xi]) * psi_tot[:, xi + 1]) / np.sin(kx_1 * (x[1] - x[0]))"
   ]
  },
  {
   "cell_type": "code",
   "execution_count": 139,
   "id": "409ada1c",
   "metadata": {},
   "outputs": [],
   "source": [
    "#psi_transmission_total_shape = np.reshape(psi_transmission_total, [ny, nx])"
   ]
  },
  {
   "cell_type": "code",
   "execution_count": 140,
   "id": "4eee9f01",
   "metadata": {},
   "outputs": [
    {
     "name": "stderr",
     "output_type": "stream",
     "text": [
      "C:\\Users\\DELL\\AppData\\Local\\Temp/ipykernel_28104/4103745696.py:2: MatplotlibDeprecationWarning: shading='flat' when X and Y have the same dimensions as C is deprecated since 3.3.  Either specify the corners of the quadrilaterals with X and Y, or pass shading='auto', 'nearest' or 'gouraud', or set rcParams['pcolor.shading'].  This will become an error two minor releases later.\n",
      "  plt.pcolormesh(x_meshgrid[ : , N_PML : -N_PML - 1], y_meshgrid[ : , N_PML : -N_PML - 1], np.abs(psi_transmission_total[ : , N_PML : -N_PML - 1]), norm = LogNorm(vmax = 0.6, vmin = 0.001), cmap = 'gist_heat_r')\n"
     ]
    },
    {
     "data": {
      "image/png": "[encoded data removed]",
      "text/plain": [
       "<Figure size 216x151.2 with 1 Axes>"
      ]
     },
     "metadata": {
      "needs_background": "light"
     },
     "output_type": "display_data"
    }
   ],
   "source": [
    "fig, axex = plt.subplots(figsize = [3, 2.1])#figsize = [4, 2.7] 9 6 #figsize = [3, 2.7]\n",
    "plt.pcolormesh(x_meshgrid[ : , N_PML : -N_PML - 1], y_meshgrid[ : , N_PML : -N_PML - 1], np.abs(psi_transmission_total[ : , N_PML : -N_PML - 1]), norm = LogNorm(vmax = 0.6, vmin = 0.001), cmap = 'gist_heat_r')\n",
    "#plt.pcolormesh(x_meshgrid, y_meshgrid, np.log10(np.abs(psi_transmission_total)), vmin = np.log10(0.001), vmax = np.log10(0.6), cmap = 'gist_heat_r')#'autumn_r''YlOrRd''hot_r''afmhot_r''seismic''Reds'\n",
    "plt.xlim([x[N_PML], x[-N_PML - 1]])#plt.xlim([x[0], x[-1]])\n",
    "plt.ylim([y[0], y[-1]])\n",
    "plt.axis('scaled')\n",
    "#plt.colorbar(orientation = 'horizontal')\n",
    "plt.savefig('C:/Users/DELL/Desktop/2023年上半年学习和生活的文件/科研的文件/waveguide_structure_design/figures/poynting_flux/intensity_45_55.png', dpi = 650)\n",
    "plt.show()"
   ]
  },
  {
   "cell_type": "code",
   "execution_count": 38,
   "id": "e3c6fee9",
   "metadata": {},
   "outputs": [],
   "source": [
    "#psi_transmission_input = np.imag(np.conjugate(2j*u1[:,0]*np.exp(1j*kx_1*(dx/2+dx))) * (2j*u1[:,0]*np.exp(1j*kx_1*dx/2)))\n",
    "#psi_transmission_input = np.imag(np.conjugate(psi_out[:,1]) * (psi_in[:,0]))\n",
    "#psi_transmission_input = psi_transmission_input / np.sin(kx_1 * (x[1] - x[0]))\n",
    "#psi_transmission_input\n",
    "psi_target = np.outer(u1out, np.exp(1j * kx_1 * x))\n",
    "psi_transmission_target = np.imag(np.conjugate(psi_target[:,1]) * (psi_target[:,0]))\n",
    "psi_transmission_target = psi_transmission_target / np.sin(kx_1 * (x[1] - x[0]))\n",
    "#psi_transmission_target"
   ]
  },
  {
   "cell_type": "code",
   "execution_count": 43,
   "id": "52041e1e",
   "metadata": {},
   "outputs": [
    {
     "data": {
      "image/png": "[encoded data removed]",
      "text/plain": [
       "<Figure size 187.2x147.6 with 1 Axes>"
      ]
     },
     "metadata": {
      "needs_background": "light"
     },
     "output_type": "display_data"
    }
   ],
   "source": [
    "#fig, axes = plt.subplots(figsize=[3, 3])\n",
    "fig, axes = plt.subplots(figsize=[2.6, 2.05])#figsize=[2.2, 2.05] figsize=[2.4, 2.05] figsize=[1.6, 1.6] figsize=[2.1, 2.05] figsize=[2.2, 2.05] figsize=[2.3, 2.05]\n",
    "#fig, axes = plt.subplots(figsize=[4, 2.05])\n",
    "#plt.plot(y, abs(u1out) ** 2, '-', label = 'Target')\n",
    "plt.plot(y, abs(psi_transmission_target) * 10, '-', label = 'Target')\n",
    "#plt.plot(y, np.imag(np.conjugate(u1out) * u1out) / np.sin(kx_1 * (x[1] - x[0])), '-', label = 'Target')#'Designed'#plt.plot(y, abs(u1out), '-', label = 'Target')#'Designed'\n",
    "plt.plot(y, abs(psi_transmission_total[ : ,- N_PML - 1]) * 10, 'r--', label = 'Actual');#plt.plot(y, abs(psi_tot[ : ,- N_PML - 1]), 'r--', label = 'Actual');\n",
    "#plt.plot(y, abs(psi_tot[ : ,- N_PML - 1 - 10]), 'r-', label = 'Actual');\n",
    "#plt.xlim([x[0], x[-1]])\n",
    "plt.ylim([0, 0.8])#plt.ylim([0, 0.30]) #[0, 0.08]\n",
    "#hold on;\n",
    "#plt.plot(y, (n[ : , - N_PML - 1] - 1) / 12.5, 'r-');\n",
    "#hold off;\n",
    "plt.legend(loc = 0)\n",
    "#plt.savefig('C:/Users/DELL/Desktop/2023年上半年学习和生活的文件/科研的文件/waveguide_structure_design/figures/structure_outputs/intensity_output_45_full.png', dpi = 450, pad_inches = 0.3)\n",
    "plt.savefig('C:/Users/DELL/Desktop/2023年上半年学习和生活的文件/科研的文件/waveguide_structure_design/figures/poynting_flux/intensity_output_50_50_full.svg', dpi = 650, pad_inches = 0.5)\n",
    "plt.show()"
   ]
  },
  {
   "cell_type": "code",
   "execution_count": 216,
   "id": "f551bd22",
   "metadata": {},
   "outputs": [
    {
     "data": {
      "text/plain": [
       "array([[2.47501411e-09+0.j],\n",
       "       [3.65513220e-09+0.j],\n",
       "       [5.39794406e-09+0.j],\n",
       "       [7.97174853e-09+0.j],\n",
       "       [1.17727723e-08+0.j],\n",
       "       [1.73861677e-08+0.j],\n",
       "       [2.56760942e-08+0.j],\n",
       "       [3.79187522e-08+0.j],\n",
       "       [5.59988493e-08+0.j],\n",
       "       [8.26997432e-08+0.j],\n",
       "       [1.22131928e-07+0.j],\n",
       "       [1.80365830e-07+0.j],\n",
       "       [2.66366320e-07+0.j],\n",
       "       [3.93372826e-07+0.j],\n",
       "       [5.80937485e-07+0.j],\n",
       "       [8.57935116e-07+0.j],\n",
       "       [1.26700838e-06+0.j],\n",
       "       [1.87113245e-06+0.j],\n",
       "       [2.76330977e-06+0.j],\n",
       "       [4.08088743e-06+0.j],\n",
       "       [6.02670116e-06+0.j],\n",
       "       [8.90030109e-06+0.j],\n",
       "       [1.31440663e-05+0.j],\n",
       "       [1.94113072e-05+0.j],\n",
       "       [2.86668402e-05+0.j],\n",
       "       [4.23355170e-05+0.j],\n",
       "       [6.25215750e-05+0.j],\n",
       "       [9.23325758e-05+0.j],\n",
       "       [1.36357794e-04+0.j],\n",
       "       [2.01374760e-04+0.j],\n",
       "       [2.97392918e-04+0.j],\n",
       "       [4.39193538e-04+0.j],\n",
       "       [6.48601422e-04+0.j],\n",
       "       [9.57848337e-04+0.j],\n",
       "       [1.41455153e-03+0.j],\n",
       "       [2.08905315e-03+0.j],\n",
       "       [3.08523667e-03+0.j],\n",
       "       [4.55649904e-03+0.j],\n",
       "       [6.72935418e-03+0.j],\n",
       "       [9.93830473e-03+0.j],\n",
       "       [1.34632436e-02+0.j],\n",
       "       [1.71183348e-02+0.j],\n",
       "       [2.07108979e-02+0.j],\n",
       "       [2.40515711e-02+0.j],\n",
       "       [2.69642968e-02+0.j],\n",
       "       [2.92956065e-02+0.j],\n",
       "       [3.09227138e-02+0.j],\n",
       "       [3.17599875e-02+0.j],\n",
       "       [3.17634601e-02+0.j],\n",
       "       [3.09331319e-02+0.j],\n",
       "       [2.93129593e-02+0.j],\n",
       "       [2.69885296e-02+0.j],\n",
       "       [2.40825282e-02+0.j],\n",
       "       [2.07482427e-02+0.j],\n",
       "       [1.71614448e-02+0.j],\n",
       "       [1.35110766e-02+0.j],\n",
       "       [9.98923040e-03+0.j],\n",
       "       [6.78094759e-03+0.j],\n",
       "       [4.60853463e-03+0.j],\n",
       "       [3.13755736e-03+0.j],\n",
       "       [2.14156477e-03+0.j],\n",
       "       [1.46722786e-03+0.j],\n",
       "       [1.01073519e-03+0.j],\n",
       "       [7.01811567e-04+0.j],\n",
       "       [4.92899447e-04+0.j],\n",
       "       [3.51837660e-04+0.j],\n",
       "       [2.56910313e-04+0.j],\n",
       "       [1.93503729e-04+0.j],\n",
       "       [1.51856719e-04+0.j],\n",
       "       [1.25557896e-04+0.j],\n",
       "       [1.10558662e-04+0.j],\n",
       "       [1.04549946e-04+0.j],\n",
       "       [1.06606731e-04+0.j],\n",
       "       [1.17045651e-04+0.j],\n",
       "       [1.37473734e-04+0.j],\n",
       "       [1.71035802e-04+0.j],\n",
       "       [2.22898599e-04+0.j],\n",
       "       [3.01046191e-04+0.j],\n",
       "       [4.17509085e-04+0.j],\n",
       "       [5.90216269e-04+0.j],\n",
       "       [8.45755315e-04+0.j],\n",
       "       [1.22346542e-03+0.j],\n",
       "       [1.78149353e-03+0.j],\n",
       "       [2.60574581e-03+0.j],\n",
       "       [3.82311255e-03+0.j],\n",
       "       [5.62100243e-03+0.j],\n",
       "       [8.27619329e-03+0.j],\n",
       "       [1.21974410e-02+0.j],\n",
       "       [1.65024185e-02+0.j],\n",
       "       [2.09647863e-02+0.j],\n",
       "       [2.53496319e-02+0.j],\n",
       "       [2.94259283e-02+0.j],\n",
       "       [3.29787739e-02+0.j],\n",
       "       [3.58207698e-02+0.j],\n",
       "       [3.78019367e-02+0.j],\n",
       "       [3.88176504e-02+0.j],\n",
       "       [3.88141779e-02+0.j],\n",
       "       [3.77915192e-02+0.j],\n",
       "       [3.58034180e-02+0.j],\n",
       "       [3.29545428e-02+0.j],\n",
       "       [2.93949738e-02+0.j],\n",
       "       [2.53122909e-02+0.j],\n",
       "       [2.09216819e-02+0.j],\n",
       "       [1.64545938e-02+0.j],\n",
       "       [1.21465278e-02+0.j],\n",
       "       [8.22461825e-03+0.j],\n",
       "       [5.56899397e-03+0.j],\n",
       "       [3.77083195e-03+0.j],\n",
       "       [2.55329338e-03+0.j],\n",
       "       [1.72890462e-03+0.j],\n",
       "       [1.17070767e-03+0.j],\n",
       "       [7.92735823e-04+0.j],\n",
       "       [5.36791917e-04+0.j],\n",
       "       [3.63480150e-04+0.j],\n",
       "       [2.46124706e-04+0.j],\n",
       "       [1.66659527e-04+0.j],\n",
       "       [1.12850926e-04+0.j],\n",
       "       [7.64152583e-05+0.j],\n",
       "       [5.17434096e-05+0.j],\n",
       "       [3.50372491e-05+0.j],\n",
       "       [2.37249310e-05+0.j],\n",
       "       [1.60649699e-05+0.j],\n",
       "       [1.08781458e-05+0.j],\n",
       "       [7.36596808e-06+0.j],\n",
       "       [4.98775130e-06+0.j],\n",
       "       [3.37737861e-06+0.j],\n",
       "       [2.28693966e-06+0.j],\n",
       "       [1.54856580e-06+0.j],\n",
       "       [1.04858736e-06+0.j],\n",
       "       [7.10034704e-07+0.j],\n",
       "       [4.80789010e-07+0.j],\n",
       "       [3.25558836e-07+0.j],\n",
       "       [2.20447125e-07+0.j],\n",
       "       [1.49272357e-07+0.j],\n",
       "       [1.01077464e-07+0.j],\n",
       "       [6.84430380e-08+0.j],\n",
       "       [4.63451415e-08+0.j],\n",
       "       [3.13818929e-08+0.j],\n",
       "       [2.12497606e-08+0.j],\n",
       "       [1.43889440e-08+0.j],\n",
       "       [9.74324820e-09+0.j],\n",
       "       [6.59748719e-09+0.j],\n",
       "       [4.46738380e-09+0.j],\n",
       "       [3.02501725e-09+0.j]])"
      ]
     },
     "execution_count": 216,
     "metadata": {},
     "output_type": "execute_result"
    }
   ],
   "source": [
    "np.conjugate(u1out) * u1out"
   ]
  },
  {
   "cell_type": "code",
   "execution_count": 99,
   "id": "c4aa91e4",
   "metadata": {},
   "outputs": [],
   "source": [
    "#psi_tot_continue = psi_tot"
   ]
  },
  {
   "cell_type": "code",
   "execution_count": 100,
   "id": "3681bc5a",
   "metadata": {},
   "outputs": [],
   "source": [
    "# fig, axes = plt.subplots(figsize=[3, 3])\n",
    "# plt.plot(y, abs(u1out), '--', label = 'Designed')\n",
    "# plt.plot(y, abs(psi_tot_continue[ : ,- N_PML - 1]), 'g-', label = 'Continue');\n",
    "# plt.plot(y, abs(psi_tot[ : ,- N_PML - 1]), 'r-', label = 'Binary');\n",
    "# #plt.plot(y, abs(psi_tot[ : ,- N_PML - 1 - 10]), 'r-', label = 'Actual');\n",
    "# #plt.xlim([x[0], x[-1]])\n",
    "# plt.ylim([0, 0.5])\n",
    "# #hold on;\n",
    "# #plt.plot(y, (n[ : , - N_PML - 1] - 1) / 12.5, 'r-');\n",
    "# #hold off;\n",
    "# plt.legend(loc = 1)\n",
    "# plt.show()"
   ]
  },
  {
   "cell_type": "code",
   "execution_count": 101,
   "id": "ec2a89c5",
   "metadata": {},
   "outputs": [
    {
     "data": {
      "image/png": "[encoded data removed]",
      "text/plain": [
       "<Figure size 576x432 with 1 Axes>"
      ]
     },
     "metadata": {
      "needs_background": "light"
     },
     "output_type": "display_data"
    }
   ],
   "source": [
    "fig, axes = plt.subplots(figsize=[8, 6])\n",
    "plt.plot(y, abs(psi_tot[ : , N_PML]));\n",
    "#hold on;\n",
    "plt.plot(y, (n[ : , N_PML] - 1) / 12.5, 'r-');\n",
    "#hold off;"
   ]
  },
  {
   "cell_type": "code",
   "execution_count": 102,
   "id": "18e5642b",
   "metadata": {},
   "outputs": [],
   "source": [
    "# (transmitted power)/(incident power) into each waveguide mode\n",
    "# reacall incident wave is in 1st mode\n",
    "# at y = 0\n",
    "# need to use modes of the outgoing (vertical) waveguides, which in this\n",
    "# geometry is the same as modes of the incoming (horizontal) waveguide.\n",
    "ind_T = nx - N_PML - 3 - 36 + 1;\n",
    "T1out = abs(np.dot(u1out[:,0].T,(psi_tot[:,ind_T].T)))**2\n",
    "#T1out = abs(np.dot(np.reshape(np.conjugate(u1out), 144), np.reshape(psi_tot[:,ind_T], [144])))**2\n",
    "#T1out = np.sum((np.abs(np.abs(u1out[:,0].T) - np.abs(psi_tot[:,ind_T].T)))**2) "
   ]
  },
  {
   "cell_type": "code",
   "execution_count": 103,
   "id": "3333e8f5",
   "metadata": {},
   "outputs": [
    {
     "data": {
      "text/plain": [
       "0.9762053065005755"
      ]
     },
     "execution_count": 103,
     "metadata": {},
     "output_type": "execute_result"
    }
   ],
   "source": [
    "T1out"
   ]
  },
  {
   "cell_type": "code",
   "execution_count": 104,
   "id": "e5d5216f",
   "metadata": {},
   "outputs": [
    {
     "name": "stdout",
     "output_type": "stream",
     "text": [
      "The transmitted percentage of the 1st channel is:  [0.21577576] .\n",
      "The transmitted percentage of the 2nd channel is:  [0.78422424] .\n"
     ]
    }
   ],
   "source": [
    "T1out1st = abs(np.dot(u1stout.T, psi_tot[:,ind_T].T))**2\n",
    "T1out2nd = abs(np.dot(u2ndout.T, psi_tot[:,ind_T].T))**2\n",
    "print(\"The transmitted percentage of the 1st channel is: \", T1out1st / (T1out1st + T1out2nd), \".\")\n",
    "print(\"The transmitted percentage of the 2nd channel is: \", T1out2nd / (T1out1st + T1out2nd), \".\")"
   ]
  },
  {
   "cell_type": "code",
   "execution_count": 825,
   "id": "8081e5ca",
   "metadata": {},
   "outputs": [
    {
     "name": "stdout",
     "output_type": "stream",
     "text": [
      "The total transmitted power is:  [0.99395704] .\n",
      "The transmitted power of the 1st channel is:  [0.23694889] .\n",
      "The transmitted power of the 2nd channel is:  [0.75700815] .\n"
     ]
    }
   ],
   "source": [
    "T1out = T1out1st + T1out2nd\n",
    "print(\"The total transmitted power is: \", T1out, \".\")\n",
    "print(\"The transmitted power of the 1st channel is: \", T1out1st, \".\")\n",
    "print(\"The transmitted power of the 2nd channel is: \", T1out2nd, \".\")"
   ]
  },
  {
   "cell_type": "code",
   "execution_count": 826,
   "id": "19a90210",
   "metadata": {},
   "outputs": [
    {
     "name": "stdout",
     "output_type": "stream",
     "text": [
      "The total transmitted power is:  0.9939538325141877 .\n",
      "The transmitted power of the 1st channel is:  0.236946665501876 .\n",
      "The transmitted power of the 2nd channel is:  0.7570071670123116 .\n"
     ]
    }
   ],
   "source": [
    "#The total transmitted power is:  0.9919783976504595 .\n",
    "#The transmitted power of the 1st channel is:  0.33882240109661577 .\n",
    "#The transmitted power of the 2nd channel is:  0.6531559965538437 .\n",
    "T1out1st = abs(np.dot(np.reshape(np.conjugate(u1stout), 144), np.reshape(psi_tot[:,ind_T], [144])))**2# / u1stout_energy\n",
    "T1out2nd = abs(np.dot(np.reshape(np.conjugate(u2ndout), 144), np.reshape(psi_tot[:,ind_T], [144])))**2# / u2ndout_energy\n",
    "#print(\"The transmitted percentage of the 1st channel is: \", T1out1st / (T1out1st + T1out2nd), \".\")\n",
    "#print(\"The transmitted percentage of the 2nd channel is: \", T1out2nd / (T1out1st + T1out2nd), \".\")\n",
    "                   \n",
    "T1out_channel = T1out1st + T1out2nd\n",
    "print(\"The total transmitted power is: \", T1out_channel, \".\")\n",
    "print(\"The transmitted power of the 1st channel is: \", T1out1st, \".\")\n",
    "print(\"The transmitted power of the 2nd channel is: \", T1out2nd, \".\")"
   ]
  },
  {
   "cell_type": "code",
   "execution_count": 827,
   "id": "a57ca5e3",
   "metadata": {},
   "outputs": [],
   "source": [
    "psi_out_energy = abs(sum(psi_tot[:,ind_T]**2))"
   ]
  },
  {
   "cell_type": "code",
   "execution_count": 828,
   "id": "65db8860",
   "metadata": {},
   "outputs": [
    {
     "data": {
      "text/plain": [
       "0.9427220821963542"
      ]
     },
     "execution_count": 828,
     "metadata": {},
     "output_type": "execute_result"
    }
   ],
   "source": [
    "psi_out_energy"
   ]
  },
  {
   "cell_type": "code",
   "execution_count": 829,
   "id": "12a3c2dd",
   "metadata": {},
   "outputs": [],
   "source": [
    "psi_transmission_energy = np.imag(np.dot(psi_tot[:, ind_T], psi_tot[:, ind_T + 1].T)) / np.sin(kx_1 * 2 * (x[ind_T] + (x[10] - x[0])))"
   ]
  },
  {
   "cell_type": "code",
   "execution_count": 830,
   "id": "21c14d22",
   "metadata": {},
   "outputs": [],
   "source": [
    "#psi_transmission_energy[:,ind_T]"
   ]
  },
  {
   "cell_type": "code",
   "execution_count": 831,
   "id": "609e950b",
   "metadata": {},
   "outputs": [],
   "source": [
    "psi_transmission_total = np.zeros([nx, 1])\n",
    "for xi in range(0, nx - 1):\n",
    "    psi_transmission_total[xi] = np.imag(np.dot(np.conjugate(psi_tot[:, xi]), psi_tot[:, xi + 1].T)) / np.sin(kx_1 * (x[1] - x[0]))"
   ]
  },
  {
   "cell_type": "code",
   "execution_count": 832,
   "id": "fd26cf1e",
   "metadata": {},
   "outputs": [
    {
     "data": {
      "text/plain": [
       "array([0.99590068])"
      ]
     },
     "execution_count": 832,
     "metadata": {},
     "output_type": "execute_result"
    }
   ],
   "source": [
    "psi_transmission_total[ind_T]"
   ]
  },
  {
   "cell_type": "code",
   "execution_count": 833,
   "id": "f3a690bf",
   "metadata": {},
   "outputs": [],
   "source": [
    "psi_transmission_bottom_continuous = np.zeros([nx, 1])\n",
    "for xi in range(0, nx - 1):\n",
    "    #psi_transmission_bottom_continuous[xi] = np.imag(np.dot(np.conjugate(psi_tot[39 : 57, xi]), psi_tot[39 : 57, xi + 1].T)) / np.sin(kx_1 * (x[1] - x[0]))\n",
    "    psi_transmission_bottom_continuous[xi] = np.imag(np.dot(np.conjugate(psi_tot[0 : 72, xi]), psi_tot[0 : 72, xi + 1].T)) / np.sin(kx_1 * (x[1] - x[0]))"
   ]
  },
  {
   "cell_type": "code",
   "execution_count": 834,
   "id": "f70d41f7",
   "metadata": {},
   "outputs": [],
   "source": [
    "psi_transmission_top_continuous = np.zeros([nx, 1])\n",
    "for xi in range(0, nx - 1):\n",
    "    #psi_transmission_top_continuous[xi] = np.imag(np.dot(np.conjugate(psi_tot[87 : 105, xi]), psi_tot[87 : 105, xi + 1].T)) / np.sin(kx_1 * (x[1] - x[0]))\n",
    "    psi_transmission_top_continuous[xi] = np.imag(np.dot(np.conjugate(psi_tot[72 : 144, xi]), psi_tot[72 : 144, xi + 1].T)) / np.sin(kx_1 * (x[1] - x[0]))"
   ]
  },
  {
   "cell_type": "code",
   "execution_count": 835,
   "id": "c417e34e",
   "metadata": {},
   "outputs": [
    {
     "name": "stdout",
     "output_type": "stream",
     "text": [
      "The transmission of each waveguide is:  [array([0.75722871]), array([0.23867197])] .\n"
     ]
    }
   ],
   "source": [
    "print(\"The transmission of each waveguide is: \", [psi_transmission_top_continuous[ind_T], psi_transmission_bottom_continuous[ind_T]], \".\")"
   ]
  },
  {
   "cell_type": "code",
   "execution_count": 836,
   "id": "2e87b248",
   "metadata": {},
   "outputs": [
    {
     "name": "stdout",
     "output_type": "stream",
     "text": [
      "The transmission percentage of each waveguide is:  [array([0.76034561]), array([0.23965439])] .\n"
     ]
    }
   ],
   "source": [
    "total_transmitted_energy = psi_transmission_top_continuous[ind_T] + psi_transmission_bottom_continuous[ind_T]\n",
    "psi_transmission_percentage_top = psi_transmission_top_continuous[ind_T] / total_transmitted_energy\n",
    "psi_transmission_percentage_bottom = psi_transmission_bottom_continuous[ind_T] / total_transmitted_energy\n",
    "print(\"The transmission percentage of each waveguide is: \", [psi_transmission_percentage_top, psi_transmission_percentage_bottom], \".\")"
   ]
  },
  {
   "cell_type": "code",
   "execution_count": 837,
   "id": "5d726129",
   "metadata": {},
   "outputs": [
    {
     "data": {
      "text/plain": [
       "0.20550447787559636"
      ]
     },
     "execution_count": 837,
     "metadata": {},
     "output_type": "execute_result"
    }
   ],
   "source": [
    "np.sin(kx_1 * (x[1] - x[0]))"
   ]
  },
  {
   "cell_type": "code",
   "execution_count": 838,
   "id": "b5079a78",
   "metadata": {},
   "outputs": [
    {
     "data": {
      "text/plain": [
       "array([0.99590068])"
      ]
     },
     "execution_count": 838,
     "metadata": {},
     "output_type": "execute_result"
    }
   ],
   "source": [
    "#[x, psi_transmission_total]\n",
    "psi_transmission_total[ind_T]\n",
    "#np.sin(kx_1 * 2 * (x[ind_T] + 0.125))\n",
    "#np.divide(psi_transmission_total, -np.sin(kx_1 * 2 * (x)))"
   ]
  },
  {
   "cell_type": "code",
   "execution_count": 839,
   "id": "7ee4357e",
   "metadata": {},
   "outputs": [
    {
     "data": {
      "text/plain": [
       "[<matplotlib.lines.Line2D at 0x244cd1dac10>]"
      ]
     },
     "execution_count": 839,
     "metadata": {},
     "output_type": "execute_result"
    },
    {
     "data": {
      "image/png": "[encoded data removed]",
      "text/plain": [
       "<Figure size 576x432 with 1 Axes>"
      ]
     },
     "metadata": {
      "needs_background": "light"
     },
     "output_type": "display_data"
    }
   ],
   "source": [
    "fig, axes = plt.subplots(figsize=[8, 6])\n",
    "#plt.plot(x, np.sin(kx_1 * 2 * (x + (x[10] - x[0]))));\n",
    "#hold on;\n",
    "#plt.plot(x, (n[72 , : ] - 1) / 2.5, 'r-');\n",
    "plt.plot(x, psi_transmission_total, 'g-')\n",
    "#plt.plot(x[ind_T], np.imag(np.dot(psi_tot[:, ind_T], psi_tot[:, ind_T + 1].T)), 'y*')\n",
    "#plt.plot(x[ind_T], np.sin(kx_1 * 2 * (x[ind_T] + (x[10] - x[0]))), 'b*')\n",
    "#hold off;"
   ]
  },
  {
   "cell_type": "code",
   "execution_count": 840,
   "id": "80f22dbd",
   "metadata": {},
   "outputs": [
    {
     "data": {
      "text/plain": [
       "-0.37673335266793406"
      ]
     },
     "execution_count": 840,
     "metadata": {},
     "output_type": "execute_result"
    }
   ],
   "source": [
    "psi_transmission_energy"
   ]
  },
  {
   "cell_type": "code",
   "execution_count": 841,
   "id": "c528d35d",
   "metadata": {},
   "outputs": [],
   "source": [
    "psi_leak_energy = abs(sum(psi_tot[ny - N_PML - 1, : ]**2))"
   ]
  },
  {
   "cell_type": "code",
   "execution_count": 842,
   "id": "33ee46ad",
   "metadata": {},
   "outputs": [
    {
     "data": {
      "text/plain": [
       "0.005417921525156815"
      ]
     },
     "execution_count": 842,
     "metadata": {},
     "output_type": "execute_result"
    }
   ],
   "source": [
    "psi_leak_energy"
   ]
  },
  {
   "cell_type": "code",
   "execution_count": 686,
   "id": "38374d9c",
   "metadata": {},
   "outputs": [],
   "source": [
    "best_out_energy = abs(sum(u1out**2))"
   ]
  },
  {
   "cell_type": "code",
   "execution_count": 687,
   "id": "ab269d58",
   "metadata": {},
   "outputs": [
    {
     "data": {
      "text/plain": [
       "array([1.00224658])"
      ]
     },
     "execution_count": 687,
     "metadata": {},
     "output_type": "execute_result"
    }
   ],
   "source": [
    "best_out_energy"
   ]
  },
  {
   "cell_type": "code",
   "execution_count": 154,
   "id": "593a396b",
   "metadata": {},
   "outputs": [
    {
     "name": "stdout",
     "output_type": "stream",
     "text": [
      "5.256556516585158e-06\n",
      "find point: ( 0.525 0.44166666666666665 ).\n",
      "original:  1.0000238418579102 .\n",
      "updated:  1.0 .\n"
     ]
    }
   ],
   "source": [
    "ntransmit_simulationregion = n[9 : 39, 9 : 39]\n",
    "ntransmit_resize = n[27 : 117, 63 : 153]\n",
    "\n",
    "ntransmit_3interpolation = np.zeros([144, 216])\n",
    "for iy in range(0, 144, 3):\n",
    "    for ix in range(0, 216, 3):\n",
    "        ntransmit_3interpolation[iy : iy + 3, ix : ix + 3] = np.ones([3, 3]) * ntransmit[int(iy / 3), int(ix / 3)]\n",
    "ntransmit_3interpolation[27 : 117, 63 : 153] = ntransmit_resize\n",
    "n = ntransmit_3interpolation\n",
    "\n",
    "n_waveguide_control = n.copy()\n",
    "n_waveguide_control1 = n_waveguide_control[N_PML + 3 : ny - N_PML - 3, N_PML + 3 + 36 : nx - N_PML - 3 - 36]\n",
    "n_waveguide_control2 = n_waveguide_control1.copy()\n",
    "n_waveguide_control1 = np.exp(-(continuous_control[N_PML + 3 : ny - N_PML - 3, N_PML + 3 + 36 : nx - N_PML - 3 - 36]))\n",
    "#n_waveguide_control1 = continuous_control[N_PML + 3 : ny - N_PML - 3, N_PML + 3 + 36 : nx - N_PML - 3 - 36]\n",
    "n_waveguide_control_watch = n_waveguide_control1.copy()\n",
    "n_waveguide_control_threshold = np.exp(-continuous_control)\n",
    "\n",
    "energy1 = np.mean(n_waveguide_control_threshold[39 : 57, ind_T : ind_T + 5])\n",
    "energy2 = np.mean(n_waveguide_control_threshold[87 : 105, ind_T : ind_T + 5])\n",
    "small_energy = energy1\n",
    "if energy1 >= energy2:\n",
    "    small_energy = energy2\n",
    "input_energy = np.mean(n_waveguide_control_threshold[19 : 27, N_PML + 3 + 31 : N_PML + 3 + 36])\n",
    "#n_waveguide_control1 = np.where(n_waveguide_control1 >= 0.00005 * input_energy, n_waveguide_control2, 1.0)\n",
    "n_waveguide_control1 = np.where(n_waveguide_control1 >= 0.0045 * small_energy, n_waveguide_control2, 1.0)#\n",
    "#n_waveguide_control1 = n_waveguide_control2\n",
    "print(small_energy)#\n",
    "#print(input_energy)\n",
    "\n",
    "#n_waveguide_control1 = (n_waveguide_control1 - np.min(n_waveguide_control1)) / (np.max(n_waveguide_control1) - np.min(n_waveguide_control1))\n",
    "#n_waveguide_control1 = n_waveguide_control1 * 2.5 + 1\n",
    "n_continuous = n.copy()\n",
    "n_continuous[N_PML + 3 : ny - N_PML - 3, N_PML + 3 + 36 : nx - N_PML - 3 - 36] = n_waveguide_control1\n",
    "#n_continuous = np.where(n_continuous > 2.5, n_continuous, 1.0)\n",
    "for yi in range(1, ny - 1):\n",
    "    for xi in range(1, nx - 1):\n",
    "        if n_continuous[yi, xi] == 1 and \\\n",
    "        (n_continuous[yi - 1, xi - 1] > 1 and n_continuous[yi - 1, xi] > 1 and n_continuous[yi - 1, xi + 1] > 1 and\n",
    "         n_continuous[yi, xi - 1] > 1 and n_continuous[yi, xi + 1] > 1 and \n",
    "         n_continuous[yi + 1, xi - 1] > 1 and n_continuous[yi + 1, xi] > 1 and n_continuous[yi + 1, xi + 1] > 1):\n",
    "            print(\"find whole: (\", x_meshgrid[yi, xi], y_meshgrid[yi, xi], \").\")\n",
    "            print(\"original: \", n_continuous[yi, xi], \".\")\n",
    "            n_continuous[yi, xi] = (np.sum(n_continuous[yi - 1 : yi + 2, xi - 1 : xi + 2]) - n_continuous[yi, xi]) / 8\n",
    "            print(\"updated: \", n_continuous[yi, xi], \".\")\n",
    "\n",
    "for yi in range(1, ny - 1):\n",
    "    for xi in range(1, nx - 1):\n",
    "        if n_continuous[yi, xi] > 1 and \\\n",
    "        (n_continuous[yi - 1, xi - 1] == 1 and n_continuous[yi - 1, xi] == 1 and n_continuous[yi - 1, xi + 1] == 1 and\n",
    "         n_continuous[yi, xi - 1] == 1 and n_continuous[yi, xi + 1] == 1 and \n",
    "         n_continuous[yi + 1, xi - 1] == 1 and n_continuous[yi + 1, xi] == 1 and n_continuous[yi + 1, xi + 1] == 1):\n",
    "            print(\"find point: (\", x_meshgrid[yi, xi], y_meshgrid[yi, xi], \").\")\n",
    "            print(\"original: \", n_continuous[yi, xi], \".\")\n",
    "            n_continuous[yi, xi] = 1.0\n",
    "            print(\"updated: \", n_continuous[yi, xi], \".\")\n",
    "\n",
    "\n",
    "ntransmit_connected = n_continuous.copy()\n",
    "ntransmit_binary = np.where(n_continuous >= 1.25, 1.0, 0.0)\n",
    "ntransmit_binary_label, number_label = connection_label(ntransmit_binary) # https://zhajiman.github.io/post/connected_component_labelling/\n",
    "\n",
    "for i_label in range(1, number_label + 1):\n",
    "    label_area = np.where(ntransmit_binary_label == i_label, 1.0, 0.0)\n",
    "    number_pixels = np.sum(label_area)\n",
    "    if number_pixels <= 900:\n",
    "        ntransmit_connected[ntransmit_binary_label == i_label] = 1.0\n",
    "n_continuous = ntransmit_connected\n",
    "\n",
    "ntransmit_connected = n_continuous.copy()\n",
    "ntransmit_binary = np.where(n_continuous >= 2.25, 1.0, 0.0)\n",
    "ntransmit_binary_label, number_label = connection_label(ntransmit_binary) # https://zhajiman.github.io/post/connected_component_labelling/\n",
    "\n",
    "for i_label in range(1, number_label + 1):\n",
    "    label_area = np.where(ntransmit_binary_label == i_label, 1.0, 0.0)\n",
    "    number_pixels = np.sum(label_area)\n",
    "    if number_pixels <= 900:\n",
    "        ntransmit_connected[ntransmit_binary_label == i_label] = 1.0\n",
    "n_continuous = ntransmit_connected"
   ]
  },
  {
   "cell_type": "code",
   "execution_count": 155,
   "id": "8fe332ad",
   "metadata": {},
   "outputs": [
    {
     "data": {
      "image/png": "[encoded data removed]",
      "text/plain": [
       "<Figure size 360x216 with 2 Axes>"
      ]
     },
     "metadata": {
      "needs_background": "light"
     },
     "output_type": "display_data"
    }
   ],
   "source": [
    "fig, axes = plt.subplots(figsize=[5, 3])\n",
    "#sns.heatmap(n)\n",
    "plt.pcolormesh(np.log10(n_waveguide_control_watch), cmap = 'inferno')#'inferno'\n",
    "#fig, axes = plt.subplots(figsize=[4, 3])\n",
    "#plt.pcolormesh(x_meshgrid, y_meshgrid, n[0:48, 12:60], cmap = 'gray')#'gray' YlOrRd\n",
    "#plt.pcolormesh(x_meshgrid[0:48, 12:60], y_meshgrid[0:48, 12:60], n[0:48, 12:60], cmap = 'gray')\n",
    "plt.colorbar()\n",
    "plt.axis('scaled')\n",
    "plt.show()"
   ]
  },
  {
   "cell_type": "code",
   "execution_count": 156,
   "id": "c35321e0",
   "metadata": {},
   "outputs": [
    {
     "name": "stderr",
     "output_type": "stream",
     "text": [
      "C:\\Users\\DELL\\AppData\\Local\\Temp/ipykernel_10592/2841284589.py:3: MatplotlibDeprecationWarning: shading='flat' when X and Y have the same dimensions as C is deprecated since 3.3.  Either specify the corners of the quadrilaterals with X and Y, or pass shading='auto', 'nearest' or 'gouraud', or set rcParams['pcolor.shading'].  This will become an error two minor releases later.\n",
      "  plt.pcolormesh(x_meshgrid, y_meshgrid, n_continuous, cmap = 'gray')#'inferno'\n"
     ]
    },
    {
     "data": {
      "image/png": "[encoded data removed]",
      "text/plain": [
       "<Figure size 360x216 with 2 Axes>"
      ]
     },
     "metadata": {
      "needs_background": "light"
     },
     "output_type": "display_data"
    }
   ],
   "source": [
    "fig, axes = plt.subplots(figsize=[5, 3])\n",
    "#sns.heatmap(n)\n",
    "plt.pcolormesh(x_meshgrid, y_meshgrid, n_continuous, cmap = 'gray')#'inferno'\n",
    "#fig, axes = plt.subplots(figsize=[4, 3])\n",
    "#plt.pcolormesh(x_meshgrid, y_meshgrid, n[0:48, 12:60], cmap = 'gray')#'gray' YlOrRd\n",
    "#plt.pcolormesh(x_meshgrid[0:48, 12:60], y_meshgrid[0:48, 12:60], n[0:48, 12:60], cmap = 'gray')\n",
    "plt.colorbar()\n",
    "plt.axis('scaled')\n",
    "plt.show()"
   ]
  },
  {
   "cell_type": "code",
   "execution_count": 157,
   "id": "93dc42db",
   "metadata": {},
   "outputs": [
    {
     "name": "stdout",
     "output_type": "stream",
     "text": [
      "k0dx =  0.0675611311827957\n"
     ]
    },
    {
     "name": "stderr",
     "output_type": "stream",
     "text": [
      "C:\\Users\\DELL\\AppData\\Local\\Temp/ipykernel_10592/1075149217.py:24: ComplexWarning: Casting complex values to real discards the imaginary part\n",
      "  kxdx_eig=math.asin(kxdx_eig1)*2\n"
     ]
    },
    {
     "data": {
      "image/png": "[encoded data removed]",
      "text/plain": [
       "<Figure size 576x432 with 1 Axes>"
      ]
     },
     "metadata": {
      "needs_background": "light"
     },
     "output_type": "display_data"
    }
   ],
   "source": [
    "# k0dx = (omega/c)*dx\n",
    "\n",
    "pi = 3.1415926\n",
    "k0dx = 2*pi/lambda1*dx;\n",
    "print(\"k0dx = \", k0dx)\n",
    "#percent1 = 54\n",
    "#percent2 = 46\n",
    "# percentenergy_1 = 50\n",
    "# percentenergy_2 = 50\n",
    "# percent_1 = (percentenergy_1 ** 2) / (percentenergy_1 ** 2 + percentenergy_2 ** 2)\n",
    "# percent_2 = 100 - percent_1\n",
    "\n",
    "# dx^2 times the shifted eigen operatore for waveguide modes u(y)\n",
    "# with effective outgoing boundary condition implemented using PML on the two sides.\n",
    "A = build_laplacian_1d_PML(ny, N_PML, N_PML) + sparse.spdiags(k0dx**2*(n0_y**2 - n_waveguide**2), 0, ny, ny);\n",
    "\n",
    "# compute first few eigenmodes with n_eff close to n_waveguide\n",
    "n_eig = 1;\n",
    "[D, V] = sparse.linalg.eigs(A, n_eig, which='SM');\n",
    "\n",
    "# convert eigenvalue back to kx\n",
    "kxdx_eig1 = np.sqrt(D[0] + (k0dx*n_waveguide)**2)/2;\n",
    "#for i in kxdx_eig1:\n",
    "kxdx_eig=math.asin(kxdx_eig1)*2\n",
    "#kxdx_eig2=math.asin(kxdx_eig2)*2\n",
    "\n",
    "# effective index\n",
    "n_eff_eig = np.array(kxdx_eig)/k0dx\n",
    "\n",
    "# transverse profile u_j(y) of the waveguide modes\n",
    "u1 = V;\n",
    "#u2 = V[:,1];\n",
    "\n",
    "u1out = u1 * 0;\n",
    "center0 = int(y0_waveguide / dy);\n",
    "center1 = int(y1_waveguide / dy);\n",
    "center2 = int(y2_waveguide / dy);\n",
    "u1out[0 : - (center0 - center2)] = u1[center0 - center2 : ] * np.sqrt(percent1 / 100);\n",
    "u1out[center1 - center0 : ] = u1out[center1 - center0 : ] + u1[0 : - (center1 - center0)] * np.sqrt(percent2 / 100);\n",
    "\n",
    "fig, axes = plt.subplots(figsize=[8, 6])\n",
    "plt.plot(y, abs(u1out));\n",
    "\n",
    "# prefactor for the power of j-th waveguide mode in x direction\n",
    "nu1 = np.real(np.sin(kxdx_eig))\n",
    "#nu2 = np.real(np.sin(kxdx_eig[1]))"
   ]
  },
  {
   "cell_type": "code",
   "execution_count": 158,
   "id": "77aae83b",
   "metadata": {},
   "outputs": [],
   "source": [
    "# psi_in(x,y) = u_j(y)*exp(i*kx_j*x)\n",
    "kx_1 = kxdx_eig/dx;\n",
    "u_1 = V\n",
    "psi_in = np.outer(u_1, np.exp(1j*kx_1*x)); #implicit expansion\n",
    "\n",
    "# dx^2 times the 2D wave operator for the waveguide + disk system\n",
    "# with effective outgoing boundary condition implemented using PML on all four sides.\n",
    "A = build_laplacian_2d_PML(nx, ny, N_PML, N_PML, N_PML, N_PML) + sparse.spdiags(k0dx**2*n_continuous.flatten('F')**2, 0, nx*ny, nx*ny);\n",
    "\n",
    "# dx^2 times the source profile b(x,y)\n",
    "# recall x = 0 is the surface of PML\n",
    "# n = N_PML + 1 => x_n = dx/2\n",
    "# put a surface source at x_n = dx/2, where we want psi_in to have\n",
    "# phase exp(1i*kx_1*dx/2)\n",
    "b = np.zeros([ny, nx], dtype='complex_');\n",
    "b[:, N_PML + 3 + 36 - 1] = 2j*nu1*u1[:,0]*np.exp(1j*kx_1*dx/2);\n",
    "#b = -b"
   ]
  },
  {
   "cell_type": "code",
   "execution_count": 159,
   "id": "023b4954",
   "metadata": {},
   "outputs": [],
   "source": [
    "# solve A*(psi_out+psi_sca) = b, psi_out+psi_sca = psi_tot when x>0\n",
    "#psi_tot = np.reshape(sparse.linalg.spsolve(A,b.flatten('F')), [nx, ny])\n",
    "psi_tot = np.reshape(sparse.linalg.spsolve(A,b.flatten('F')), [ny, nx], order = 'F')\n",
    "#psi_tot = np.reshape(np.linalg.solve(np.array(A.todense()),b.flatten('F')), [ny, nx])"
   ]
  },
  {
   "cell_type": "code",
   "execution_count": 160,
   "id": "2a22e2fc",
   "metadata": {},
   "outputs": [
    {
     "name": "stderr",
     "output_type": "stream",
     "text": [
      "C:\\Users\\DELL\\AppData\\Local\\Temp/ipykernel_10592/942708216.py:3: MatplotlibDeprecationWarning: shading='flat' when X and Y have the same dimensions as C is deprecated since 3.3.  Either specify the corners of the quadrilaterals with X and Y, or pass shading='auto', 'nearest' or 'gouraud', or set rcParams['pcolor.shading'].  This will become an error two minor releases later.\n",
      "  plt.pcolormesh(x_meshgrid, y_meshgrid, np.log10(np.abs(psi_tot)**2), vmin = np.log10(0.6) - 2, vmax = np.log10(0.6), cmap = 'gist_heat_r')\n"
     ]
    },
    {
     "data": {
      "image/png": "[encoded data removed]",
      "text/plain": [
       "<Figure size 360x216 with 2 Axes>"
      ]
     },
     "metadata": {
      "needs_background": "light"
     },
     "output_type": "display_data"
    }
   ],
   "source": [
    "fig, axes = plt.subplots(figsize=[5, 3])\n",
    "#sns.heatmap(np.abs(psi_tot)**2)\n",
    "plt.pcolormesh(x_meshgrid, y_meshgrid, np.log10(np.abs(psi_tot)**2), vmin = np.log10(0.6) - 2, vmax = np.log10(0.6), cmap = 'gist_heat_r')\n",
    "plt.colorbar()\n",
    "plt.xlim([x[0], x[-1]])\n",
    "plt.ylim([y[0], y[-1]])\n",
    "plt.axis('scaled')\n",
    "plt.show()"
   ]
  },
  {
   "cell_type": "code",
   "execution_count": 161,
   "id": "f4adb8be",
   "metadata": {},
   "outputs": [
    {
     "data": {
      "image/png": "[encoded data removed]",
      "text/plain": [
       "<Figure size 216x216 with 1 Axes>"
      ]
     },
     "metadata": {
      "needs_background": "light"
     },
     "output_type": "display_data"
    }
   ],
   "source": [
    "fig, axes = plt.subplots(figsize=[3, 3])\n",
    "plt.plot(y, abs(u1out), '--', label = 'Designed')\n",
    "plt.plot(y, abs(psi_tot[ : ,- N_PML - 1]), 'r-', label = 'Actual');\n",
    "#plt.plot(y, abs(psi_tot[ : ,- N_PML - 1 - 10]), 'r-', label = 'Actual');\n",
    "#plt.xlim([x[0], x[-1]])\n",
    "plt.ylim([0, 0.30])\n",
    "#hold on;\n",
    "#plt.plot(y, (n[ : , - N_PML - 1] - 1) / 12.5, 'r-');\n",
    "#hold off;\n",
    "plt.legend(loc = 0)\n",
    "plt.show()"
   ]
  },
  {
   "cell_type": "code",
   "execution_count": 162,
   "id": "3093e1ad",
   "metadata": {},
   "outputs": [],
   "source": [
    "# (transmitted power)/(incident power) into each waveguide mode\n",
    "# reacall incident wave is in 1st mode\n",
    "# at y = 0\n",
    "# need to use modes of the outgoing (vertical) waveguides, which in this\n",
    "# geometry is the same as modes of the incoming (horizontal) waveguide.\n",
    "ind_T = nx - N_PML - 3 - 36 + 1;\n",
    "T1out = abs(np.dot(u1out[:,0],(psi_tot[:,ind_T])))**2"
   ]
  },
  {
   "cell_type": "code",
   "execution_count": 163,
   "id": "5ec8bfab",
   "metadata": {},
   "outputs": [
    {
     "data": {
      "text/plain": [
       "0.9828699448481726"
      ]
     },
     "execution_count": 163,
     "metadata": {},
     "output_type": "execute_result"
    }
   ],
   "source": [
    "T1out"
   ]
  },
  {
   "cell_type": "code",
   "execution_count": 164,
   "id": "390fb5da",
   "metadata": {},
   "outputs": [
    {
     "name": "stdout",
     "output_type": "stream",
     "text": [
      "The transmitted percentage of the 1st channel is:  [0.01152672] .\n",
      "The transmitted percentage of the 2nd channel is:  [0.98847328] .\n"
     ]
    }
   ],
   "source": [
    "T1out1st = abs(np.dot(u1stout.T, psi_tot[:,ind_T].T))**2\n",
    "T1out2nd = abs(np.dot(u2ndout.T, psi_tot[:,ind_T].T))**2\n",
    "print(\"The transmitted percentage of the 1st channel is: \", T1out1st / (T1out1st + T1out2nd), \".\")\n",
    "print(\"The transmitted percentage of the 2nd channel is: \", T1out2nd / (T1out1st + T1out2nd), \".\")"
   ]
  },
  {
   "cell_type": "code",
   "execution_count": 165,
   "id": "a40c9159",
   "metadata": {},
   "outputs": [
    {
     "name": "stdout",
     "output_type": "stream",
     "text": [
      "The total transmitted power is:  [0.99368589] .\n",
      "The transmitted power of the 1st channel is:  [0.01145394] .\n",
      "The transmitted power of the 2nd channel is:  [0.98223195] .\n"
     ]
    }
   ],
   "source": [
    "T1out = T1out1st + T1out2nd\n",
    "print(\"The total transmitted power is: \", T1out, \".\")\n",
    "print(\"The transmitted power of the 1st channel is: \", T1out1st, \".\")\n",
    "print(\"The transmitted power of the 2nd channel is: \", T1out2nd, \".\")"
   ]
  },
  {
   "cell_type": "code",
   "execution_count": 88,
   "id": "a1204d61",
   "metadata": {},
   "outputs": [],
   "source": [
    "psi_transmission_total_continuous = np.zeros([nx, 1])\n",
    "for xi in range(0, nx - 1):\n",
    "    psi_transmission_total_continuous[xi] = np.imag(np.dot(np.conjugate(psi_tot[:, xi]), psi_tot[:, xi + 1].T)) / np.sin(kx_1 * (x[1] - x[0]))"
   ]
  },
  {
   "cell_type": "code",
   "execution_count": 89,
   "id": "c693df49",
   "metadata": {},
   "outputs": [
    {
     "data": {
      "text/plain": [
       "array([0.98113855])"
      ]
     },
     "execution_count": 89,
     "metadata": {},
     "output_type": "execute_result"
    }
   ],
   "source": [
    "psi_transmission_total_continuous[ind_T]"
   ]
  },
  {
   "cell_type": "code",
   "execution_count": 66,
   "id": "832b8e71",
   "metadata": {},
   "outputs": [
    {
     "data": {
      "text/plain": [
       "0.016666666666666607"
      ]
     },
     "execution_count": 66,
     "metadata": {},
     "output_type": "execute_result"
    }
   ],
   "source": [
    "x[1] - x[0]"
   ]
  },
  {
   "cell_type": "code",
   "execution_count": 67,
   "id": "c5a6e602",
   "metadata": {},
   "outputs": [
    {
     "name": "stdout",
     "output_type": "stream",
     "text": [
      "The total transmitted power is:  0.9891093228171558 .\n",
      "The transmitted power of the 1st channel is:  0.4825952264965928 .\n",
      "The transmitted power of the 2nd channel is:  0.506514096320563 .\n"
     ]
    }
   ],
   "source": [
    "#The total transmitted power is:  0.9919783976504595 .\n",
    "#The transmitted power of the 1st channel is:  0.33882240109661577 .\n",
    "#The transmitted power of the 2nd channel is:  0.6531559965538437 .\n",
    "T1out1st = abs(np.dot(np.reshape(np.conjugate(u1stout), 144), np.reshape(psi_tot[:,ind_T], [144])))**2 / u1stout_energy\n",
    "T1out2nd = abs(np.dot(np.reshape(np.conjugate(u2ndout), 144), np.reshape(psi_tot[:,ind_T], [144])))**2 / u2ndout_energy\n",
    "#print(\"The transmitted percentage of the 1st channel is: \", T1out1st / (T1out1st + T1out2nd), \".\")\n",
    "#print(\"The transmitted percentage of the 2nd channel is: \", T1out2nd / (T1out1st + T1out2nd), \".\")\n",
    "                   \n",
    "T1out_channel = T1out1st + T1out2nd\n",
    "print(\"The total transmitted power is: \", T1out_channel, \".\")\n",
    "print(\"The transmitted power of the 1st channel is: \", T1out1st, \".\")\n",
    "print(\"The transmitted power of the 2nd channel is: \", T1out2nd, \".\")"
   ]
  },
  {
   "cell_type": "code",
   "execution_count": 149,
   "id": "1fc500b9",
   "metadata": {},
   "outputs": [
    {
     "data": {
      "text/plain": [
       "array([1. , 1. , 1. , 1. , 1. , 1. , 1. , 1. , 1. , 1. , 1. , 1. , 1. ,\n",
       "       1. , 1. , 1. , 1. , 1. , 1. , 1. , 1. , 1. , 1. , 1. , 1. , 1. ,\n",
       "       1. , 1. , 1. , 1. , 1. , 1. , 1. , 1. , 1. , 1. , 1. , 1. , 1. ,\n",
       "       3.5, 3.5, 3.5, 3.5, 3.5, 3.5, 3.5, 3.5, 3.5, 3.5, 3.5, 3.5, 3.5,\n",
       "       3.5, 3.5, 3.5, 3.5, 3.5, 1. , 1. , 1. , 1. , 1. , 1. , 1. , 1. ,\n",
       "       1. , 1. , 1. , 1. , 1. , 1. , 1. , 1. , 1. , 1. , 1. , 1. , 1. ,\n",
       "       1. , 1. , 1. , 1. , 1. , 1. , 1. , 1. , 1. , 3.5, 3.5, 3.5, 3.5,\n",
       "       3.5, 3.5, 3.5, 3.5, 3.5, 3.5, 3.5, 3.5, 3.5, 3.5, 3.5, 3.5, 3.5,\n",
       "       3.5, 1. , 1. , 1. , 1. , 1. , 1. , 1. , 1. , 1. , 1. , 1. , 1. ,\n",
       "       1. , 1. , 1. , 1. , 1. , 1. , 1. , 1. , 1. , 1. , 1. , 1. , 1. ,\n",
       "       1. , 1. , 1. , 1. , 1. , 1. , 1. , 1. , 1. , 1. , 1. , 1. , 1. ,\n",
       "       1. ])"
      ]
     },
     "execution_count": 149,
     "metadata": {},
     "output_type": "execute_result"
    }
   ],
   "source": [
    "n[ : , - N_PML - 1]"
   ]
  },
  {
   "cell_type": "code",
   "execution_count": 150,
   "id": "d6a8f0a0",
   "metadata": {},
   "outputs": [],
   "source": [
    "psi_transmission_bottom_continuous = np.zeros([nx, 1])\n",
    "for xi in range(0, nx - 1):\n",
    "    #psi_transmission_bottom_continuous[xi] = np.imag(np.dot(np.conjugate(psi_tot[39 : 57, xi]), psi_tot[39 : 57, xi + 1].T)) / np.sin(kx_1 * (x[1] - x[0]))\n",
    "    psi_transmission_bottom_continuous[xi] = np.imag(np.dot(np.conjugate(psi_tot[0 : 72, xi]), psi_tot[0 : 72, xi + 1].T)) / np.sin(kx_1 * (x[1] - x[0]))"
   ]
  },
  {
   "cell_type": "code",
   "execution_count": 73,
   "id": "de16bfdb",
   "metadata": {},
   "outputs": [],
   "source": [
    "psi_transmission_top_continuous = np.zeros([nx, 1])\n",
    "for xi in range(0, nx - 1):\n",
    "    #psi_transmission_top_continuous[xi] = np.imag(np.dot(np.conjugate(psi_tot[87 : 105, xi]), psi_tot[87 : 105, xi + 1].T)) / np.sin(kx_1 * (x[1] - x[0]))\n",
    "    psi_transmission_top_continuous[xi] = np.imag(np.dot(np.conjugate(psi_tot[72 : 144, xi]), psi_tot[72 : 144, xi + 1].T)) / np.sin(kx_1 * (x[1] - x[0]))"
   ]
  },
  {
   "cell_type": "code",
   "execution_count": 74,
   "id": "b4cd527f",
   "metadata": {},
   "outputs": [
    {
     "name": "stdout",
     "output_type": "stream",
     "text": [
      "The transmission of each waveguide is:  [array([0.62589314]), array([0.34675813])] .\n"
     ]
    }
   ],
   "source": [
    "print(\"The transmission of each waveguide is: \", [psi_transmission_top_continuous[ind_T], psi_transmission_bottom_continuous[ind_T]], \".\")"
   ]
  },
  {
   "cell_type": "code",
   "execution_count": 75,
   "id": "6c0c9421",
   "metadata": {},
   "outputs": [
    {
     "name": "stdout",
     "output_type": "stream",
     "text": [
      "The transmission percentage of each waveguide is:  [array([0.64349182]), array([0.35650818])] .\n"
     ]
    }
   ],
   "source": [
    "total_transmitted_energy = psi_transmission_top_continuous[ind_T] + psi_transmission_bottom_continuous[ind_T]\n",
    "psi_transmission_percentage_top = psi_transmission_top_continuous[ind_T] / total_transmitted_energy\n",
    "psi_transmission_percentage_bottom = psi_transmission_bottom_continuous[ind_T] / total_transmitted_energy\n",
    "print(\"The transmission percentage of each waveguide is: \", [psi_transmission_percentage_top, psi_transmission_percentage_bottom], \".\")"
   ]
  },
  {
   "cell_type": "code",
   "execution_count": 714,
   "id": "33cccc3b",
   "metadata": {},
   "outputs": [
    {
     "data": {
      "text/plain": [
       "[<matplotlib.lines.Line2D at 0x2d0a31c1700>]"
      ]
     },
     "execution_count": 714,
     "metadata": {},
     "output_type": "execute_result"
    },
    {
     "data": {
      "image/png": "[encoded data removed]",
      "text/plain": [
       "<Figure size 216x216 with 1 Axes>"
      ]
     },
     "metadata": {
      "needs_background": "light"
     },
     "output_type": "display_data"
    }
   ],
   "source": [
    "fig, axes = plt.subplots(figsize=[3, 3])\n",
    "plt.plot(psi_transmission_top_continuous, 'r-', label = 'Top')\n",
    "plt.plot(psi_transmission_bottom_continuous, 'b-', label = 'Bottom')"
   ]
  },
  {
   "cell_type": "code",
   "execution_count": 715,
   "id": "d2ca8798",
   "metadata": {},
   "outputs": [
    {
     "data": {
      "image/png": "[encoded data removed]",
      "text/plain": [
       "<Figure size 216x216 with 1 Axes>"
      ]
     },
     "metadata": {
      "needs_background": "light"
     },
     "output_type": "display_data"
    }
   ],
   "source": [
    "fig, axes = plt.subplots(figsize=[3, 3])\n",
    "plt.plot(abs(u1out[87 : 105]), '--', label = 'Designed')\n",
    "plt.plot(abs(psi_tot[87 : 105,- N_PML - 1]), 'r-', label = 'Actual');"
   ]
  },
  {
   "cell_type": "code",
   "execution_count": null,
   "id": "9608f7fa",
   "metadata": {},
   "outputs": [],
   "source": []
  }
 ],
 "metadata": {
  "kernelspec": {
   "display_name": "Python 3 (ipykernel)",
   "language": "python",
   "name": "python3"
  },
  "language_info": {
   "codemirror_mode": {
    "name": "ipython",
    "version": 3
   },
   "file_extension": ".py",
   "mimetype": "text/x-python",
   "name": "python",
   "nbconvert_exporter": "python",
   "pygments_lexer": "ipython3",
   "version": "3.9.7"
  }
 },
 "nbformat": 4,
 "nbformat_minor": 5
}
