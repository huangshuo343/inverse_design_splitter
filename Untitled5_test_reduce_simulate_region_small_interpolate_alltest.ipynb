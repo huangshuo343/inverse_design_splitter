{
 "cells": [
  {
   "cell_type": "code",
   "execution_count": 1,
   "id": "ad4b9260",
   "metadata": {},
   "outputs": [],
   "source": [
    "#import tensorflow as tf\n",
    "import matplotlib.pyplot as plt\n",
    "import seaborn as sns\n",
    "import numpy as np\n",
    "import scipy.sparse as sparse\n",
    "import math\n",
    "import nibabel as nib\n",
    "import os\n",
    "from skimage.transform import resize as resize\n",
    "from scipy.ndimage import label as connection_label\n",
    "import pandas as pd\n",
    "import seaborn as sns"
   ]
  },
  {
   "cell_type": "code",
   "execution_count": 2,
   "id": "08280072",
   "metadata": {},
   "outputs": [],
   "source": [
    "def fun_s(u):\n",
    "    v = []    \n",
    "    pi = 3.1415926\n",
    "    power_kappa = 3;\n",
    "    kappa_max = 15;\n",
    "    power_sigma = 3;\n",
    "    lambda_over_dx = 40; # use a common choice for lambda/dx/n_bg\n",
    "    sigma_over_omega_max = 0.8*(power_sigma+1)*lambda_over_dx/(2*pi);\n",
    "    kappa = lambda u: 1 + (kappa_max-1)*u**power_kappa;\n",
    "    sigma_over_omega = lambda u: sigma_over_omega_max*u**power_sigma;\n",
    "    for i in range(len(u)):\n",
    "        #print([i, u[i]])\n",
    "        v.append(complex(kappa(u[i]), sigma_over_omega(u[i])))\n",
    "    return v"
   ]
  },
  {
   "cell_type": "code",
   "execution_count": 3,
   "id": "6d15cf26",
   "metadata": {},
   "outputs": [],
   "source": [
    "def build_laplacian_1d_PML(N, N_PML_L, N_PML_R):\n",
    "    # Builds dx^2 times the Laplacian in 1D with effective outgoing boundary\n",
    "    # condition implemented using PML on the two sides.\n",
    "    # N = number of grid points\n",
    "    # N_PML_L = number of PML pixels on the left; zero means no PML\n",
    "    # N_PML_R = number of PML pixels on the right; zero means no PML\n",
    "\n",
    "    # f = [f(1), ...., f(N)]\n",
    "    # df = [df(0.5), ..., df(N+0.5)]\n",
    "    # d2f = [d2f(1), ...., d2f(N)]\n",
    "    # put Dirichlet boundary condition behind PML: f(0) = f(N+1) = 0\n",
    "    # ddx_1*f = df\n",
    "    # This is dx times (d/dx) operator \n",
    "    pi = 3.1415926\n",
    "    ddx_1 = sparse.spdiags([np.ones(N),-np.ones(N)], [0, -1], N+1, N);\n",
    "\n",
    "    # ddx_2*df = d2f\n",
    "    # This is dx times (d/dx) operator \n",
    "    ddx_2 = -np.transpose(ddx_1);\n",
    "\n",
    "    if N_PML_L==0 and N_PML_R==0:\n",
    "        A = ddx_2*ddx_1;\n",
    "        return\n",
    "\n",
    "    # define coordinate-stretching profile s(u)\n",
    "    power_kappa = 3;\n",
    "    kappa_max = 15;\n",
    "    power_sigma = 3;\n",
    "    lambda_over_dx = 40; # use a common choice for lambda/dx/n_bg\n",
    "    sigma_over_omega_max = 0.8*(power_sigma+1)*lambda_over_dx/(2*pi);\n",
    "    #kappa = lambda u: 1 + (kappa_max-1)*u**power_kappa;\n",
    "    #sigma_over_omega = lambda u: sigma_over_omega_max*u**power_sigma;\n",
    "    #fun_s = lambda u: complex(kappa(u), sigma_over_omega(u));\n",
    "\n",
    "    # assign s(u) on interger and half-interger grid points\n",
    "    # u = 0 on the integer site before PML\n",
    "    # u = 1 on the integer site after PML (where we put Dirichlet BC)\n",
    "    s_half = np.array([1+0j for i in range(N+1)]); # column vector\n",
    "    s_int  = np.array([1+0j for i in range(N  )]); # column vector\n",
    "    if N_PML_R > 0:\n",
    "        s_half[(N-N_PML_R):(N+1)] = np.transpose(fun_s(np.arange(0.5,(N_PML_R+1),1)/(N_PML_R+1)))\n",
    "        s_int[(N-N_PML_R):N] = np.transpose(fun_s(np.arange(1,N_PML_R+1,1)/(N_PML_R+1)))\n",
    "    if N_PML_L > 0:\n",
    "        s_half[(N_PML_L)::-1] = np.transpose(fun_s(np.arange(0.5,(N_PML_L+1),1)/(N_PML_L+1)))\n",
    "        s_int[N_PML_L-1::-1] = np.transpose(fun_s(np.arange(1,N_PML_L+1,1)/(N_PML_L+1)))\n",
    "\n",
    "    # dx^2 times the Laplacian with PML on the two sides\n",
    "    A = sparse.spdiags(1./s_int, 0, N, N)*ddx_2*sparse.spdiags(1./s_half, 0, N+1, N+1)*ddx_1;\n",
    "    \n",
    "    return A\n"
   ]
  },
  {
   "cell_type": "code",
   "execution_count": 4,
   "id": "8463d65f",
   "metadata": {},
   "outputs": [],
   "source": [
    "def  build_laplacian_2d_PML(nx, ny, N_PML_L, N_PML_R, N_PML_B, N_PML_T):\n",
    "    # Builds dx^2 times the Laplacian in 2D with effective outgoing boundary\n",
    "    # condition implemented using PML on all four sides.\n",
    "    # nx = number of grid points in x\n",
    "    # ny = number of grid points in y\n",
    "    # N_PML_L = number of PML pixels on the left; zero means no PML\n",
    "    # N_PML_R = number of PML pixels on the right; zero means no PML\n",
    "    # N_PML_B = number of PML pixels on the bottom; zero means no PML\n",
    "    # N_PML_T = number of PML pixels on the top; zero means no PML\n",
    "\n",
    "    # A = [(d^2/dx^2) + (d^2/dy^2)]*dx^2\n",
    "    A = sparse.kron(build_laplacian_1d_PML(nx, N_PML_L, N_PML_R), sparse.eye(ny)) + sparse.kron(sparse.eye(nx), build_laplacian_1d_PML(ny, N_PML_B, N_PML_T));\n",
    "    return A"
   ]
  },
  {
   "cell_type": "code",
   "execution_count": 5,
   "id": "1f0925f2",
   "metadata": {},
   "outputs": [],
   "source": [
    "def transmission_rate(percent1):\n",
    "    # refractive indices\n",
    "    n_bg = 1; # air\n",
    "    n_waveguide = 3.5; # silicon index near lambda = 1.55 micron\n",
    "\n",
    "    # system dimensions, in micron\n",
    "    lambda1 = 1.55; # wavelength\n",
    "    w = 0.3; # waveguide width\n",
    "    R_in_x = 1.5; # inner radius of bend\n",
    "    R_in_y = 1.5; # inner radius of bend\n",
    "    # spacing = 0.5; # waveguide-PML (for visualization)\n",
    "\n",
    "    # number of PML pixels\n",
    "    N_PML = 24;\n",
    "\n",
    "    lambdax = 1.55\n",
    "    # discretization grid size\n",
    "    dx = lambdax/n_waveguide/26;\n",
    "    spacing = 3 * dx\n",
    "\n",
    "    # number of grid points across the waveguide\n",
    "    nx_w = int(np.ceil(w/dx));\n",
    "\n",
    "    # adjust dx slightly so waveguide width w fits into an integer number of grids\n",
    "    dx = w/nx_w;\n",
    "    dy = dx;\n",
    "\n",
    "    # adjust spacing slightly it fits into an integer number of grids\n",
    "    nx_spacing = round(spacing/dx);\n",
    "    spacing = nx_spacing*dx;\n",
    "\n",
    "    # R_in will be discretized into an integer number of grid points since R_in\n",
    "    # = w here\n",
    "    nx_R_in = round(R_in_x/dx);\n",
    "    ny_R_in = round(R_in_y/dy);\n",
    "    ny_w = ny_R_in\n",
    "\n",
    "    # total number of pixels in the system\n",
    "    nx = N_PML + 36 + nx_spacing + nx_R_in + nx_spacing + 36 + N_PML;\n",
    "    ny = N_PML + nx_spacing + ny_w + nx_spacing + N_PML;\n",
    "\n",
    "    # have x = 0 & y = 0 being the start of PML\n",
    "    x = (np.arange(0.5,nx,1) - N_PML - 38)*dx;\n",
    "    y = (np.arange(0.5,ny,1) - N_PML)*dx;\n",
    "    x_length = x[-1];\n",
    "    y_length = y[-1];    \n",
    "    \n",
    "    # center position of the waveguide\n",
    "    length_waveguidey = 0.4;\n",
    "    y0_waveguide = spacing + R_in_y/2;\n",
    "    y1_waveguide = spacing + R_in_y/2 + length_waveguidey;\n",
    "    y2_waveguide = spacing + R_in_y/2 - length_waveguidey;\n",
    "    x0_waveguide = spacing + w/2;\n",
    "\n",
    "    # build refractive index profile for the waveguide\n",
    "    n0_y = n_bg*np.ones(ny);\n",
    "    n0_y[np.abs(y-y0_waveguide) < w/2] = n_waveguide;\n",
    "    #n0 = repmat(n0_y, 1, nx);\n",
    "\n",
    "    # center position of the bend\n",
    "    x0 = spacing;\n",
    "    x_startn = int(x0 / dx + N_PML);\n",
    "    x_guide = x0 + N_PML * dx\n",
    "    y0 = x0;\n",
    "\n",
    "    # build refractive index profile for the bent waveguide\n",
    "    # n = n_bg*np.ones([ny,nx]);\n",
    "    # [X,Y] = np.meshgrid(x,y);\n",
    "    # # incoming waveguide segment\n",
    "    # n[(np.abs(Y-y0_waveguide) < w/2) * (X < x0)] = n_waveguide;#报错解决ValueError: https://blog.csdn.net/weixin_47344149/article/details/124190877\n",
    "    # n[(np.abs(Y-y1_waveguide) < w/2) * (X > x_length - x_guide)] = n_waveguide;\n",
    "    # n[(np.abs(Y-y2_waveguide) < w/2) * (X > x_length - x_guide)] = n_waveguide;\n",
    "    # n_fit = n.copy()\n",
    "    # # outgoing waveguide segment\n",
    "    # #n(abs(X-x0_waveguide) < w/2 & Y < y0) = n_waveguide;\n",
    "    # # bend segment\n",
    "    # #n((X-x0).^2 + (Y-y0).^2 > R_in^2 & ...\n",
    "    #   #(X-x0).^2 + (Y-y0).^2 < (R_in+w)^2 & ...\n",
    "    #   #X > x0 & Y > y0) = n_waveguide;\n",
    "    # n_simulate = int(nx - 2 * x_startn);\n",
    "    # n_halfsimulate = 0.95;\n",
    "    # #y_halfsize = (nx - 2 * N_PML) / 2 * dx;\n",
    "    # y_halfsize = y0_waveguide;\n",
    "    # y1 = np.ones(n_simulate) * n_halfsimulate;\n",
    "    # y2 = np.ones(n_simulate) * n_halfsimulate;\n",
    "    # for i in range(1, n_simulate+1):\n",
    "    #     n[(y < y_halfsize + y1[i-1]) * (y > y_halfsize -y2[i-1]), x_startn + i - 1] = n_waveguide;\n",
    "    \n",
    "    #percent1 = 34\n",
    "    #percent2 = 99\n",
    "    percent2 = 100 - percent1\n",
    "    #n_path = 'D:/data_ee604_final_project/results/test_data_reduce_simulation_area_wide_265accuracy/1_55_54_46/'\n",
    "    n_path = 'D:/data_ee604_final_project/results/test_data_reduce_simulation_area_wide_3size_250epoches_align_corner_smooth_spreatchannel12_learningrate_suit_alltestdata/1_55_' + str(percent1) + '_' + str(percent2) + '/'\n",
    "    n_name = 'waveguide_structure_simulation_result.nii.gz'\n",
    "    n_waveguide_simulation_result_name = os.path.join(n_path, n_name)\n",
    "    n_waveguide_simulation_result_data = nib.load(n_waveguide_simulation_result_name)\n",
    "    n_original = n_waveguide_simulation_result_data.get_fdata()\n",
    "    n = n_original.reshape(48, 48)\n",
    "    n_copy = n.copy()\n",
    "    ntransmit = np.zeros([48, 72])\n",
    "    ntransmit[0:48, 12:60] = n\n",
    "    for i in range(60, 72):\n",
    "        ntransmit[ : , i] = n[ : , 47]\n",
    "    for i in range(0, 12):\n",
    "        ntransmit[ : , i] = n[ : , 1]\n",
    "\n",
    "    ntransmit_simulationregion = n[9 : 39, 9 : 39]\n",
    "    ntransmit_resize = resize(ntransmit_simulationregion, [90, 90], order = 0, mode = 'reflect')\n",
    "\n",
    "    ntransmit_3interpolation = np.zeros([144, 216])\n",
    "    for iy in range(0, 144, 3):\n",
    "        for ix in range(0, 216, 3):\n",
    "            ntransmit_3interpolation[iy : iy + 3, ix : ix + 3] = np.ones([3, 3]) * ntransmit[int(iy / 3), int(ix / 3)]\n",
    "    ntransmit_3interpolation[27 : 117, 63 : 153] = ntransmit_resize\n",
    "    n = ntransmit_3interpolation\n",
    "    # n = np.where(n <= 2.25, 1.0, 3.5)\n",
    "    #n[n < 1] = 1\n",
    "    #n.reshape(96, 96)\n",
    "    \n",
    "    print('y0_waveguide = {}, y1_waveguide = {}, y2_waveguide = {}'.format(y0_waveguide, y1_waveguide, y2_waveguide))\n",
    "    \n",
    "    x_meshgrid, y_meshgrid = np.meshgrid(x, y)\n",
    "    \n",
    "    # k0dx = (omega/c)*dx\n",
    "\n",
    "    pi = 3.1415926\n",
    "    k0dx = 2*pi/lambda1*dx;\n",
    "    print(\"k0dx = \", k0dx)\n",
    "    #percent1 = 54\n",
    "    #percent2 = 46\n",
    "    # percentenergy_1 = 50\n",
    "    # percentenergy_2 = 50\n",
    "    # percent_1 = (percentenergy_1 ** 2) / (percentenergy_1 ** 2 + percentenergy_2 ** 2)\n",
    "    # percent_2 = 100 - percent_1\n",
    "\n",
    "    # dx^2 times the shifted eigen operatore for waveguide modes u(y)\n",
    "    # with effective outgoing boundary condition implemented using PML on the two sides.\n",
    "    A = build_laplacian_1d_PML(ny, N_PML, N_PML) + sparse.spdiags(k0dx**2*(n0_y**2 - n_waveguide**2), 0, ny, ny);\n",
    "\n",
    "    # compute first few eigenmodes with n_eff close to n_waveguide\n",
    "    n_eig = 1;\n",
    "    [D, V] = sparse.linalg.eigs(A, n_eig, which='SM');\n",
    "\n",
    "    # convert eigenvalue back to kx\n",
    "    kxdx_eig1 = np.sqrt(D[0] + (k0dx*n_waveguide)**2)/2\n",
    "    #kxdx_eig2 = np.sqrt(D[1] + (k0dx*n_waveguide)**2)/2\n",
    "    #for i in kxdx_eig1:\n",
    "    kxdx_eig=math.asin(kxdx_eig1)*2\n",
    "\n",
    "    # effective index\n",
    "    n_eff_eig = np.array(kxdx_eig)/k0dx\n",
    "\n",
    "    # transverse profile u_j(y) of the waveguide modes\n",
    "    u1 = V;\n",
    "    #u2 = V[:,1];\n",
    "\n",
    "    u1out = u1 * 0;\n",
    "    center0 = int(y0_waveguide / dy);\n",
    "    center1 = int(y1_waveguide / dy);\n",
    "    center2 = int(y2_waveguide / dy);\n",
    "    u1out[0 : - (center0 - center2)] = u1[center0 - center2 : ] * np.sqrt(percent1 / 100);\n",
    "    u1out[center1 - center0 : ] = u1out[center1 - center0 : ] + u1[0 : - (center1 - center0)] * np.sqrt(percent2 / 100);\n",
    "\n",
    "    u1stout = u1 * 0;\n",
    "    u1stout[0 : - (center0 - center2)] = u1[center0 - center2 : ]\n",
    "\n",
    "    u2ndout = u1 * 0;\n",
    "    u2ndout[center1 - center0 : ] = u1[0 : -(center1 - center0)]\n",
    "\n",
    "#     fig, axes = plt.subplots(figsize=[8, 6])\n",
    "#     plt.plot(y, abs(u1out));\n",
    "\n",
    "    # prefactor for the power of j-th waveguide mode in x direction\n",
    "    nu1 = np.real(np.sin(kxdx_eig))\n",
    "    #nu2 = np.real(np.sin(kxdx_eig[1]))\n",
    "    \n",
    "    # psi_in(x,y) = u_j(y)*exp(i*kx_j*x)\n",
    "    kx_1 = kxdx_eig/dx;\n",
    "    u_1 = V\n",
    "    psi_in = np.outer(u_1, np.exp(1j*kx_1*x)); #implicit expansion\n",
    "\n",
    "    # dx^2 times the 2D wave operator for the waveguide + disk system\n",
    "    # with effective outgoing boundary condition implemented using PML on all four sides.\n",
    "    A = build_laplacian_2d_PML(nx, ny, N_PML, N_PML, N_PML, N_PML) + sparse.spdiags(k0dx**2*n.flatten('F')**2, 0, nx*ny, nx*ny);\n",
    "\n",
    "    # dx^2 times the source profile b(x,y)\n",
    "    # recall x = 0 is the surface of PML\n",
    "    # n = N_PML + 1 => x_n = dx/2\n",
    "    # put a surface source at x_n = dx/2, where we want psi_in to have\n",
    "    # phase exp(1i*kx_1*dx/2)\n",
    "    b = np.zeros([ny, nx], dtype='complex_');\n",
    "    b[:, N_PML + 3 + 36 - 1] = 2j*nu1*u1[:,0]*np.exp(1j*kx_1*dx/2);\n",
    "    #b = -b\n",
    "    \n",
    "    # solve A*(psi_out+psi_sca) = b, psi_out+psi_sca = psi_tot when x>0\n",
    "    #psi_tot = np.reshape(sparse.linalg.spsolve(A,b.flatten('F')), [nx, ny])\n",
    "    psi_tot = np.reshape(sparse.linalg.spsolve(A,b.flatten('F')), [ny, nx], order = 'F')\n",
    "    #psi_tot = np.reshape(np.linalg.solve(np.array(A.todense()),b.flatten('F')), [ny, nx])\n",
    "    \n",
    "    regulation_connection_factor = 1.0 / (nx * ny * 4 * 10)\n",
    "    n_prediction = np.where(n > 1.0, 3.5, n)#n.copy()\n",
    "    continuous_control = np.abs(np.log(np.abs(psi_tot)) * (n_prediction - 1) / (3.5 - 1)) ** 2\n",
    "    \n",
    "    # (transmitted power)/(incident power) into each waveguide mode\n",
    "    # reacall incident wave is in 1st mode\n",
    "    # at y = 0\n",
    "    # need to use modes of the outgoing (vertical) waveguides, which in this\n",
    "    # geometry is the same as modes of the incoming (horizontal) waveguide.\n",
    "    ind_T = nx - N_PML - 3 - 36 + 1;\n",
    "    T1out = abs(np.dot(u1out[:,0].T,(psi_tot[:,ind_T].T)))**2\n",
    "    \n",
    "    continuous_control_large = np.where(continuous_control >= 0.00009, continuous_control, 0)\n",
    "    connection_loss_large = np.sum(continuous_control_large[ : , N_PML : nx - N_PML + 1])\n",
    "    #print(\"The connection loss of large loss value is: \", connection_loss_large, \".\")\n",
    "    \n",
    "    T1out1st = abs(np.dot(np.reshape(np.conjugate(u1stout), 144), np.reshape(psi_tot[:,ind_T], [144])))**2\n",
    "    T1out2nd = abs(np.dot(np.reshape(np.conjugate(u2ndout), 144), np.reshape(psi_tot[:,ind_T], [144])))**2\n",
    "    #print(\"The transmitted percentage of the 1st channel is: \", T1out1st / (T1out1st + T1out2nd), \".\")\n",
    "    #print(\"The transmitted percentage of the 2nd channel is: \", T1out2nd / (T1out1st + T1out2nd), \".\")\n",
    "                   \n",
    "    T1out_channel = T1out1st + T1out2nd\n",
    "    #T1out1st = T1out1st / T1out_channel\n",
    "    #T1out2nd = T1out2nd / T1out_channel\n",
    "    print(\"The total transmitted power is: \", T1out_channel, \".\")\n",
    "    print(\"The transmitted power of the 1st channel is: \", T1out1st, \".\")\n",
    "    print(\"The transmitted power of the 2nd channel is: \", T1out2nd, \".\")\n",
    "    \n",
    "    psi_transmission_total = np.zeros([nx])\n",
    "    for xi in range(0, nx - 1):\n",
    "        psi_transmission_total[xi] = np.imag(np.dot(np.conjugate(psi_tot[:, xi]), psi_tot[:, xi + 1].T)) / np.sin(kx_1 * (x[1] - x[0]))\n",
    "    psi_transmission_total[ind_T]\n",
    "    \n",
    "    psi_transmission_bottom_continuous = np.zeros([nx])\n",
    "    for xi in range(0, nx - 1):\n",
    "        #psi_transmission_bottom_continuous[xi] = np.imag(np.dot(np.conjugate(psi_tot[39 : 57, xi]), psi_tot[39 : 57, xi + 1].T)) / np.sin(kx_1 * (x[1] - x[0]))\n",
    "        psi_transmission_bottom_continuous[xi] = np.imag(np.dot(np.conjugate(psi_tot[0 : 72, xi]), psi_tot[0 : 72, xi + 1].T)) / np.sin(kx_1 * (x[1] - x[0]))\n",
    "    \n",
    "    psi_transmission_top_continuous = np.zeros([nx])\n",
    "    for xi in range(0, nx - 1):\n",
    "        #psi_transmission_top_continuous[xi] = np.imag(np.dot(np.conjugate(psi_tot[87 : 105, xi]), psi_tot[87 : 105, xi + 1].T)) / np.sin(kx_1 * (x[1] - x[0]))\n",
    "        psi_transmission_top_continuous[xi] = np.imag(np.dot(np.conjugate(psi_tot[72 : 144, xi]), psi_tot[72 : 144, xi + 1].T)) / np.sin(kx_1 * (x[1] - x[0]))\n",
    "    \n",
    "    #n_waveguide_control = np.where(continuous_control >= 0.00010, 1.0, n)\n",
    "    #n_waveguide = n;\n",
    "\n",
    "    ntransmit_simulationregion = n[9 : 39, 9 : 39]\n",
    "    ntransmit_resize = n[27 : 117, 63 : 153]\n",
    "\n",
    "    ntransmit_3interpolation = np.zeros([144, 216])\n",
    "    for iy in range(0, 144, 3):\n",
    "        for ix in range(0, 216, 3):\n",
    "            ntransmit_3interpolation[iy : iy + 3, ix : ix + 3] = np.ones([3, 3]) * ntransmit[int(iy / 3), int(ix / 3)]\n",
    "    ntransmit_3interpolation[27 : 117, 63 : 153] = ntransmit_resize\n",
    "    n = ntransmit_3interpolation\n",
    "\n",
    "    n_waveguide_control = n.copy()\n",
    "    n_waveguide_control1 = n_waveguide_control[N_PML + 3 : ny - N_PML - 3, N_PML + 3 + 36 : nx - N_PML - 3 - 36]\n",
    "    n_waveguide_control2 = n_waveguide_control1.copy()\n",
    "    n_waveguide_control1 = np.exp(-(continuous_control[N_PML + 3 : ny - N_PML - 3, N_PML + 3 + 36 : nx - N_PML - 3 - 36]))\n",
    "    #n_waveguide_control1 = continuous_control[N_PML + 3 : ny - N_PML - 3, N_PML + 3 + 36 : nx - N_PML - 3 - 36]\n",
    "    n_waveguide_control_watch = n_waveguide_control1.copy()\n",
    "    n_waveguide_control_threshold = np.exp(-continuous_control)\n",
    "\n",
    "    energy1 = np.mean(n_waveguide_control_threshold[39 : 57, ind_T : ind_T + 5])\n",
    "    energy2 = np.mean(n_waveguide_control_threshold[87 : 105, ind_T : ind_T + 5])\n",
    "    small_energy = energy1\n",
    "    if energy1 >= energy2:\n",
    "        small_energy = energy2\n",
    "    input_energy = np.mean(n_waveguide_control_threshold[19 : 27, N_PML + 3 + 31 : N_PML + 3 + 36])\n",
    "    #n_waveguide_control1 = np.where(n_waveguide_control1 >= 0.0001 * input_energy, n_waveguide_control2, 1.0)\n",
    "    n_waveguide_control1 = np.where(n_waveguide_control1 >= 0.001 * small_energy, n_waveguide_control2, 1.0)\n",
    "    #control_energy = np.min([0.0001 * input_energy, 0.01 * small_energy])\n",
    "    #n_waveguide_control1 = np.where(n_waveguide_control1 >= control_energy, n_waveguide_control2, 1.0)\n",
    "    #n_waveguide_control1 = n_waveguide_control2\n",
    "    print(small_energy)#\n",
    "\n",
    "    #n_waveguide_control1 = (n_waveguide_control1 - np.min(n_waveguide_control1)) / (np.max(n_waveguide_control1) - np.min(n_waveguide_control1))\n",
    "    #n_waveguide_control1 = n_waveguide_control1 * 2.5 + 1\n",
    "    n_continuous = n.copy()\n",
    "    n_continuous[N_PML + 3 : ny - N_PML - 3, N_PML + 3 + 36 : nx - N_PML - 3 - 36] = n_waveguide_control1\n",
    "    #n_continuous = np.where(n_continuous > 2.5, n_continuous, 1.0)\n",
    "    for yi in range(1, ny - 1):\n",
    "        for xi in range(1, nx - 1):\n",
    "            if n_continuous[yi, xi] == 1 and \\\n",
    "            (n_continuous[yi - 1, xi - 1] > 1 and n_continuous[yi - 1, xi] > 1 and n_continuous[yi - 1, xi + 1] > 1 and\n",
    "             n_continuous[yi, xi - 1] > 1 and n_continuous[yi, xi + 1] > 1 and \n",
    "             n_continuous[yi + 1, xi - 1] > 1 and n_continuous[yi + 1, xi] > 1 and n_continuous[yi + 1, xi + 1] > 1):\n",
    "                print(\"find whole: (\", x_meshgrid[yi, xi], y_meshgrid[yi, xi], \").\")\n",
    "                print(\"original: \", n_continuous[yi, xi], \".\")\n",
    "                n_continuous[yi, xi] = (np.sum(n_continuous[yi - 1 : yi + 2, xi - 1 : xi + 2]) - n_continuous[yi, xi]) / 8\n",
    "                print(\"updated: \", n_continuous[yi, xi], \".\")\n",
    "\n",
    "    for yi in range(1, ny - 1):\n",
    "        for xi in range(1, nx - 1):\n",
    "            if n_continuous[yi, xi] > 1 and \\\n",
    "            (n_continuous[yi - 1, xi - 1] == 1 and n_continuous[yi - 1, xi] == 1 and n_continuous[yi - 1, xi + 1] == 1 and\n",
    "             n_continuous[yi, xi - 1] == 1 and n_continuous[yi, xi + 1] == 1 and \n",
    "             n_continuous[yi + 1, xi - 1] == 1 and n_continuous[yi + 1, xi] == 1 and n_continuous[yi + 1, xi + 1] == 1):\n",
    "                print(\"find point: (\", x_meshgrid[yi, xi], y_meshgrid[yi, xi], \").\")\n",
    "                print(\"original: \", n_continuous[yi, xi], \".\")\n",
    "                n_continuous[yi, xi] = 1.0\n",
    "                print(\"updated: \", n_continuous[yi, xi], \".\")\n",
    "\n",
    "\n",
    "    ntransmit_connected = n_continuous.copy()\n",
    "    ntransmit_binary = np.where(n_continuous >= 1.25, 1.0, 0.0)\n",
    "    ntransmit_binary_label, number_label = connection_label(ntransmit_binary) # https://zhajiman.github.io/post/connected_component_labelling/\n",
    "\n",
    "    for i_label in range(1, number_label + 1):\n",
    "        label_area = np.where(ntransmit_binary_label == i_label, 1.0, 0.0)\n",
    "        number_pixels = np.sum(label_area)\n",
    "        if number_pixels <= 900:\n",
    "            ntransmit_connected[ntransmit_binary_label == i_label] = 1.0\n",
    "    n_continuous = ntransmit_connected\n",
    "\n",
    "    ntransmit_connected = n_continuous.copy()\n",
    "    ntransmit_binary = np.where(n_continuous >= 2.25, 1.0, 0.0)\n",
    "    ntransmit_binary_label, number_label = connection_label(ntransmit_binary) # https://zhajiman.github.io/post/connected_component_labelling/\n",
    "\n",
    "    for i_label in range(1, number_label + 1):\n",
    "        label_area = np.where(ntransmit_binary_label == i_label, 1.0, 0.0)\n",
    "        number_pixels = np.sum(label_area)\n",
    "        if number_pixels <= 900:\n",
    "            ntransmit_connected[ntransmit_binary_label == i_label] = 1.0\n",
    "    n_continuous = ntransmit_connected\n",
    "    \n",
    "    fig, axes = plt.subplots(figsize=[5, 3])\n",
    "    #sns.heatmap(n)\n",
    "    plt.pcolormesh(x_meshgrid, y_meshgrid, n_continuous, cmap = 'gray')#'inferno'\n",
    "    #fig, axes = plt.subplots(figsize=[4, 3])\n",
    "    #plt.pcolormesh(x_meshgrid, y_meshgrid, n[0:48, 12:60], cmap = 'gray')#'gray' YlOrRd\n",
    "    #plt.pcolormesh(x_meshgrid[0:48, 12:60], y_meshgrid[0:48, 12:60], n[0:48, 12:60], cmap = 'gray')\n",
    "    plt.colorbar()\n",
    "    plt.axis('scaled')\n",
    "    plt.show()\n",
    "    \n",
    "#     fig, axes = plt.subplots(figsize=[5, 3])\n",
    "#     #sns.heatmap(n)\n",
    "#     plt.pcolormesh(x_meshgrid, y_meshgrid, n_continuous, cmap = 'gray')#'inferno'\n",
    "#     #fig, axes = plt.subplots(figsize=[4, 3])\n",
    "#     #plt.pcolormesh(x_meshgrid, y_meshgrid, n[0:48, 12:60], cmap = 'gray')#'gray' YlOrRd\n",
    "#     #plt.pcolormesh(x_meshgrid[0:48, 12:60], y_meshgrid[0:48, 12:60], n[0:48, 12:60], cmap = 'gray')\n",
    "#     plt.colorbar()\n",
    "#     plt.axis('scaled')\n",
    "#     plt.show()\n",
    "    \n",
    "    # k0dx = (omega/c)*dx\n",
    "\n",
    "    pi = 3.1415926\n",
    "    k0dx = 2*pi/lambda1*dx;\n",
    "    print(\"k0dx = \", k0dx)\n",
    "    #percent1 = 54\n",
    "    #percent2 = 46\n",
    "    # percentenergy_1 = 50\n",
    "    # percentenergy_2 = 50\n",
    "    # percent_1 = (percentenergy_1 ** 2) / (percentenergy_1 ** 2 + percentenergy_2 ** 2)\n",
    "    # percent_2 = 100 - percent_1\n",
    "\n",
    "    # dx^2 times the shifted eigen operatore for waveguide modes u(y)\n",
    "    # with effective outgoing boundary condition implemented using PML on the two sides.\n",
    "    A = build_laplacian_1d_PML(ny, N_PML, N_PML) + sparse.spdiags(k0dx**2*(n0_y**2 - n_waveguide**2), 0, ny, ny);\n",
    "\n",
    "    # compute first few eigenmodes with n_eff close to n_waveguide\n",
    "    n_eig = 1;\n",
    "    [D, V] = sparse.linalg.eigs(A, n_eig, which='SM');\n",
    "\n",
    "    # convert eigenvalue back to kx\n",
    "    kxdx_eig1 = np.sqrt(D[0] + (k0dx*n_waveguide)**2)/2;\n",
    "    #for i in kxdx_eig1:\n",
    "    kxdx_eig=math.asin(kxdx_eig1)*2\n",
    "    #kxdx_eig2=math.asin(kxdx_eig2)*2\n",
    "\n",
    "    # effective index\n",
    "    n_eff_eig = np.array(kxdx_eig)/k0dx\n",
    "\n",
    "    # transverse profile u_j(y) of the waveguide modes\n",
    "    u1 = V;\n",
    "    #u2 = V[:,1];\n",
    "\n",
    "    u1out = u1 * 0;\n",
    "    center0 = int(y0_waveguide / dy);\n",
    "    center1 = int(y1_waveguide / dy);\n",
    "    center2 = int(y2_waveguide / dy);\n",
    "    u1out[0 : - (center0 - center2)] = u1[center0 - center2 : ] * np.sqrt(percent1 / 100);\n",
    "    u1out[center1 - center0 : ] = u1out[center1 - center0 : ] + u1[0 : - (center1 - center0)] * np.sqrt(percent2 / 100);\n",
    "\n",
    "#     fig, axes = plt.subplots(figsize=[8, 6])\n",
    "#     plt.plot(y, abs(u1out));\n",
    "\n",
    "    # prefactor for the power of j-th waveguide mode in x direction\n",
    "    nu1 = np.real(np.sin(kxdx_eig))\n",
    "    #nu2 = np.real(np.sin(kxdx_eig[1]))\n",
    "    \n",
    "    # psi_in(x,y) = u_j(y)*exp(i*kx_j*x)\n",
    "    kx_1 = kxdx_eig/dx;\n",
    "    u_1 = V\n",
    "    psi_in = np.outer(u_1, np.exp(1j*kx_1*x)); #implicit expansion\n",
    "\n",
    "    # dx^2 times the 2D wave operator for the waveguide + disk system\n",
    "    # with effective outgoing boundary condition implemented using PML on all four sides.\n",
    "    A = build_laplacian_2d_PML(nx, ny, N_PML, N_PML, N_PML, N_PML) + sparse.spdiags(k0dx**2*n_continuous.flatten('F')**2, 0, nx*ny, nx*ny);\n",
    "\n",
    "    # dx^2 times the source profile b(x,y)\n",
    "    # recall x = 0 is the surface of PML\n",
    "    # n = N_PML + 1 => x_n = dx/2\n",
    "    # put a surface source at x_n = dx/2, where we want psi_in to have\n",
    "    # phase exp(1i*kx_1*dx/2)\n",
    "    b = np.zeros([ny, nx], dtype='complex_');\n",
    "    b[:, N_PML + 3 + 36 - 1] = 2j*nu1*u1[:,0]*np.exp(1j*kx_1*dx/2);\n",
    "    #b = -b\n",
    "    \n",
    "    # solve A*(psi_out+psi_sca) = b, psi_out+psi_sca = psi_tot when x>0\n",
    "    #psi_tot = np.reshape(sparse.linalg.spsolve(A,b.flatten('F')), [nx, ny])\n",
    "    psi_tot = np.reshape(sparse.linalg.spsolve(A,b.flatten('F')), [ny, nx], order = 'F')\n",
    "    #psi_tot = np.reshape(np.linalg.solve(np.array(A.todense()),b.flatten('F')), [ny, nx])\n",
    "    \n",
    "#     fig, axes = plt.subplots(figsize=[3, 3])\n",
    "#     plt.plot(y, abs(u1out), '--', label = 'Designed')\n",
    "#     plt.plot(y, abs(psi_tot[ : ,- N_PML - 1]), 'r-', label = 'Actual');\n",
    "#     #plt.plot(y, abs(psi_tot[ : ,- N_PML - 1 - 10]), 'r-', label = 'Actual');\n",
    "#     #plt.xlim([x[0], x[-1]])\n",
    "#     plt.ylim([0, 0.30])\n",
    "#     #hold on;\n",
    "#     #plt.plot(y, (n[ : , - N_PML - 1] - 1) / 12.5, 'r-');\n",
    "#     #hold off;\n",
    "#     plt.legend(loc = 0)\n",
    "#     plt.show()\n",
    "    \n",
    "    # (transmitted power)/(incident power) into each waveguide mode\n",
    "    # reacall incident wave is in 1st mode\n",
    "    # at y = 0\n",
    "    # need to use modes of the outgoing (vertical) waveguides, which in this\n",
    "    # geometry is the same as modes of the incoming (horizontal) waveguide.\n",
    "    ind_T = nx - N_PML - 3 - 36 + 1;\n",
    "    T1out = abs(np.dot(u1out[:,0],(psi_tot[:,ind_T])))**2\n",
    "    \n",
    "    T1out1st_smooth = abs(np.dot(np.reshape(np.conjugate(u1stout), 144), np.reshape(psi_tot[:,ind_T], 144)))**2\n",
    "    T1out2nd_smooth = abs(np.dot(np.reshape(np.conjugate(u2ndout), 144), np.reshape(psi_tot[:,ind_T], 144)))**2\n",
    "    \n",
    "    T1out_smooth = T1out1st_smooth + T1out2nd_smooth\n",
    "    #T1out1st_smooth = T1out1st_smooth / T1out_smooth\n",
    "    #T1out2nd_smooth = T1out2nd_smooth / T1out_smooth\n",
    "    print(\"The total transmitted power is: \", T1out_smooth, \".\")\n",
    "    print(\"The transmitted power of the 1st channel is: \", T1out1st_smooth, \".\")\n",
    "    print(\"The transmitted power of the 2nd channel is: \", T1out2nd_smooth, \".\")\n",
    "    \n",
    "    psi_transmission_total_continuous_smooth = np.zeros([nx])\n",
    "    for xi in range(0, nx - 1):\n",
    "        psi_transmission_total_continuous_smooth[xi] = np.imag(np.dot(np.conjugate(psi_tot[:, xi]), psi_tot[:, xi + 1].T)) / np.sin(kx_1 * (x[1] - x[0]))\n",
    "    psi_transmission_total_continuous_smooth[ind_T]\n",
    "    if percent1 >= 51:\n",
    "        return [percent2 / 100, T1out_channel, T1out2nd, T1out1st, \n",
    "                psi_transmission_total[ind_T], psi_transmission_top_continuous[ind_T], psi_transmission_bottom_continuous[ind_T],\n",
    "                T1out_smooth, T1out2nd_smooth, T1out1st_smooth, psi_transmission_total_continuous_smooth[ind_T]]\n",
    "    return [percent1 / 100, T1out_channel, T1out1st, T1out2nd, \n",
    "            psi_transmission_total[ind_T], psi_transmission_bottom_continuous[ind_T], psi_transmission_top_continuous[ind_T],\n",
    "            T1out_smooth, T1out1st_smooth, T1out2nd_smooth, psi_transmission_total_continuous_smooth[ind_T]]"
   ]
  },
  {
   "cell_type": "code",
   "execution_count": 6,
   "id": "f58160d6",
   "metadata": {},
   "outputs": [],
   "source": [
    "def compare_channels(percent1):\n",
    "    result_small = transmission_rate(percent1)\n",
    "    result_large = transmission_rate(100 - percent1)\n",
    "    if abs(result_small[8] - result_small[0]) + abs(result_small[9] - (100 - result_small[0])) <= abs(result_large[8] - result_large[0]) + abs(result_large[9] - (100 - result_large[0])):\n",
    "        return result_small\n",
    "    return result_large"
   ]
  },
  {
   "cell_type": "code",
   "execution_count": 7,
   "id": "eafb459b",
   "metadata": {
    "scrolled": true
   },
   "outputs": [
    {
     "name": "stdout",
     "output_type": "stream",
     "text": [
      "y0_waveguide = 0.8, y1_waveguide = 1.2000000000000002, y2_waveguide = 0.4\n",
      "k0dx =  0.0675611311827957\n",
      "The total transmitted power is:  0.9933563644269461 .\n",
      "The transmitted power of the 1st channel is:  0.00845973045443069 .\n",
      "The transmitted power of the 2nd channel is:  0.9848966339725154 ."
     ]
    },
    {
     "name": "stderr",
     "output_type": "stream",
     "text": [
      "C:\\Users\\DELL\\AppData\\Local\\Temp/ipykernel_13824/4265854839.py:148: ComplexWarning: Casting complex values to real discards the imaginary part\n",
      "  kxdx_eig=math.asin(kxdx_eig1)*2\n"
     ]
    },
    {
     "name": "stdout",
     "output_type": "stream",
     "text": [
      "\n",
      "1.444385432586118e-06\n"
     ]
    },
    {
     "name": "stderr",
     "output_type": "stream",
     "text": [
      "C:\\Users\\DELL\\AppData\\Local\\Temp/ipykernel_13824/4265854839.py:329: MatplotlibDeprecationWarning: shading='flat' when X and Y have the same dimensions as C is deprecated since 3.3.  Either specify the corners of the quadrilaterals with X and Y, or pass shading='auto', 'nearest' or 'gouraud', or set rcParams['pcolor.shading'].  This will become an error two minor releases later.\n",
      "  plt.pcolormesh(x_meshgrid, y_meshgrid, n_continuous, cmap = 'gray')#'inferno'\n"
     ]
    },
    {
     "data": {
      "image/png": "[encoded data removed]",
      "text/plain": [
       "<Figure size 360x216 with 2 Axes>"
      ]
     },
     "metadata": {
      "needs_background": "light"
     },
     "output_type": "display_data"
    },
    {
     "name": "stdout",
     "output_type": "stream",
     "text": [
      "k0dx =  0.0675611311827957\n"
     ]
    },
    {
     "name": "stderr",
     "output_type": "stream",
     "text": [
      "C:\\Users\\DELL\\AppData\\Local\\Temp/ipykernel_13824/4265854839.py:370: ComplexWarning: Casting complex values to real discards the imaginary part\n",
      "  kxdx_eig=math.asin(kxdx_eig1)*2\n"
     ]
    },
    {
     "name": "stdout",
     "output_type": "stream",
     "text": [
      "The total transmitted power is:  0.9935788931305736 .\n",
      "The transmitted power of the 1st channel is:  0.0054627161056645095 .\n",
      "The transmitted power of the 2nd channel is:  0.9881161770249091 .\n",
      "y0_waveguide = 0.8, y1_waveguide = 1.2000000000000002, y2_waveguide = 0.4\n",
      "k0dx =  0.0675611311827957\n",
      "The total transmitted power is:  0.9925542753206774 .\n",
      "The transmitted power of the 1st channel is:  0.015122416192969768 .\n",
      "The transmitted power of the 2nd channel is:  0.9774318591277077 .\n",
      "5.256556516586274e-06\n"
     ]
    },
    {
     "data": {
      "image/png": "[encoded data removed]",
      "text/plain": [
       "<Figure size 360x216 with 2 Axes>"
      ]
     },
     "metadata": {
      "needs_background": "light"
     },
     "output_type": "display_data"
    },
    {
     "name": "stdout",
     "output_type": "stream",
     "text": [
      "k0dx =  0.0675611311827957\n",
      "The total transmitted power is:  0.9930312915711726 .\n",
      "The transmitted power of the 1st channel is:  0.011463995444336315 .\n",
      "The transmitted power of the 2nd channel is:  0.9815672961268364 .\n",
      "y0_waveguide = 0.8, y1_waveguide = 1.2000000000000002, y2_waveguide = 0.4\n",
      "k0dx =  0.0675611311827957\n",
      "The total transmitted power is:  0.9959902788768062 .\n",
      "The transmitted power of the 1st channel is:  0.024457226641325647 .\n",
      "The transmitted power of the 2nd channel is:  0.9715330522354806 .\n",
      "2.4897471609196017e-05\n",
      "find point: ( 0.525 0.44166666666666665 ).\n",
      "original:  1.0000288486480713 .\n",
      "updated:  1.0 .\n"
     ]
    },
    {
     "data": {
      "image/png": "[encoded data removed]",
      "text/plain": [
       "<Figure size 360x216 with 2 Axes>"
      ]
     },
     "metadata": {
      "needs_background": "light"
     },
     "output_type": "display_data"
    },
    {
     "name": "stdout",
     "output_type": "stream",
     "text": [
      "k0dx =  0.0675611311827957\n",
      "The total transmitted power is:  0.9946782299380287 .\n",
      "The transmitted power of the 1st channel is:  0.021088456469071662 .\n",
      "The transmitted power of the 2nd channel is:  0.973589773468957 .\n",
      "y0_waveguide = 0.8, y1_waveguide = 1.2000000000000002, y2_waveguide = 0.4\n",
      "k0dx =  0.0675611311827957\n",
      "The total transmitted power is:  0.9975229586223714 .\n",
      "The transmitted power of the 1st channel is:  0.03497387705709906 .\n",
      "The transmitted power of the 2nd channel is:  0.9625490815652723 .\n",
      "8.062829734028014e-05\n"
     ]
    },
    {
     "data": {
      "image/png": "[encoded data removed]",
      "text/plain": [
       "<Figure size 360x216 with 2 Axes>"
      ]
     },
     "metadata": {
      "needs_background": "light"
     },
     "output_type": "display_data"
    },
    {
     "name": "stdout",
     "output_type": "stream",
     "text": [
      "k0dx =  0.0675611311827957\n",
      "The total transmitted power is:  0.9926339717187641 .\n",
      "The transmitted power of the 1st channel is:  0.025830039368740013 .\n",
      "The transmitted power of the 2nd channel is:  0.966803932350024 .\n",
      "y0_waveguide = 0.8, y1_waveguide = 1.2000000000000002, y2_waveguide = 0.4\n",
      "k0dx =  0.0675611311827957\n",
      "The total transmitted power is:  0.9964949455783566 .\n",
      "The transmitted power of the 1st channel is:  0.04565448019896255 .\n",
      "The transmitted power of the 2nd channel is:  0.950840465379394 .\n",
      "0.0001604994484555719\n"
     ]
    },
    {
     "data": {
      "image/png": "[encoded data removed]",
      "text/plain": [
       "<Figure size 360x216 with 2 Axes>"
      ]
     },
     "metadata": {
      "needs_background": "light"
     },
     "output_type": "display_data"
    },
    {
     "name": "stdout",
     "output_type": "stream",
     "text": [
      "k0dx =  0.0675611311827957\n",
      "The total transmitted power is:  0.9908611372242359 .\n",
      "The transmitted power of the 1st channel is:  0.04056576288724872 .\n",
      "The transmitted power of the 2nd channel is:  0.9502953743369872 .\n",
      "y0_waveguide = 0.8, y1_waveguide = 1.2000000000000002, y2_waveguide = 0.4\n",
      "k0dx =  0.0675611311827957\n",
      "The total transmitted power is:  0.9955770076436237 .\n",
      "The transmitted power of the 1st channel is:  0.055864991454324456 .\n",
      "The transmitted power of the 2nd channel is:  0.9397120161892992 .\n",
      "0.0002837855224165902\n"
     ]
    },
    {
     "data": {
      "image/png": "[encoded data removed]",
      "text/plain": [
       "<Figure size 360x216 with 2 Axes>"
      ]
     },
     "metadata": {
      "needs_background": "light"
     },
     "output_type": "display_data"
    },
    {
     "name": "stdout",
     "output_type": "stream",
     "text": [
      "k0dx =  0.0675611311827957\n",
      "The total transmitted power is:  0.9899195512580297 .\n",
      "The transmitted power of the 1st channel is:  0.048536163160502147 .\n",
      "The transmitted power of the 2nd channel is:  0.9413833880975275 .\n",
      "y0_waveguide = 0.8, y1_waveguide = 1.2000000000000002, y2_waveguide = 0.4\n",
      "k0dx =  0.0675611311827957\n",
      "The total transmitted power is:  0.9950333007563653 .\n",
      "The transmitted power of the 1st channel is:  0.06632359228122284 .\n",
      "The transmitted power of the 2nd channel is:  0.9287097084751424 .\n",
      "0.000462486455299332\n"
     ]
    },
    {
     "data": {
      "image/png": "[encoded data removed]",
      "text/plain": [
       "<Figure size 360x216 with 2 Axes>"
      ]
     },
     "metadata": {
      "needs_background": "light"
     },
     "output_type": "display_data"
    },
    {
     "name": "stdout",
     "output_type": "stream",
     "text": [
      "k0dx =  0.0675611311827957\n",
      "The total transmitted power is:  0.9929644575456791 .\n",
      "The transmitted power of the 1st channel is:  0.05838957131613205 .\n",
      "The transmitted power of the 2nd channel is:  0.934574886229547 .\n",
      "y0_waveguide = 0.8, y1_waveguide = 1.2000000000000002, y2_waveguide = 0.4\n",
      "k0dx =  0.0675611311827957\n",
      "The total transmitted power is:  0.994626715436172 .\n",
      "The transmitted power of the 1st channel is:  0.0769817475241398 .\n",
      "The transmitted power of the 2nd channel is:  0.9176449679120322 .\n",
      "0.0006942143647876624\n"
     ]
    },
    {
     "data": {
      "image/png": "[encoded data removed]",
      "text/plain": [
       "<Figure size 360x216 with 2 Axes>"
      ]
     },
     "metadata": {
      "needs_background": "light"
     },
     "output_type": "display_data"
    },
    {
     "name": "stdout",
     "output_type": "stream",
     "text": [
      "k0dx =  0.0675611311827957\n",
      "The total transmitted power is:  0.9949829491483907 .\n",
      "The transmitted power of the 1st channel is:  0.07090725087001705 .\n",
      "The transmitted power of the 2nd channel is:  0.9240756982783737 .\n",
      "y0_waveguide = 0.8, y1_waveguide = 1.2000000000000002, y2_waveguide = 0.4\n",
      "k0dx =  0.0675611311827957\n",
      "The total transmitted power is:  0.9947278669502612 .\n",
      "The transmitted power of the 1st channel is:  0.08374856218557966 .\n",
      "The transmitted power of the 2nd channel is:  0.9109793047646815 .\n",
      "0.0008728717351689967\n"
     ]
    },
    {
     "data": {
      "image/png": "[encoded data removed]",
      "text/plain": [
       "<Figure size 360x216 with 2 Axes>"
      ]
     },
     "metadata": {
      "needs_background": "light"
     },
     "output_type": "display_data"
    },
    {
     "name": "stdout",
     "output_type": "stream",
     "text": [
      "k0dx =  0.0675611311827957\n",
      "The total transmitted power is:  0.9956548454062643 .\n",
      "The transmitted power of the 1st channel is:  0.07842837711718706 .\n",
      "The transmitted power of the 2nd channel is:  0.9172264682890772 .\n",
      "y0_waveguide = 0.8, y1_waveguide = 1.2000000000000002, y2_waveguide = 0.4\n",
      "k0dx =  0.0675611311827957\n",
      "The total transmitted power is:  0.9949702740331057 .\n",
      "The transmitted power of the 1st channel is:  0.08930111240639821 .\n",
      "The transmitted power of the 2nd channel is:  0.9056691616267074 .\n",
      "0.0010416834030818802\n"
     ]
    },
    {
     "data": {
      "image/png": "[encoded data removed]",
      "text/plain": [
       "<Figure size 360x216 with 2 Axes>"
      ]
     },
     "metadata": {
      "needs_background": "light"
     },
     "output_type": "display_data"
    },
    {
     "name": "stdout",
     "output_type": "stream",
     "text": [
      "k0dx =  0.0675611311827957\n",
      "The total transmitted power is:  0.9960168178743948 .\n",
      "The transmitted power of the 1st channel is:  0.08529490062104188 .\n",
      "The transmitted power of the 2nd channel is:  0.9107219172533529 .\n",
      "y0_waveguide = 0.8, y1_waveguide = 1.2000000000000002, y2_waveguide = 0.4\n",
      "k0dx =  0.0675611311827957\n",
      "The total transmitted power is:  0.9949199449411065 .\n",
      "The transmitted power of the 1st channel is:  0.09627092734873519 .\n",
      "The transmitted power of the 2nd channel is:  0.8986490175923713 .\n",
      "0.0012779542721927818\n"
     ]
    },
    {
     "data": {
      "image/png": "[encoded data removed]",
      "text/plain": [
       "<Figure size 360x216 with 2 Axes>"
      ]
     },
     "metadata": {
      "needs_background": "light"
     },
     "output_type": "display_data"
    },
    {
     "name": "stdout",
     "output_type": "stream",
     "text": [
      "k0dx =  0.0675611311827957\n",
      "The total transmitted power is:  0.9957971039272713 .\n",
      "The transmitted power of the 1st channel is:  0.0930683065330058 .\n",
      "The transmitted power of the 2nd channel is:  0.9027287973942655 .\n",
      "y0_waveguide = 0.8, y1_waveguide = 1.2000000000000002, y2_waveguide = 0.4\n",
      "k0dx =  0.0675611311827957\n",
      "The total transmitted power is:  0.9943023069504497 .\n",
      "The transmitted power of the 1st channel is:  0.10631180835321236 .\n",
      "The transmitted power of the 2nd channel is:  0.8879904985972374 .\n",
      "0.0016519108694909245\n"
     ]
    },
    {
     "data": {
      "image/png": "[encoded data removed]",
      "text/plain": [
       "<Figure size 360x216 with 2 Axes>"
      ]
     },
     "metadata": {
      "needs_background": "light"
     },
     "output_type": "display_data"
    },
    {
     "name": "stdout",
     "output_type": "stream",
     "text": [
      "k0dx =  0.0675611311827957\n",
      "The total transmitted power is:  0.995281344908519 .\n",
      "The transmitted power of the 1st channel is:  0.10284060143165981 .\n",
      "The transmitted power of the 2nd channel is:  0.8924407434768592 .\n",
      "y0_waveguide = 0.8, y1_waveguide = 1.2000000000000002, y2_waveguide = 0.4\n",
      "k0dx =  0.0675611311827957\n",
      "The total transmitted power is:  0.993375790222104 .\n",
      "The transmitted power of the 1st channel is:  0.11867412224290906 .\n",
      "The transmitted power of the 2nd channel is:  0.8747016679791949 .\n",
      "0.0021650234780217496\n"
     ]
    },
    {
     "data": {
      "image/png": "[encoded data removed]",
      "text/plain": [
       "<Figure size 360x216 with 2 Axes>"
      ]
     },
     "metadata": {
      "needs_background": "light"
     },
     "output_type": "display_data"
    },
    {
     "name": "stdout",
     "output_type": "stream",
     "text": [
      "k0dx =  0.0675611311827957\n",
      "The total transmitted power is:  0.9941427694574219 .\n",
      "The transmitted power of the 1st channel is:  0.11567326946195618 .\n",
      "The transmitted power of the 2nd channel is:  0.8784694999954656 .\n",
      "y0_waveguide = 0.8, y1_waveguide = 1.2000000000000002, y2_waveguide = 0.4\n",
      "k0dx =  0.0675611311827957\n",
      "The total transmitted power is:  0.9924999330845317 .\n",
      "The transmitted power of the 1st channel is:  0.13106897524677893 .\n",
      "The transmitted power of the 2nd channel is:  0.8614309578377527 .\n",
      "0.0027095144022777845\n"
     ]
    },
    {
     "data": {
      "image/png": "[encoded data removed]",
      "text/plain": [
       "<Figure size 360x216 with 2 Axes>"
      ]
     },
     "metadata": {
      "needs_background": "light"
     },
     "output_type": "display_data"
    },
    {
     "name": "stdout",
     "output_type": "stream",
     "text": [
      "k0dx =  0.0675611311827957\n",
      "The total transmitted power is:  0.9930418117304187 .\n",
      "The transmitted power of the 1st channel is:  0.12761323410145872 .\n",
      "The transmitted power of the 2nd channel is:  0.86542857762896 .\n",
      "y0_waveguide = 0.8, y1_waveguide = 1.2000000000000002, y2_waveguide = 0.4\n",
      "k0dx =  0.0675611311827957\n",
      "The total transmitted power is:  0.9917477166077907 .\n",
      "The transmitted power of the 1st channel is:  0.14237451477890206 .\n",
      "The transmitted power of the 2nd channel is:  0.8493732018288886 .\n",
      "0.0032403883496202254\n"
     ]
    },
    {
     "data": {
      "image/png": "[encoded data removed]",
      "text/plain": [
       "<Figure size 360x216 with 2 Axes>"
      ]
     },
     "metadata": {
      "needs_background": "light"
     },
     "output_type": "display_data"
    },
    {
     "name": "stdout",
     "output_type": "stream",
     "text": [
      "k0dx =  0.0675611311827957\n",
      "The total transmitted power is:  0.9921621298546585 .\n",
      "The transmitted power of the 1st channel is:  0.13947458261189885 .\n",
      "The transmitted power of the 2nd channel is:  0.8526875472427596 .\n",
      "y0_waveguide = 0.8, y1_waveguide = 1.2000000000000002, y2_waveguide = 0.4\n",
      "k0dx =  0.0675611311827957\n",
      "The total transmitted power is:  0.9912599851065107 .\n",
      "The transmitted power of the 1st channel is:  0.15204469563473338 .\n",
      "The transmitted power of the 2nd channel is:  0.8392152894717773 .\n",
      "0.0037085558240976296\n"
     ]
    },
    {
     "data": {
      "image/png": "[encoded data removed]",
      "text/plain": [
       "<Figure size 360x216 with 2 Axes>"
      ]
     },
     "metadata": {
      "needs_background": "light"
     },
     "output_type": "display_data"
    },
    {
     "name": "stdout",
     "output_type": "stream",
     "text": [
      "k0dx =  0.0675611311827957\n",
      "The total transmitted power is:  0.9915663467541598 .\n",
      "The transmitted power of the 1st channel is:  0.1480005012259888 .\n",
      "The transmitted power of the 2nd channel is:  0.843565845528171 .\n",
      "y0_waveguide = 0.8, y1_waveguide = 1.2000000000000002, y2_waveguide = 0.4\n",
      "k0dx =  0.0675611311827957\n",
      "The total transmitted power is:  0.9912362021414287 .\n",
      "The transmitted power of the 1st channel is:  0.16211844049456697 .\n",
      "The transmitted power of the 2nd channel is:  0.8291177616468618 .\n",
      "0.00426330360338434\n"
     ]
    },
    {
     "data": {
      "image/png": "[encoded data removed]",
      "text/plain": [
       "<Figure size 360x216 with 2 Axes>"
      ]
     },
     "metadata": {
      "needs_background": "light"
     },
     "output_type": "display_data"
    },
    {
     "name": "stdout",
     "output_type": "stream",
     "text": [
      "k0dx =  0.0675611311827957\n",
      "The total transmitted power is:  0.9915237869239484 .\n",
      "The transmitted power of the 1st channel is:  0.1571169374259503 .\n",
      "The transmitted power of the 2nd channel is:  0.8344068494979981 .\n",
      "y0_waveguide = 0.8, y1_waveguide = 1.2000000000000002, y2_waveguide = 0.4\n",
      "k0dx =  0.0675611311827957\n",
      "The total transmitted power is:  0.991650745833382 .\n",
      "The transmitted power of the 1st channel is:  0.17190936206496985 .\n",
      "The transmitted power of the 2nd channel is:  0.8197413837684121 .\n",
      "0.004839742821898355\n"
     ]
    },
    {
     "data": {
      "image/png": "[encoded data removed]",
      "text/plain": [
       "<Figure size 360x216 with 2 Axes>"
      ]
     },
     "metadata": {
      "needs_background": "light"
     },
     "output_type": "display_data"
    },
    {
     "name": "stdout",
     "output_type": "stream",
     "text": [
      "k0dx =  0.0675611311827957\n",
      "The total transmitted power is:  0.9919870796754917 .\n",
      "The transmitted power of the 1st channel is:  0.16630578077118252 .\n",
      "The transmitted power of the 2nd channel is:  0.8256812989043092 .\n",
      "y0_waveguide = 0.8, y1_waveguide = 1.2000000000000002, y2_waveguide = 0.4\n",
      "k0dx =  0.0675611311827957\n",
      "The total transmitted power is:  0.9921685812952452 .\n",
      "The transmitted power of the 1st channel is:  0.18237524518903572 .\n",
      "The transmitted power of the 2nd channel is:  0.8097933361062095 .\n",
      "0.005488868660977414\n"
     ]
    },
    {
     "data": {
      "image/png": "[encoded data removed]",
      "text/plain": [
       "<Figure size 360x216 with 2 Axes>"
      ]
     },
     "metadata": {
      "needs_background": "light"
     },
     "output_type": "display_data"
    },
    {
     "name": "stdout",
     "output_type": "stream",
     "text": [
      "k0dx =  0.0675611311827957\n",
      "The total transmitted power is:  0.992616800774273 .\n",
      "The transmitted power of the 1st channel is:  0.17706080022589896 .\n",
      "The transmitted power of the 2nd channel is:  0.815556000548374 .\n",
      "y0_waveguide = 0.8, y1_waveguide = 1.2000000000000002, y2_waveguide = 0.4\n",
      "k0dx =  0.0675611311827957\n",
      "The total transmitted power is:  0.9926227158323132 .\n",
      "The transmitted power of the 1st channel is:  0.192450866481356 .\n",
      "The transmitted power of the 2nd channel is:  0.8001718493509572 .\n",
      "0.006155168509065436\n"
     ]
    },
    {
     "data": {
      "image/png": "[encoded data removed]",
      "text/plain": [
       "<Figure size 360x216 with 2 Axes>"
      ]
     },
     "metadata": {
      "needs_background": "light"
     },
     "output_type": "display_data"
    },
    {
     "name": "stdout",
     "output_type": "stream",
     "text": [
      "k0dx =  0.0675611311827957\n",
      "The total transmitted power is:  0.9930420733343827 .\n",
      "The transmitted power of the 1st channel is:  0.18678514722543915 .\n",
      "The transmitted power of the 2nd channel is:  0.8062569261089435 .\n",
      "y0_waveguide = 0.8, y1_waveguide = 1.2000000000000002, y2_waveguide = 0.4\n",
      "k0dx =  0.0675611311827957\n",
      "The total transmitted power is:  0.9929427958883403 .\n",
      "The transmitted power of the 1st channel is:  0.20377569785968225 .\n",
      "The transmitted power of the 2nd channel is:  0.789167098028658 .\n",
      "0.006973737389265881\n"
     ]
    },
    {
     "data": {
      "image/png": "[encoded data removed]",
      "text/plain": [
       "<Figure size 360x216 with 2 Axes>"
      ]
     },
     "metadata": {
      "needs_background": "light"
     },
     "output_type": "display_data"
    },
    {
     "name": "stdout",
     "output_type": "stream",
     "text": [
      "k0dx =  0.0675611311827957\n",
      "The total transmitted power is:  0.9933366835255242 .\n",
      "The transmitted power of the 1st channel is:  0.1991972528408053 .\n",
      "The transmitted power of the 2nd channel is:  0.7941394306847188 .\n",
      "y0_waveguide = 0.8, y1_waveguide = 1.2000000000000002, y2_waveguide = 0.4\n",
      "k0dx =  0.0675611311827957\n",
      "The total transmitted power is:  0.9933004703053493 .\n",
      "The transmitted power of the 1st channel is:  0.21488441956411253 .\n",
      "The transmitted power of the 2nd channel is:  0.7784160507412368 .\n",
      "0.0077983012647981995\n"
     ]
    },
    {
     "data": {
      "image/png": "[encoded data removed]",
      "text/plain": [
       "<Figure size 360x216 with 2 Axes>"
      ]
     },
     "metadata": {
      "needs_background": "light"
     },
     "output_type": "display_data"
    },
    {
     "name": "stdout",
     "output_type": "stream",
     "text": [
      "k0dx =  0.0675611311827957\n",
      "The total transmitted power is:  0.9936885599798696 .\n",
      "The transmitted power of the 1st channel is:  0.21046768023531784 .\n",
      "The transmitted power of the 2nd channel is:  0.7832208797445518 .\n",
      "y0_waveguide = 0.8, y1_waveguide = 1.2000000000000002, y2_waveguide = 0.4\n",
      "k0dx =  0.0675611311827957\n",
      "The total transmitted power is:  0.9936619497543023 .\n",
      "The transmitted power of the 1st channel is:  0.22559206699191336 .\n",
      "The transmitted power of the 2nd channel is:  0.768069882762389 .\n",
      "0.008630435298714132\n"
     ]
    },
    {
     "data": {
      "image/png": "[encoded data removed]",
      "text/plain": [
       "<Figure size 360x216 with 2 Axes>"
      ]
     },
     "metadata": {
      "needs_background": "light"
     },
     "output_type": "display_data"
    },
    {
     "name": "stdout",
     "output_type": "stream",
     "text": [
      "k0dx =  0.0675611311827957\n",
      "The total transmitted power is:  0.9940795581835813 .\n",
      "The transmitted power of the 1st channel is:  0.22267292421490115 .\n",
      "The transmitted power of the 2nd channel is:  0.7714066339686801 .\n",
      "y0_waveguide = 0.8, y1_waveguide = 1.2000000000000002, y2_waveguide = 0.4\n",
      "k0dx =  0.0675611311827957\n",
      "The total transmitted power is:  0.9939538325141869 .\n",
      "The transmitted power of the 1st channel is:  0.23694666550187551 .\n",
      "The transmitted power of the 2nd channel is:  0.7570071670123114 .\n",
      "0.00960483305611534\n"
     ]
    },
    {
     "data": {
      "image/png": "[encoded data removed]",
      "text/plain": [
       "<Figure size 360x216 with 2 Axes>"
      ]
     },
     "metadata": {
      "needs_background": "light"
     },
     "output_type": "display_data"
    },
    {
     "name": "stdout",
     "output_type": "stream",
     "text": [
      "k0dx =  0.0675611311827957\n",
      "The total transmitted power is:  0.9945392293005024 .\n",
      "The transmitted power of the 1st channel is:  0.2352317004052254 .\n",
      "The transmitted power of the 2nd channel is:  0.7593075288952771 .\n",
      "y0_waveguide = 0.8, y1_waveguide = 1.2000000000000002, y2_waveguide = 0.4\n",
      "k0dx =  0.0675611311827957\n",
      "The total transmitted power is:  0.9940409483674216 .\n",
      "The transmitted power of the 1st channel is:  0.24809863161362442 .\n",
      "The transmitted power of the 2nd channel is:  0.7459423167537972 .\n",
      "0.010632384576056104\n"
     ]
    },
    {
     "data": {
      "image/png": "[encoded data removed]",
      "text/plain": [
       "<Figure size 360x216 with 2 Axes>"
      ]
     },
     "metadata": {
      "needs_background": "light"
     },
     "output_type": "display_data"
    },
    {
     "name": "stdout",
     "output_type": "stream",
     "text": [
      "k0dx =  0.0675611311827957\n",
      "The total transmitted power is:  0.9947866098541925 .\n",
      "The transmitted power of the 1st channel is:  0.24698728939370396 .\n",
      "The transmitted power of the 2nd channel is:  0.7477993204604886 .\n",
      "y0_waveguide = 0.8, y1_waveguide = 1.2000000000000002, y2_waveguide = 0.4\n",
      "k0dx =  0.0675611311827957\n",
      "The total transmitted power is:  0.9940426340819185 .\n",
      "The transmitted power of the 1st channel is:  0.2590486724755203 .\n",
      "The transmitted power of the 2nd channel is:  0.7349939616063982 .\n",
      "0.011626368351312436\n"
     ]
    },
    {
     "data": {
      "image/png": "[encoded data removed]",
      "text/plain": [
       "<Figure size 360x216 with 2 Axes>"
      ]
     },
     "metadata": {
      "needs_background": "light"
     },
     "output_type": "display_data"
    },
    {
     "name": "stdout",
     "output_type": "stream",
     "text": [
      "k0dx =  0.0675611311827957\n",
      "The total transmitted power is:  0.9948507428351003 .\n",
      "The transmitted power of the 1st channel is:  0.25818742172033543 .\n",
      "The transmitted power of the 2nd channel is:  0.7366633211147648 .\n",
      "y0_waveguide = 0.8, y1_waveguide = 1.2000000000000002, y2_waveguide = 0.4\n",
      "k0dx =  0.0675611311827957\n",
      "The total transmitted power is:  0.9938227160266906 .\n",
      "The transmitted power of the 1st channel is:  0.270298768596883 .\n",
      "The transmitted power of the 2nd channel is:  0.7235239474298075 .\n",
      "0.012712256001808177\n"
     ]
    },
    {
     "data": {
      "image/png": "[encoded data removed]",
      "text/plain": [
       "<Figure size 360x216 with 2 Axes>"
      ]
     },
     "metadata": {
      "needs_background": "light"
     },
     "output_type": "display_data"
    },
    {
     "name": "stdout",
     "output_type": "stream",
     "text": [
      "k0dx =  0.0675611311827957\n",
      "The total transmitted power is:  0.9946026545703035 .\n",
      "The transmitted power of the 1st channel is:  0.269894447196888 .\n",
      "The transmitted power of the 2nd channel is:  0.7247082073734156 .\n",
      "y0_waveguide = 0.8, y1_waveguide = 1.2000000000000002, y2_waveguide = 0.4\n",
      "k0dx =  0.0675611311827957\n",
      "The total transmitted power is:  0.9934245247447335 .\n",
      "The transmitted power of the 1st channel is:  0.28113763729520885 .\n",
      "The transmitted power of the 2nd channel is:  0.7122868874495247 .\n",
      "0.013809280264764584\n"
     ]
    },
    {
     "data": {
      "image/png": "[encoded data removed]",
      "text/plain": [
       "<Figure size 360x216 with 2 Axes>"
      ]
     },
     "metadata": {
      "needs_background": "light"
     },
     "output_type": "display_data"
    },
    {
     "name": "stdout",
     "output_type": "stream",
     "text": [
      "k0dx =  0.0675611311827957\n",
      "The total transmitted power is:  0.9942373179973818 .\n",
      "The transmitted power of the 1st channel is:  0.28093283943729463 .\n",
      "The transmitted power of the 2nd channel is:  0.7133044785600872 .\n",
      "y0_waveguide = 0.8, y1_waveguide = 1.2000000000000002, y2_waveguide = 0.4\n",
      "k0dx =  0.0675611311827957\n",
      "The total transmitted power is:  0.9929823093323759 .\n",
      "The transmitted power of the 1st channel is:  0.29100573073855496 .\n",
      "The transmitted power of the 2nd channel is:  0.7019765785938209 .\n",
      "0.01484321603088397\n"
     ]
    },
    {
     "data": {
      "image/png": "[encoded data removed]",
      "text/plain": [
       "<Figure size 360x216 with 2 Axes>"
      ]
     },
     "metadata": {
      "needs_background": "light"
     },
     "output_type": "display_data"
    },
    {
     "name": "stdout",
     "output_type": "stream",
     "text": [
      "k0dx =  0.0675611311827957\n",
      "The total transmitted power is:  0.993742888348301 .\n",
      "The transmitted power of the 1st channel is:  0.2909458435377477 .\n",
      "The transmitted power of the 2nd channel is:  0.7027970448105534 .\n",
      "y0_waveguide = 0.8, y1_waveguide = 1.2000000000000002, y2_waveguide = 0.4\n",
      "k0dx =  0.0675611311827957\n",
      "The total transmitted power is:  0.9924070444321784 .\n",
      "The transmitted power of the 1st channel is:  0.30006815818342597 .\n",
      "The transmitted power of the 2nd channel is:  0.6923388862487525 .\n",
      "0.015855711773275816\n"
     ]
    },
    {
     "data": {
      "image/png": "[encoded data removed]",
      "text/plain": [
       "<Figure size 360x216 with 2 Axes>"
      ]
     },
     "metadata": {
      "needs_background": "light"
     },
     "output_type": "display_data"
    },
    {
     "name": "stdout",
     "output_type": "stream",
     "text": [
      "k0dx =  0.0675611311827957\n",
      "The total transmitted power is:  0.9932963205736765 .\n",
      "The transmitted power of the 1st channel is:  0.3005197950278738 .\n",
      "The transmitted power of the 2nd channel is:  0.6927765255458027 .\n",
      "y0_waveguide = 0.8, y1_waveguide = 1.2000000000000002, y2_waveguide = 0.4\n",
      "k0dx =  0.0675611311827957\n",
      "The total transmitted power is:  0.9919206761074646 .\n",
      "The transmitted power of the 1st channel is:  0.308301072904915 .\n",
      "The transmitted power of the 2nd channel is:  0.6836196032025497 .\n",
      "0.016761439445923947\n"
     ]
    },
    {
     "data": {
      "image/png": "[encoded data removed]",
      "text/plain": [
       "<Figure size 360x216 with 2 Axes>"
      ]
     },
     "metadata": {
      "needs_background": "light"
     },
     "output_type": "display_data"
    },
    {
     "name": "stdout",
     "output_type": "stream",
     "text": [
      "k0dx =  0.0675611311827957\n",
      "The total transmitted power is:  0.9927461272461355 .\n",
      "The transmitted power of the 1st channel is:  0.30897364736086697 .\n",
      "The transmitted power of the 2nd channel is:  0.6837724798852686 .\n",
      "y0_waveguide = 0.8, y1_waveguide = 1.2000000000000002, y2_waveguide = 0.4\n",
      "k0dx =  0.0675611311827957\n",
      "The total transmitted power is:  0.9914548886156176 .\n",
      "The transmitted power of the 1st channel is:  0.31644208852677097 .\n",
      "The transmitted power of the 2nd channel is:  0.6750128000888467 .\n",
      "0.01766561304735554\n"
     ]
    },
    {
     "data": {
      "image/png": "[encoded data removed]",
      "text/plain": [
       "<Figure size 360x216 with 2 Axes>"
      ]
     },
     "metadata": {
      "needs_background": "light"
     },
     "output_type": "display_data"
    },
    {
     "name": "stdout",
     "output_type": "stream",
     "text": [
      "k0dx =  0.0675611311827957\n",
      "The total transmitted power is:  0.9923776785228268 .\n",
      "The transmitted power of the 1st channel is:  0.31704377715437004 .\n",
      "The transmitted power of the 2nd channel is:  0.6753339013684567 .\n",
      "y0_waveguide = 0.8, y1_waveguide = 1.2000000000000002, y2_waveguide = 0.4\n",
      "k0dx =  0.0675611311827957\n",
      "The total transmitted power is:  0.991022936900364 .\n",
      "The transmitted power of the 1st channel is:  0.3247908923014207 .\n",
      "The transmitted power of the 2nd channel is:  0.6662320445989434 .\n",
      "0.018558343161935373\n"
     ]
    },
    {
     "data": {
      "image/png": "[encoded data removed]",
      "text/plain": [
       "<Figure size 360x216 with 2 Axes>"
      ]
     },
     "metadata": {
      "needs_background": "light"
     },
     "output_type": "display_data"
    },
    {
     "name": "stdout",
     "output_type": "stream",
     "text": [
      "k0dx =  0.0675611311827957\n",
      "The total transmitted power is:  0.9919980818560179 .\n",
      "The transmitted power of the 1st channel is:  0.32549273310405435 .\n",
      "The transmitted power of the 2nd channel is:  0.6665053487519635 .\n",
      "y0_waveguide = 0.8, y1_waveguide = 1.2000000000000002, y2_waveguide = 0.4\n",
      "k0dx =  0.0675611311827957\n",
      "The total transmitted power is:  0.9906508076498746 .\n",
      "The transmitted power of the 1st channel is:  0.3333023796798212 .\n",
      "The transmitted power of the 2nd channel is:  0.6573484279700534 .\n",
      "0.01947037789369378\n"
     ]
    },
    {
     "data": {
      "image/png": "[encoded data removed]",
      "text/plain": [
       "<Figure size 360x216 with 2 Axes>"
      ]
     },
     "metadata": {
      "needs_background": "light"
     },
     "output_type": "display_data"
    },
    {
     "name": "stdout",
     "output_type": "stream",
     "text": [
      "k0dx =  0.0675611311827957\n",
      "The total transmitted power is:  0.9916701272417464 .\n",
      "The transmitted power of the 1st channel is:  0.33393902817019583 .\n",
      "The transmitted power of the 2nd channel is:  0.6577310990715506 .\n",
      "y0_waveguide = 0.8, y1_waveguide = 1.2000000000000002, y2_waveguide = 0.4\n",
      "k0dx =  0.0675611311827957\n",
      "The total transmitted power is:  0.9902711740080985 .\n",
      "The transmitted power of the 1st channel is:  0.34208286101233826 .\n",
      "The transmitted power of the 2nd channel is:  0.6481883129957603 .\n",
      "0.020414993012058878\n"
     ]
    },
    {
     "data": {
      "image/png": "[encoded data removed]",
      "text/plain": [
       "<Figure size 360x216 with 2 Axes>"
      ]
     },
     "metadata": {
      "needs_background": "light"
     },
     "output_type": "display_data"
    },
    {
     "name": "stdout",
     "output_type": "stream",
     "text": [
      "k0dx =  0.0675611311827957\n",
      "The total transmitted power is:  0.9913032156136281 .\n",
      "The transmitted power of the 1st channel is:  0.3427016507538532 .\n",
      "The transmitted power of the 2nd channel is:  0.6486015648597749 .\n",
      "y0_waveguide = 0.8, y1_waveguide = 1.2000000000000002, y2_waveguide = 0.4\n",
      "k0dx =  0.0675611311827957\n",
      "The total transmitted power is:  0.9899237595876256 .\n",
      "The transmitted power of the 1st channel is:  0.35098223096864756 .\n",
      "The transmitted power of the 2nd channel is:  0.638941528618978 .\n",
      "0.021374628354341053\n"
     ]
    },
    {
     "data": {
      "image/png": "[encoded data removed]",
      "text/plain": [
       "<Figure size 360x216 with 2 Axes>"
      ]
     },
     "metadata": {
      "needs_background": "light"
     },
     "output_type": "display_data"
    },
    {
     "name": "stdout",
     "output_type": "stream",
     "text": [
      "k0dx =  0.0675611311827957\n",
      "The total transmitted power is:  0.990905680863587 .\n",
      "The transmitted power of the 1st channel is:  0.3519298475850548 .\n",
      "The transmitted power of the 2nd channel is:  0.6389758332785321 .\n",
      "y0_waveguide = 0.8, y1_waveguide = 1.2000000000000002, y2_waveguide = 0.4\n",
      "k0dx =  0.0675611311827957\n",
      "The total transmitted power is:  0.9894627325307711 .\n",
      "The transmitted power of the 1st channel is:  0.36016589656715126 .\n",
      "The transmitted power of the 2nd channel is:  0.6292968359636198 .\n",
      "0.022372792818567556\n"
     ]
    },
    {
     "data": {
      "image/png": "[encoded data removed]",
      "text/plain": [
       "<Figure size 360x216 with 2 Axes>"
      ]
     },
     "metadata": {
      "needs_background": "light"
     },
     "output_type": "display_data"
    },
    {
     "name": "stdout",
     "output_type": "stream",
     "text": [
      "k0dx =  0.0675611311827957\n",
      "The total transmitted power is:  0.9905401858422834 .\n",
      "The transmitted power of the 1st channel is:  0.3617783403503557 .\n",
      "The transmitted power of the 2nd channel is:  0.6287618454919277 .\n",
      "y0_waveguide = 0.8, y1_waveguide = 1.2000000000000002, y2_waveguide = 0.4\n",
      "k0dx =  0.0675611311827957\n",
      "The total transmitted power is:  0.9888126847161718 .\n",
      "The transmitted power of the 1st channel is:  0.3690614164138047 .\n",
      "The transmitted power of the 2nd channel is:  0.619751268302367 .\n",
      "0.023372111367793443\n"
     ]
    },
    {
     "data": {
      "image/png": "[encoded data removed]",
      "text/plain": [
       "<Figure size 360x216 with 2 Axes>"
      ]
     },
     "metadata": {
      "needs_background": "light"
     },
     "output_type": "display_data"
    },
    {
     "name": "stdout",
     "output_type": "stream",
     "text": [
      "k0dx =  0.0675611311827957\n",
      "The total transmitted power is:  0.9898602617616594 .\n",
      "The transmitted power of the 1st channel is:  0.37059943082899965 .\n",
      "The transmitted power of the 2nd channel is:  0.6192608309326597 .\n",
      "y0_waveguide = 0.8, y1_waveguide = 1.2000000000000002, y2_waveguide = 0.4\n",
      "k0dx =  0.0675611311827957\n",
      "The total transmitted power is:  0.9881384013631741 .\n",
      "The transmitted power of the 1st channel is:  0.3773545515376948 .\n",
      "The transmitted power of the 2nd channel is:  0.6107838498254793 .\n",
      "0.02433474361916694\n"
     ]
    },
    {
     "data": {
      "image/png": "[encoded data removed]",
      "text/plain": [
       "<Figure size 360x216 with 2 Axes>"
      ]
     },
     "metadata": {
      "needs_background": "light"
     },
     "output_type": "display_data"
    },
    {
     "name": "stdout",
     "output_type": "stream",
     "text": [
      "k0dx =  0.0675611311827957\n",
      "The total transmitted power is:  0.9892418354527001 .\n",
      "The transmitted power of the 1st channel is:  0.37899678263399095 .\n",
      "The transmitted power of the 2nd channel is:  0.6102450528187091 .\n",
      "y0_waveguide = 0.8, y1_waveguide = 1.2000000000000002, y2_waveguide = 0.4\n",
      "k0dx =  0.0675611311827957\n",
      "The total transmitted power is:  0.9876398072988636 .\n",
      "The transmitted power of the 1st channel is:  0.3855063782298711 .\n",
      "The transmitted power of the 2nd channel is:  0.6021334290689925 .\n",
      "0.025250644035961372\n"
     ]
    },
    {
     "data": {
      "image/png": "[encoded data removed]",
      "text/plain": [
       "<Figure size 360x216 with 2 Axes>"
      ]
     },
     "metadata": {
      "needs_background": "light"
     },
     "output_type": "display_data"
    },
    {
     "name": "stdout",
     "output_type": "stream",
     "text": [
      "k0dx =  0.0675611311827957\n",
      "The total transmitted power is:  0.9887518133031064 .\n",
      "The transmitted power of the 1st channel is:  0.38724163424531227 .\n",
      "The transmitted power of the 2nd channel is:  0.6015101790577941 .\n",
      "y0_waveguide = 0.8, y1_waveguide = 1.2000000000000002, y2_waveguide = 0.4\n",
      "k0dx =  0.0675611311827957\n",
      "The total transmitted power is:  0.9873176345116279 .\n",
      "The transmitted power of the 1st channel is:  0.3936307211962912 .\n",
      "The transmitted power of the 2nd channel is:  0.5936869133153366 .\n",
      "0.026176075715469777\n"
     ]
    },
    {
     "data": {
      "image/png": "[encoded data removed]",
      "text/plain": [
       "<Figure size 360x216 with 2 Axes>"
      ]
     },
     "metadata": {
      "needs_background": "light"
     },
     "output_type": "display_data"
    },
    {
     "name": "stdout",
     "output_type": "stream",
     "text": [
      "k0dx =  0.0675611311827957\n",
      "The total transmitted power is:  0.9886183064231724 .\n",
      "The transmitted power of the 1st channel is:  0.39451848405474205 .\n",
      "The transmitted power of the 2nd channel is:  0.5940998223684304 .\n",
      "y0_waveguide = 0.8, y1_waveguide = 1.2000000000000002, y2_waveguide = 0.4\n",
      "k0dx =  0.0675611311827957\n",
      "The total transmitted power is:  0.9868638920375572 .\n",
      "The transmitted power of the 1st channel is:  0.40235498277143383 .\n",
      "The transmitted power of the 2nd channel is:  0.5845089092661233 .\n",
      "0.027189968929138712\n"
     ]
    },
    {
     "data": {
      "image/png": "[encoded data removed]",
      "text/plain": [
       "<Figure size 360x216 with 2 Axes>"
      ]
     },
     "metadata": {
      "needs_background": "light"
     },
     "output_type": "display_data"
    },
    {
     "name": "stdout",
     "output_type": "stream",
     "text": [
      "k0dx =  0.0675611311827957\n",
      "The total transmitted power is:  0.9877421502886574 .\n",
      "The transmitted power of the 1st channel is:  0.4028126883472136 .\n",
      "The transmitted power of the 2nd channel is:  0.5849294619414438 .\n",
      "y0_waveguide = 0.8, y1_waveguide = 1.2000000000000002, y2_waveguide = 0.4\n",
      "k0dx =  0.0675611311827957\n",
      "The total transmitted power is:  0.9863112607275328 .\n",
      "The transmitted power of the 1st channel is:  0.4120741230367681 .\n",
      "The transmitted power of the 2nd channel is:  0.5742371376907647 .\n",
      "0.02830218070637631\n"
     ]
    },
    {
     "data": {
      "image/png": "[encoded data removed]",
      "text/plain": [
       "<Figure size 360x216 with 2 Axes>"
      ]
     },
     "metadata": {
      "needs_background": "light"
     },
     "output_type": "display_data"
    },
    {
     "name": "stdout",
     "output_type": "stream",
     "text": [
      "k0dx =  0.0675611311827957\n",
      "The total transmitted power is:  0.9873715175469289 .\n",
      "The transmitted power of the 1st channel is:  0.4120448612210493 .\n",
      "The transmitted power of the 2nd channel is:  0.5753266563258796 .\n",
      "y0_waveguide = 0.8, y1_waveguide = 1.2000000000000002, y2_waveguide = 0.4\n",
      "k0dx =  0.0675611311827957\n",
      "The total transmitted power is:  0.9857483100748132 .\n",
      "The transmitted power of the 1st channel is:  0.4223781265742618 .\n",
      "The transmitted power of the 2nd channel is:  0.5633701835005515 .\n",
      "0.02947208974288743\n"
     ]
    },
    {
     "data": {
      "image/png": "[encoded data removed]",
      "text/plain": [
       "<Figure size 360x216 with 2 Axes>"
      ]
     },
     "metadata": {
      "needs_background": "light"
     },
     "output_type": "display_data"
    },
    {
     "name": "stdout",
     "output_type": "stream",
     "text": [
      "k0dx =  0.0675611311827957\n",
      "The total transmitted power is:  0.9869169703297587 .\n",
      "The transmitted power of the 1st channel is:  0.421960924807997 .\n",
      "The transmitted power of the 2nd channel is:  0.5649560455217617 .\n",
      "y0_waveguide = 0.8, y1_waveguide = 1.2000000000000002, y2_waveguide = 0.4\n",
      "k0dx =  0.0675611311827957\n",
      "The total transmitted power is:  0.9853465161801978 .\n",
      "The transmitted power of the 1st channel is:  0.43251946281315007 .\n",
      "The transmitted power of the 2nd channel is:  0.5528270533670476 .\n",
      "0.030603537151833296\n"
     ]
    },
    {
     "data": {
      "image/png": "[encoded data removed]",
      "text/plain": [
       "<Figure size 360x216 with 2 Axes>"
      ]
     },
     "metadata": {
      "needs_background": "light"
     },
     "output_type": "display_data"
    },
    {
     "name": "stdout",
     "output_type": "stream",
     "text": [
      "k0dx =  0.0675611311827957\n",
      "The total transmitted power is:  0.986670800989401 .\n",
      "The transmitted power of the 1st channel is:  0.4321266311617092 .\n",
      "The transmitted power of the 2nd channel is:  0.5545441698276918 .\n",
      "y0_waveguide = 0.8, y1_waveguide = 1.2000000000000002, y2_waveguide = 0.4\n",
      "k0dx =  0.0675611311827957\n",
      "The total transmitted power is:  0.9853627381761518 .\n",
      "The transmitted power of the 1st channel is:  0.44267831546702147 .\n",
      "The transmitted power of the 2nd channel is:  0.5426844227091303 .\n",
      "0.03174497714130906\n"
     ]
    },
    {
     "data": {
      "image/png": "[encoded data removed]",
      "text/plain": [
       "<Figure size 360x216 with 2 Axes>"
      ]
     },
     "metadata": {
      "needs_background": "light"
     },
     "output_type": "display_data"
    },
    {
     "name": "stdout",
     "output_type": "stream",
     "text": [
      "k0dx =  0.0675611311827957\n",
      "The total transmitted power is:  0.9861877590045085 .\n",
      "The transmitted power of the 1st channel is:  0.4420090041986266 .\n",
      "The transmitted power of the 2nd channel is:  0.5441787548058818 .\n",
      "y0_waveguide = 0.8, y1_waveguide = 1.2000000000000002, y2_waveguide = 0.4\n",
      "k0dx =  0.0675611311827957\n",
      "The total transmitted power is:  0.9857028624658379 .\n",
      "The transmitted power of the 1st channel is:  0.4530480652900943 .\n",
      "The transmitted power of the 2nd channel is:  0.5326547971757437 .\n",
      "0.03294090349776992\n"
     ]
    },
    {
     "data": {
      "image/png": "[encoded data removed]",
      "text/plain": [
       "<Figure size 360x216 with 2 Axes>"
      ]
     },
     "metadata": {
      "needs_background": "light"
     },
     "output_type": "display_data"
    },
    {
     "name": "stdout",
     "output_type": "stream",
     "text": [
      "k0dx =  0.0675611311827957\n",
      "The total transmitted power is:  0.9862503060063117 .\n",
      "The transmitted power of the 1st channel is:  0.4516941751519152 .\n",
      "The transmitted power of the 2nd channel is:  0.5345561308543966 .\n",
      "y0_waveguide = 0.8, y1_waveguide = 1.2000000000000002, y2_waveguide = 0.4\n",
      "k0dx =  0.0675611311827957\n",
      "The total transmitted power is:  0.9864121829352928 .\n",
      "The transmitted power of the 1st channel is:  0.4630654288066677 .\n",
      "The transmitted power of the 2nd channel is:  0.5233467541286251 .\n",
      "0.03409955080342916\n"
     ]
    },
    {
     "data": {
      "image/png": "[encoded data removed]",
      "text/plain": [
       "<Figure size 360x216 with 2 Axes>"
      ]
     },
     "metadata": {
      "needs_background": "light"
     },
     "output_type": "display_data"
    },
    {
     "name": "stdout",
     "output_type": "stream",
     "text": [
      "k0dx =  0.0675611311827957\n",
      "The total transmitted power is:  0.9870448749257159 .\n",
      "The transmitted power of the 1st channel is:  0.4620166978158838 .\n",
      "The transmitted power of the 2nd channel is:  0.5250281771098321 .\n",
      "y0_waveguide = 0.8, y1_waveguide = 1.2000000000000002, y2_waveguide = 0.4\n",
      "k0dx =  0.0675611311827957\n",
      "The total transmitted power is:  0.9875283091382858 .\n",
      "The transmitted power of the 1st channel is:  0.47330589943374124 .\n",
      "The transmitted power of the 2nd channel is:  0.5142224097045446 .\n",
      "0.03531924909207549\n"
     ]
    },
    {
     "data": {
      "image/png": "[encoded data removed]",
      "text/plain": [
       "<Figure size 360x216 with 2 Axes>"
      ]
     },
     "metadata": {
      "needs_background": "light"
     },
     "output_type": "display_data"
    },
    {
     "name": "stdout",
     "output_type": "stream",
     "text": [
      "k0dx =  0.0675611311827957\n",
      "The total transmitted power is:  0.9878088843169002 .\n",
      "The transmitted power of the 1st channel is:  0.4719910290858293 .\n",
      "The transmitted power of the 2nd channel is:  0.5158178552310708 .\n",
      "y0_waveguide = 0.8, y1_waveguide = 1.2000000000000002, y2_waveguide = 0.4\n",
      "k0dx =  0.0675611311827957\n",
      "The total transmitted power is:  0.9887378228963115 .\n",
      "The transmitted power of the 1st channel is:  0.484125138762775 .\n",
      "The transmitted power of the 2nd channel is:  0.5046126841335365 .\n",
      "0.03649987581350379\n"
     ]
    },
    {
     "data": {
      "image/png": "[encoded data removed]",
      "text/plain": [
       "<Figure size 360x216 with 2 Axes>"
      ]
     },
     "metadata": {
      "needs_background": "light"
     },
     "output_type": "display_data"
    },
    {
     "name": "stdout",
     "output_type": "stream",
     "text": [
      "k0dx =  0.0675611311827957\n",
      "The total transmitted power is:  0.9891093118621719 .\n",
      "The transmitted power of the 1st channel is:  0.48259522115155973 .\n",
      "The transmitted power of the 2nd channel is:  0.5065140907106122 .\n"
     ]
    }
   ],
   "source": [
    "#percent1 = 96\n",
    "percent1_all = [0.01, 0.1, 1, 2, 3, 5, 12, 15, 24, 34, 49, 54, 65, 72, 86, 96]\n",
    "percent1_all = [i for i in range(1, 51, 1)]#2\n",
    "results_transmission = []\n",
    "for i in range(50):#25 16\n",
    "    transmission = transmission_rate(percent1_all[i])\n",
    "    results_transmission.append(transmission)"
   ]
  },
  {
   "cell_type": "code",
   "execution_count": 8,
   "id": "ad0976b6",
   "metadata": {},
   "outputs": [],
   "source": [
    "results_transmission_numpy = pd.DataFrame(results_transmission, columns = ['percent1', 'T1out_channel', 'T1out1st', 'T1out2nd', \n",
    "                                                                           'psi_transmission_total', 'psi_transmission_1st', 'psi_transmission_2nd',\n",
    "                                                                           'T1out_smooth', 'T1out1st_smooth',\n",
    "                                                                           'T1out2nd_smooth', 'psi_transmission_total_continuous_smooth'])"
   ]
  },
  {
   "cell_type": "code",
   "execution_count": 9,
   "id": "1a50cceb",
   "metadata": {},
   "outputs": [
    {
     "data": {
      "text/html": [
       "<div>\n",
       "<style scoped>\n",
       "    .dataframe tbody tr th:only-of-type {\n",
       "        vertical-align: middle;\n",
       "    }\n",
       "\n",
       "    .dataframe tbody tr th {\n",
       "        vertical-align: top;\n",
       "    }\n",
       "\n",
       "    .dataframe thead th {\n",
       "        text-align: right;\n",
       "    }\n",
       "</style>\n",
       "<table border=\"1\" class=\"dataframe\">\n",
       "  <thead>\n",
       "    <tr style=\"text-align: right;\">\n",
       "      <th></th>\n",
       "      <th>percent1</th>\n",
       "      <th>T1out_channel</th>\n",
       "      <th>T1out1st</th>\n",
       "      <th>T1out2nd</th>\n",
       "      <th>psi_transmission_total</th>\n",
       "      <th>psi_transmission_1st</th>\n",
       "      <th>psi_transmission_2nd</th>\n",
       "      <th>T1out_smooth</th>\n",
       "      <th>T1out1st_smooth</th>\n",
       "      <th>T1out2nd_smooth</th>\n",
       "      <th>psi_transmission_total_continuous_smooth</th>\n",
       "    </tr>\n",
       "  </thead>\n",
       "  <tbody>\n",
       "    <tr>\n",
       "      <th>0</th>\n",
       "      <td>0.01</td>\n",
       "      <td>0.993356</td>\n",
       "      <td>0.008460</td>\n",
       "      <td>0.984897</td>\n",
       "      <td>0.997728</td>\n",
       "      <td>0.010057</td>\n",
       "      <td>0.987671</td>\n",
       "      <td>0.993579</td>\n",
       "      <td>0.005463</td>\n",
       "      <td>0.988116</td>\n",
       "      <td>0.997710</td>\n",
       "    </tr>\n",
       "    <tr>\n",
       "      <th>1</th>\n",
       "      <td>0.02</td>\n",
       "      <td>0.992554</td>\n",
       "      <td>0.015122</td>\n",
       "      <td>0.977432</td>\n",
       "      <td>0.996750</td>\n",
       "      <td>0.015777</td>\n",
       "      <td>0.980974</td>\n",
       "      <td>0.993031</td>\n",
       "      <td>0.011464</td>\n",
       "      <td>0.981567</td>\n",
       "      <td>0.996395</td>\n",
       "    </tr>\n",
       "    <tr>\n",
       "      <th>2</th>\n",
       "      <td>0.03</td>\n",
       "      <td>0.995990</td>\n",
       "      <td>0.024457</td>\n",
       "      <td>0.971533</td>\n",
       "      <td>0.998249</td>\n",
       "      <td>0.024997</td>\n",
       "      <td>0.973252</td>\n",
       "      <td>0.994678</td>\n",
       "      <td>0.021088</td>\n",
       "      <td>0.973590</td>\n",
       "      <td>0.997512</td>\n",
       "    </tr>\n",
       "    <tr>\n",
       "      <th>3</th>\n",
       "      <td>0.04</td>\n",
       "      <td>0.997523</td>\n",
       "      <td>0.034974</td>\n",
       "      <td>0.962549</td>\n",
       "      <td>0.998781</td>\n",
       "      <td>0.035602</td>\n",
       "      <td>0.963178</td>\n",
       "      <td>0.992634</td>\n",
       "      <td>0.025830</td>\n",
       "      <td>0.966804</td>\n",
       "      <td>0.997591</td>\n",
       "    </tr>\n",
       "    <tr>\n",
       "      <th>4</th>\n",
       "      <td>0.05</td>\n",
       "      <td>0.996495</td>\n",
       "      <td>0.045654</td>\n",
       "      <td>0.950840</td>\n",
       "      <td>0.998020</td>\n",
       "      <td>0.046004</td>\n",
       "      <td>0.952016</td>\n",
       "      <td>0.990861</td>\n",
       "      <td>0.040566</td>\n",
       "      <td>0.950295</td>\n",
       "      <td>0.996635</td>\n",
       "    </tr>\n",
       "    <tr>\n",
       "      <th>5</th>\n",
       "      <td>0.06</td>\n",
       "      <td>0.995577</td>\n",
       "      <td>0.055865</td>\n",
       "      <td>0.939712</td>\n",
       "      <td>0.997279</td>\n",
       "      <td>0.056144</td>\n",
       "      <td>0.941135</td>\n",
       "      <td>0.989920</td>\n",
       "      <td>0.048536</td>\n",
       "      <td>0.941383</td>\n",
       "      <td>0.995899</td>\n",
       "    </tr>\n",
       "    <tr>\n",
       "      <th>6</th>\n",
       "      <td>0.07</td>\n",
       "      <td>0.995033</td>\n",
       "      <td>0.066324</td>\n",
       "      <td>0.928710</td>\n",
       "      <td>0.996803</td>\n",
       "      <td>0.066557</td>\n",
       "      <td>0.930246</td>\n",
       "      <td>0.992964</td>\n",
       "      <td>0.058390</td>\n",
       "      <td>0.934575</td>\n",
       "      <td>0.996335</td>\n",
       "    </tr>\n",
       "    <tr>\n",
       "      <th>7</th>\n",
       "      <td>0.08</td>\n",
       "      <td>0.994627</td>\n",
       "      <td>0.076982</td>\n",
       "      <td>0.917645</td>\n",
       "      <td>0.996157</td>\n",
       "      <td>0.077211</td>\n",
       "      <td>0.918947</td>\n",
       "      <td>0.994983</td>\n",
       "      <td>0.070907</td>\n",
       "      <td>0.924076</td>\n",
       "      <td>0.996426</td>\n",
       "    </tr>\n",
       "    <tr>\n",
       "      <th>8</th>\n",
       "      <td>0.09</td>\n",
       "      <td>0.994728</td>\n",
       "      <td>0.083749</td>\n",
       "      <td>0.910979</td>\n",
       "      <td>0.996081</td>\n",
       "      <td>0.084068</td>\n",
       "      <td>0.912013</td>\n",
       "      <td>0.995655</td>\n",
       "      <td>0.078428</td>\n",
       "      <td>0.917226</td>\n",
       "      <td>0.996521</td>\n",
       "    </tr>\n",
       "    <tr>\n",
       "      <th>9</th>\n",
       "      <td>0.10</td>\n",
       "      <td>0.994970</td>\n",
       "      <td>0.089301</td>\n",
       "      <td>0.905669</td>\n",
       "      <td>0.996240</td>\n",
       "      <td>0.089842</td>\n",
       "      <td>0.906398</td>\n",
       "      <td>0.996017</td>\n",
       "      <td>0.085295</td>\n",
       "      <td>0.910722</td>\n",
       "      <td>0.996777</td>\n",
       "    </tr>\n",
       "    <tr>\n",
       "      <th>10</th>\n",
       "      <td>0.11</td>\n",
       "      <td>0.994920</td>\n",
       "      <td>0.096271</td>\n",
       "      <td>0.898649</td>\n",
       "      <td>0.996319</td>\n",
       "      <td>0.097136</td>\n",
       "      <td>0.899183</td>\n",
       "      <td>0.995797</td>\n",
       "      <td>0.093068</td>\n",
       "      <td>0.902729</td>\n",
       "      <td>0.996824</td>\n",
       "    </tr>\n",
       "    <tr>\n",
       "      <th>11</th>\n",
       "      <td>0.12</td>\n",
       "      <td>0.994302</td>\n",
       "      <td>0.106312</td>\n",
       "      <td>0.887990</td>\n",
       "      <td>0.996055</td>\n",
       "      <td>0.107557</td>\n",
       "      <td>0.888498</td>\n",
       "      <td>0.995281</td>\n",
       "      <td>0.102841</td>\n",
       "      <td>0.892441</td>\n",
       "      <td>0.996539</td>\n",
       "    </tr>\n",
       "    <tr>\n",
       "      <th>12</th>\n",
       "      <td>0.13</td>\n",
       "      <td>0.993376</td>\n",
       "      <td>0.118674</td>\n",
       "      <td>0.874702</td>\n",
       "      <td>0.995374</td>\n",
       "      <td>0.120209</td>\n",
       "      <td>0.875165</td>\n",
       "      <td>0.994143</td>\n",
       "      <td>0.115673</td>\n",
       "      <td>0.878469</td>\n",
       "      <td>0.995770</td>\n",
       "    </tr>\n",
       "    <tr>\n",
       "      <th>13</th>\n",
       "      <td>0.14</td>\n",
       "      <td>0.992500</td>\n",
       "      <td>0.131069</td>\n",
       "      <td>0.861431</td>\n",
       "      <td>0.994362</td>\n",
       "      <td>0.132665</td>\n",
       "      <td>0.861697</td>\n",
       "      <td>0.993042</td>\n",
       "      <td>0.127613</td>\n",
       "      <td>0.865429</td>\n",
       "      <td>0.994598</td>\n",
       "    </tr>\n",
       "    <tr>\n",
       "      <th>14</th>\n",
       "      <td>0.15</td>\n",
       "      <td>0.991748</td>\n",
       "      <td>0.142375</td>\n",
       "      <td>0.849373</td>\n",
       "      <td>0.993455</td>\n",
       "      <td>0.143977</td>\n",
       "      <td>0.849478</td>\n",
       "      <td>0.992162</td>\n",
       "      <td>0.139475</td>\n",
       "      <td>0.852688</td>\n",
       "      <td>0.993580</td>\n",
       "    </tr>\n",
       "    <tr>\n",
       "      <th>15</th>\n",
       "      <td>0.16</td>\n",
       "      <td>0.991260</td>\n",
       "      <td>0.152045</td>\n",
       "      <td>0.839215</td>\n",
       "      <td>0.992819</td>\n",
       "      <td>0.153572</td>\n",
       "      <td>0.839246</td>\n",
       "      <td>0.991566</td>\n",
       "      <td>0.148001</td>\n",
       "      <td>0.843566</td>\n",
       "      <td>0.992697</td>\n",
       "    </tr>\n",
       "    <tr>\n",
       "      <th>16</th>\n",
       "      <td>0.17</td>\n",
       "      <td>0.991236</td>\n",
       "      <td>0.162118</td>\n",
       "      <td>0.829118</td>\n",
       "      <td>0.992848</td>\n",
       "      <td>0.163712</td>\n",
       "      <td>0.829136</td>\n",
       "      <td>0.991524</td>\n",
       "      <td>0.157117</td>\n",
       "      <td>0.834407</td>\n",
       "      <td>0.992517</td>\n",
       "    </tr>\n",
       "    <tr>\n",
       "      <th>17</th>\n",
       "      <td>0.18</td>\n",
       "      <td>0.991651</td>\n",
       "      <td>0.171909</td>\n",
       "      <td>0.819741</td>\n",
       "      <td>0.993366</td>\n",
       "      <td>0.173577</td>\n",
       "      <td>0.819789</td>\n",
       "      <td>0.991987</td>\n",
       "      <td>0.166306</td>\n",
       "      <td>0.825681</td>\n",
       "      <td>0.992903</td>\n",
       "    </tr>\n",
       "    <tr>\n",
       "      <th>18</th>\n",
       "      <td>0.19</td>\n",
       "      <td>0.992169</td>\n",
       "      <td>0.182375</td>\n",
       "      <td>0.809793</td>\n",
       "      <td>0.993942</td>\n",
       "      <td>0.184059</td>\n",
       "      <td>0.809883</td>\n",
       "      <td>0.992617</td>\n",
       "      <td>0.177061</td>\n",
       "      <td>0.815556</td>\n",
       "      <td>0.993469</td>\n",
       "    </tr>\n",
       "    <tr>\n",
       "      <th>19</th>\n",
       "      <td>0.20</td>\n",
       "      <td>0.992623</td>\n",
       "      <td>0.192451</td>\n",
       "      <td>0.800172</td>\n",
       "      <td>0.994454</td>\n",
       "      <td>0.194164</td>\n",
       "      <td>0.800290</td>\n",
       "      <td>0.993042</td>\n",
       "      <td>0.186785</td>\n",
       "      <td>0.806257</td>\n",
       "      <td>0.993880</td>\n",
       "    </tr>\n",
       "    <tr>\n",
       "      <th>20</th>\n",
       "      <td>0.21</td>\n",
       "      <td>0.992943</td>\n",
       "      <td>0.203776</td>\n",
       "      <td>0.789167</td>\n",
       "      <td>0.994879</td>\n",
       "      <td>0.205550</td>\n",
       "      <td>0.789329</td>\n",
       "      <td>0.993337</td>\n",
       "      <td>0.199197</td>\n",
       "      <td>0.794139</td>\n",
       "      <td>0.994422</td>\n",
       "    </tr>\n",
       "    <tr>\n",
       "      <th>21</th>\n",
       "      <td>0.22</td>\n",
       "      <td>0.993300</td>\n",
       "      <td>0.214884</td>\n",
       "      <td>0.778416</td>\n",
       "      <td>0.995235</td>\n",
       "      <td>0.216664</td>\n",
       "      <td>0.778571</td>\n",
       "      <td>0.993689</td>\n",
       "      <td>0.210468</td>\n",
       "      <td>0.783221</td>\n",
       "      <td>0.994793</td>\n",
       "    </tr>\n",
       "    <tr>\n",
       "      <th>22</th>\n",
       "      <td>0.23</td>\n",
       "      <td>0.993662</td>\n",
       "      <td>0.225592</td>\n",
       "      <td>0.768070</td>\n",
       "      <td>0.995565</td>\n",
       "      <td>0.227308</td>\n",
       "      <td>0.768256</td>\n",
       "      <td>0.994080</td>\n",
       "      <td>0.222673</td>\n",
       "      <td>0.771407</td>\n",
       "      <td>0.995373</td>\n",
       "    </tr>\n",
       "    <tr>\n",
       "      <th>23</th>\n",
       "      <td>0.24</td>\n",
       "      <td>0.993954</td>\n",
       "      <td>0.236947</td>\n",
       "      <td>0.757007</td>\n",
       "      <td>0.995901</td>\n",
       "      <td>0.238672</td>\n",
       "      <td>0.757229</td>\n",
       "      <td>0.994539</td>\n",
       "      <td>0.235232</td>\n",
       "      <td>0.759308</td>\n",
       "      <td>0.995976</td>\n",
       "    </tr>\n",
       "    <tr>\n",
       "      <th>24</th>\n",
       "      <td>0.25</td>\n",
       "      <td>0.994041</td>\n",
       "      <td>0.248099</td>\n",
       "      <td>0.745942</td>\n",
       "      <td>0.996082</td>\n",
       "      <td>0.249861</td>\n",
       "      <td>0.746221</td>\n",
       "      <td>0.994787</td>\n",
       "      <td>0.246987</td>\n",
       "      <td>0.747799</td>\n",
       "      <td>0.996295</td>\n",
       "    </tr>\n",
       "    <tr>\n",
       "      <th>25</th>\n",
       "      <td>0.26</td>\n",
       "      <td>0.994043</td>\n",
       "      <td>0.259049</td>\n",
       "      <td>0.734994</td>\n",
       "      <td>0.996026</td>\n",
       "      <td>0.260734</td>\n",
       "      <td>0.735292</td>\n",
       "      <td>0.994851</td>\n",
       "      <td>0.258187</td>\n",
       "      <td>0.736663</td>\n",
       "      <td>0.996271</td>\n",
       "    </tr>\n",
       "    <tr>\n",
       "      <th>26</th>\n",
       "      <td>0.27</td>\n",
       "      <td>0.993823</td>\n",
       "      <td>0.270299</td>\n",
       "      <td>0.723524</td>\n",
       "      <td>0.995815</td>\n",
       "      <td>0.271998</td>\n",
       "      <td>0.723817</td>\n",
       "      <td>0.994603</td>\n",
       "      <td>0.269894</td>\n",
       "      <td>0.724708</td>\n",
       "      <td>0.996108</td>\n",
       "    </tr>\n",
       "    <tr>\n",
       "      <th>27</th>\n",
       "      <td>0.28</td>\n",
       "      <td>0.993425</td>\n",
       "      <td>0.281138</td>\n",
       "      <td>0.712287</td>\n",
       "      <td>0.995440</td>\n",
       "      <td>0.282853</td>\n",
       "      <td>0.712587</td>\n",
       "      <td>0.994237</td>\n",
       "      <td>0.280933</td>\n",
       "      <td>0.713304</td>\n",
       "      <td>0.995790</td>\n",
       "    </tr>\n",
       "    <tr>\n",
       "      <th>28</th>\n",
       "      <td>0.29</td>\n",
       "      <td>0.992982</td>\n",
       "      <td>0.291006</td>\n",
       "      <td>0.701977</td>\n",
       "      <td>0.994992</td>\n",
       "      <td>0.292689</td>\n",
       "      <td>0.702304</td>\n",
       "      <td>0.993743</td>\n",
       "      <td>0.290946</td>\n",
       "      <td>0.702797</td>\n",
       "      <td>0.995332</td>\n",
       "    </tr>\n",
       "    <tr>\n",
       "      <th>29</th>\n",
       "      <td>0.30</td>\n",
       "      <td>0.992407</td>\n",
       "      <td>0.300068</td>\n",
       "      <td>0.692339</td>\n",
       "      <td>0.994481</td>\n",
       "      <td>0.301800</td>\n",
       "      <td>0.692681</td>\n",
       "      <td>0.993296</td>\n",
       "      <td>0.300520</td>\n",
       "      <td>0.692777</td>\n",
       "      <td>0.994960</td>\n",
       "    </tr>\n",
       "    <tr>\n",
       "      <th>30</th>\n",
       "      <td>0.31</td>\n",
       "      <td>0.991921</td>\n",
       "      <td>0.308301</td>\n",
       "      <td>0.683620</td>\n",
       "      <td>0.994008</td>\n",
       "      <td>0.310048</td>\n",
       "      <td>0.683961</td>\n",
       "      <td>0.992746</td>\n",
       "      <td>0.308974</td>\n",
       "      <td>0.683772</td>\n",
       "      <td>0.994476</td>\n",
       "    </tr>\n",
       "    <tr>\n",
       "      <th>31</th>\n",
       "      <td>0.32</td>\n",
       "      <td>0.991455</td>\n",
       "      <td>0.316442</td>\n",
       "      <td>0.675013</td>\n",
       "      <td>0.993548</td>\n",
       "      <td>0.318189</td>\n",
       "      <td>0.675359</td>\n",
       "      <td>0.992378</td>\n",
       "      <td>0.317044</td>\n",
       "      <td>0.675334</td>\n",
       "      <td>0.994069</td>\n",
       "    </tr>\n",
       "    <tr>\n",
       "      <th>32</th>\n",
       "      <td>0.33</td>\n",
       "      <td>0.991023</td>\n",
       "      <td>0.324791</td>\n",
       "      <td>0.666232</td>\n",
       "      <td>0.992994</td>\n",
       "      <td>0.326352</td>\n",
       "      <td>0.666642</td>\n",
       "      <td>0.991998</td>\n",
       "      <td>0.325493</td>\n",
       "      <td>0.666505</td>\n",
       "      <td>0.993590</td>\n",
       "    </tr>\n",
       "    <tr>\n",
       "      <th>33</th>\n",
       "      <td>0.34</td>\n",
       "      <td>0.990651</td>\n",
       "      <td>0.333302</td>\n",
       "      <td>0.657348</td>\n",
       "      <td>0.992474</td>\n",
       "      <td>0.334634</td>\n",
       "      <td>0.657840</td>\n",
       "      <td>0.991670</td>\n",
       "      <td>0.333939</td>\n",
       "      <td>0.657731</td>\n",
       "      <td>0.993131</td>\n",
       "    </tr>\n",
       "    <tr>\n",
       "      <th>34</th>\n",
       "      <td>0.35</td>\n",
       "      <td>0.990271</td>\n",
       "      <td>0.342083</td>\n",
       "      <td>0.648188</td>\n",
       "      <td>0.991963</td>\n",
       "      <td>0.343181</td>\n",
       "      <td>0.648782</td>\n",
       "      <td>0.991303</td>\n",
       "      <td>0.342702</td>\n",
       "      <td>0.648602</td>\n",
       "      <td>0.992672</td>\n",
       "    </tr>\n",
       "    <tr>\n",
       "      <th>35</th>\n",
       "      <td>0.36</td>\n",
       "      <td>0.989924</td>\n",
       "      <td>0.350982</td>\n",
       "      <td>0.638942</td>\n",
       "      <td>0.991514</td>\n",
       "      <td>0.351857</td>\n",
       "      <td>0.639657</td>\n",
       "      <td>0.990906</td>\n",
       "      <td>0.351930</td>\n",
       "      <td>0.638976</td>\n",
       "      <td>0.992204</td>\n",
       "    </tr>\n",
       "    <tr>\n",
       "      <th>36</th>\n",
       "      <td>0.37</td>\n",
       "      <td>0.989463</td>\n",
       "      <td>0.360166</td>\n",
       "      <td>0.629297</td>\n",
       "      <td>0.991062</td>\n",
       "      <td>0.360884</td>\n",
       "      <td>0.630178</td>\n",
       "      <td>0.990540</td>\n",
       "      <td>0.361778</td>\n",
       "      <td>0.628762</td>\n",
       "      <td>0.991764</td>\n",
       "    </tr>\n",
       "    <tr>\n",
       "      <th>37</th>\n",
       "      <td>0.38</td>\n",
       "      <td>0.988813</td>\n",
       "      <td>0.369061</td>\n",
       "      <td>0.619751</td>\n",
       "      <td>0.990559</td>\n",
       "      <td>0.369790</td>\n",
       "      <td>0.620768</td>\n",
       "      <td>0.989860</td>\n",
       "      <td>0.370599</td>\n",
       "      <td>0.619261</td>\n",
       "      <td>0.991148</td>\n",
       "    </tr>\n",
       "    <tr>\n",
       "      <th>38</th>\n",
       "      <td>0.39</td>\n",
       "      <td>0.988138</td>\n",
       "      <td>0.377355</td>\n",
       "      <td>0.610784</td>\n",
       "      <td>0.990047</td>\n",
       "      <td>0.378162</td>\n",
       "      <td>0.611885</td>\n",
       "      <td>0.989242</td>\n",
       "      <td>0.378997</td>\n",
       "      <td>0.610245</td>\n",
       "      <td>0.990583</td>\n",
       "    </tr>\n",
       "    <tr>\n",
       "      <th>39</th>\n",
       "      <td>0.40</td>\n",
       "      <td>0.987640</td>\n",
       "      <td>0.385506</td>\n",
       "      <td>0.602133</td>\n",
       "      <td>0.989598</td>\n",
       "      <td>0.386249</td>\n",
       "      <td>0.603350</td>\n",
       "      <td>0.988752</td>\n",
       "      <td>0.387242</td>\n",
       "      <td>0.601510</td>\n",
       "      <td>0.990155</td>\n",
       "    </tr>\n",
       "    <tr>\n",
       "      <th>40</th>\n",
       "      <td>0.41</td>\n",
       "      <td>0.987318</td>\n",
       "      <td>0.393631</td>\n",
       "      <td>0.593687</td>\n",
       "      <td>0.989208</td>\n",
       "      <td>0.394243</td>\n",
       "      <td>0.594965</td>\n",
       "      <td>0.988618</td>\n",
       "      <td>0.394518</td>\n",
       "      <td>0.594100</td>\n",
       "      <td>0.989937</td>\n",
       "    </tr>\n",
       "    <tr>\n",
       "      <th>41</th>\n",
       "      <td>0.42</td>\n",
       "      <td>0.986864</td>\n",
       "      <td>0.402355</td>\n",
       "      <td>0.584509</td>\n",
       "      <td>0.988659</td>\n",
       "      <td>0.402859</td>\n",
       "      <td>0.585800</td>\n",
       "      <td>0.987742</td>\n",
       "      <td>0.402813</td>\n",
       "      <td>0.584929</td>\n",
       "      <td>0.989139</td>\n",
       "    </tr>\n",
       "    <tr>\n",
       "      <th>42</th>\n",
       "      <td>0.43</td>\n",
       "      <td>0.986311</td>\n",
       "      <td>0.412074</td>\n",
       "      <td>0.574237</td>\n",
       "      <td>0.987966</td>\n",
       "      <td>0.412447</td>\n",
       "      <td>0.575520</td>\n",
       "      <td>0.987372</td>\n",
       "      <td>0.412045</td>\n",
       "      <td>0.575327</td>\n",
       "      <td>0.988577</td>\n",
       "    </tr>\n",
       "    <tr>\n",
       "      <th>43</th>\n",
       "      <td>0.44</td>\n",
       "      <td>0.985748</td>\n",
       "      <td>0.422378</td>\n",
       "      <td>0.563370</td>\n",
       "      <td>0.987294</td>\n",
       "      <td>0.422644</td>\n",
       "      <td>0.564650</td>\n",
       "      <td>0.986917</td>\n",
       "      <td>0.421961</td>\n",
       "      <td>0.564956</td>\n",
       "      <td>0.988047</td>\n",
       "    </tr>\n",
       "    <tr>\n",
       "      <th>44</th>\n",
       "      <td>0.45</td>\n",
       "      <td>0.985347</td>\n",
       "      <td>0.432519</td>\n",
       "      <td>0.552827</td>\n",
       "      <td>0.986765</td>\n",
       "      <td>0.432654</td>\n",
       "      <td>0.554111</td>\n",
       "      <td>0.986671</td>\n",
       "      <td>0.432127</td>\n",
       "      <td>0.554544</td>\n",
       "      <td>0.987671</td>\n",
       "    </tr>\n",
       "    <tr>\n",
       "      <th>45</th>\n",
       "      <td>0.46</td>\n",
       "      <td>0.985363</td>\n",
       "      <td>0.442678</td>\n",
       "      <td>0.542684</td>\n",
       "      <td>0.986592</td>\n",
       "      <td>0.442636</td>\n",
       "      <td>0.543957</td>\n",
       "      <td>0.986188</td>\n",
       "      <td>0.442009</td>\n",
       "      <td>0.544179</td>\n",
       "      <td>0.987336</td>\n",
       "    </tr>\n",
       "    <tr>\n",
       "      <th>46</th>\n",
       "      <td>0.47</td>\n",
       "      <td>0.985703</td>\n",
       "      <td>0.453048</td>\n",
       "      <td>0.532655</td>\n",
       "      <td>0.986782</td>\n",
       "      <td>0.452824</td>\n",
       "      <td>0.533959</td>\n",
       "      <td>0.986250</td>\n",
       "      <td>0.451694</td>\n",
       "      <td>0.534556</td>\n",
       "      <td>0.987506</td>\n",
       "    </tr>\n",
       "    <tr>\n",
       "      <th>47</th>\n",
       "      <td>0.48</td>\n",
       "      <td>0.986412</td>\n",
       "      <td>0.463065</td>\n",
       "      <td>0.523347</td>\n",
       "      <td>0.987350</td>\n",
       "      <td>0.462655</td>\n",
       "      <td>0.524695</td>\n",
       "      <td>0.987045</td>\n",
       "      <td>0.462017</td>\n",
       "      <td>0.525028</td>\n",
       "      <td>0.988099</td>\n",
       "    </tr>\n",
       "    <tr>\n",
       "      <th>48</th>\n",
       "      <td>0.49</td>\n",
       "      <td>0.987528</td>\n",
       "      <td>0.473306</td>\n",
       "      <td>0.514222</td>\n",
       "      <td>0.988259</td>\n",
       "      <td>0.472657</td>\n",
       "      <td>0.515601</td>\n",
       "      <td>0.987809</td>\n",
       "      <td>0.471991</td>\n",
       "      <td>0.515818</td>\n",
       "      <td>0.988822</td>\n",
       "    </tr>\n",
       "  </tbody>\n",
       "</table>\n",
       "</div>"
      ],
      "text/plain": [
       "    percent1  T1out_channel  T1out1st  T1out2nd  psi_transmission_total  \\\n",
       "0       0.01       0.993356  0.008460  0.984897                0.997728   \n",
       "1       0.02       0.992554  0.015122  0.977432                0.996750   \n",
       "2       0.03       0.995990  0.024457  0.971533                0.998249   \n",
       "3       0.04       0.997523  0.034974  0.962549                0.998781   \n",
       "4       0.05       0.996495  0.045654  0.950840                0.998020   \n",
       "5       0.06       0.995577  0.055865  0.939712                0.997279   \n",
       "6       0.07       0.995033  0.066324  0.928710                0.996803   \n",
       "7       0.08       0.994627  0.076982  0.917645                0.996157   \n",
       "8       0.09       0.994728  0.083749  0.910979                0.996081   \n",
       "9       0.10       0.994970  0.089301  0.905669                0.996240   \n",
       "10      0.11       0.994920  0.096271  0.898649                0.996319   \n",
       "11      0.12       0.994302  0.106312  0.887990                0.996055   \n",
       "12      0.13       0.993376  0.118674  0.874702                0.995374   \n",
       "13      0.14       0.992500  0.131069  0.861431                0.994362   \n",
       "14      0.15       0.991748  0.142375  0.849373                0.993455   \n",
       "15      0.16       0.991260  0.152045  0.839215                0.992819   \n",
       "16      0.17       0.991236  0.162118  0.829118                0.992848   \n",
       "17      0.18       0.991651  0.171909  0.819741                0.993366   \n",
       "18      0.19       0.992169  0.182375  0.809793                0.993942   \n",
       "19      0.20       0.992623  0.192451  0.800172                0.994454   \n",
       "20      0.21       0.992943  0.203776  0.789167                0.994879   \n",
       "21      0.22       0.993300  0.214884  0.778416                0.995235   \n",
       "22      0.23       0.993662  0.225592  0.768070                0.995565   \n",
       "23      0.24       0.993954  0.236947  0.757007                0.995901   \n",
       "24      0.25       0.994041  0.248099  0.745942                0.996082   \n",
       "25      0.26       0.994043  0.259049  0.734994                0.996026   \n",
       "26      0.27       0.993823  0.270299  0.723524                0.995815   \n",
       "27      0.28       0.993425  0.281138  0.712287                0.995440   \n",
       "28      0.29       0.992982  0.291006  0.701977                0.994992   \n",
       "29      0.30       0.992407  0.300068  0.692339                0.994481   \n",
       "30      0.31       0.991921  0.308301  0.683620                0.994008   \n",
       "31      0.32       0.991455  0.316442  0.675013                0.993548   \n",
       "32      0.33       0.991023  0.324791  0.666232                0.992994   \n",
       "33      0.34       0.990651  0.333302  0.657348                0.992474   \n",
       "34      0.35       0.990271  0.342083  0.648188                0.991963   \n",
       "35      0.36       0.989924  0.350982  0.638942                0.991514   \n",
       "36      0.37       0.989463  0.360166  0.629297                0.991062   \n",
       "37      0.38       0.988813  0.369061  0.619751                0.990559   \n",
       "38      0.39       0.988138  0.377355  0.610784                0.990047   \n",
       "39      0.40       0.987640  0.385506  0.602133                0.989598   \n",
       "40      0.41       0.987318  0.393631  0.593687                0.989208   \n",
       "41      0.42       0.986864  0.402355  0.584509                0.988659   \n",
       "42      0.43       0.986311  0.412074  0.574237                0.987966   \n",
       "43      0.44       0.985748  0.422378  0.563370                0.987294   \n",
       "44      0.45       0.985347  0.432519  0.552827                0.986765   \n",
       "45      0.46       0.985363  0.442678  0.542684                0.986592   \n",
       "46      0.47       0.985703  0.453048  0.532655                0.986782   \n",
       "47      0.48       0.986412  0.463065  0.523347                0.987350   \n",
       "48      0.49       0.987528  0.473306  0.514222                0.988259   \n",
       "\n",
       "    psi_transmission_1st  psi_transmission_2nd  T1out_smooth  T1out1st_smooth  \\\n",
       "0               0.010057              0.987671      0.993579         0.005463   \n",
       "1               0.015777              0.980974      0.993031         0.011464   \n",
       "2               0.024997              0.973252      0.994678         0.021088   \n",
       "3               0.035602              0.963178      0.992634         0.025830   \n",
       "4               0.046004              0.952016      0.990861         0.040566   \n",
       "5               0.056144              0.941135      0.989920         0.048536   \n",
       "6               0.066557              0.930246      0.992964         0.058390   \n",
       "7               0.077211              0.918947      0.994983         0.070907   \n",
       "8               0.084068              0.912013      0.995655         0.078428   \n",
       "9               0.089842              0.906398      0.996017         0.085295   \n",
       "10              0.097136              0.899183      0.995797         0.093068   \n",
       "11              0.107557              0.888498      0.995281         0.102841   \n",
       "12              0.120209              0.875165      0.994143         0.115673   \n",
       "13              0.132665              0.861697      0.993042         0.127613   \n",
       "14              0.143977              0.849478      0.992162         0.139475   \n",
       "15              0.153572              0.839246      0.991566         0.148001   \n",
       "16              0.163712              0.829136      0.991524         0.157117   \n",
       "17              0.173577              0.819789      0.991987         0.166306   \n",
       "18              0.184059              0.809883      0.992617         0.177061   \n",
       "19              0.194164              0.800290      0.993042         0.186785   \n",
       "20              0.205550              0.789329      0.993337         0.199197   \n",
       "21              0.216664              0.778571      0.993689         0.210468   \n",
       "22              0.227308              0.768256      0.994080         0.222673   \n",
       "23              0.238672              0.757229      0.994539         0.235232   \n",
       "24              0.249861              0.746221      0.994787         0.246987   \n",
       "25              0.260734              0.735292      0.994851         0.258187   \n",
       "26              0.271998              0.723817      0.994603         0.269894   \n",
       "27              0.282853              0.712587      0.994237         0.280933   \n",
       "28              0.292689              0.702304      0.993743         0.290946   \n",
       "29              0.301800              0.692681      0.993296         0.300520   \n",
       "30              0.310048              0.683961      0.992746         0.308974   \n",
       "31              0.318189              0.675359      0.992378         0.317044   \n",
       "32              0.326352              0.666642      0.991998         0.325493   \n",
       "33              0.334634              0.657840      0.991670         0.333939   \n",
       "34              0.343181              0.648782      0.991303         0.342702   \n",
       "35              0.351857              0.639657      0.990906         0.351930   \n",
       "36              0.360884              0.630178      0.990540         0.361778   \n",
       "37              0.369790              0.620768      0.989860         0.370599   \n",
       "38              0.378162              0.611885      0.989242         0.378997   \n",
       "39              0.386249              0.603350      0.988752         0.387242   \n",
       "40              0.394243              0.594965      0.988618         0.394518   \n",
       "41              0.402859              0.585800      0.987742         0.402813   \n",
       "42              0.412447              0.575520      0.987372         0.412045   \n",
       "43              0.422644              0.564650      0.986917         0.421961   \n",
       "44              0.432654              0.554111      0.986671         0.432127   \n",
       "45              0.442636              0.543957      0.986188         0.442009   \n",
       "46              0.452824              0.533959      0.986250         0.451694   \n",
       "47              0.462655              0.524695      0.987045         0.462017   \n",
       "48              0.472657              0.515601      0.987809         0.471991   \n",
       "\n",
       "    T1out2nd_smooth  psi_transmission_total_continuous_smooth  \n",
       "0          0.988116                                  0.997710  \n",
       "1          0.981567                                  0.996395  \n",
       "2          0.973590                                  0.997512  \n",
       "3          0.966804                                  0.997591  \n",
       "4          0.950295                                  0.996635  \n",
       "5          0.941383                                  0.995899  \n",
       "6          0.934575                                  0.996335  \n",
       "7          0.924076                                  0.996426  \n",
       "8          0.917226                                  0.996521  \n",
       "9          0.910722                                  0.996777  \n",
       "10         0.902729                                  0.996824  \n",
       "11         0.892441                                  0.996539  \n",
       "12         0.878469                                  0.995770  \n",
       "13         0.865429                                  0.994598  \n",
       "14         0.852688                                  0.993580  \n",
       "15         0.843566                                  0.992697  \n",
       "16         0.834407                                  0.992517  \n",
       "17         0.825681                                  0.992903  \n",
       "18         0.815556                                  0.993469  \n",
       "19         0.806257                                  0.993880  \n",
       "20         0.794139                                  0.994422  \n",
       "21         0.783221                                  0.994793  \n",
       "22         0.771407                                  0.995373  \n",
       "23         0.759308                                  0.995976  \n",
       "24         0.747799                                  0.996295  \n",
       "25         0.736663                                  0.996271  \n",
       "26         0.724708                                  0.996108  \n",
       "27         0.713304                                  0.995790  \n",
       "28         0.702797                                  0.995332  \n",
       "29         0.692777                                  0.994960  \n",
       "30         0.683772                                  0.994476  \n",
       "31         0.675334                                  0.994069  \n",
       "32         0.666505                                  0.993590  \n",
       "33         0.657731                                  0.993131  \n",
       "34         0.648602                                  0.992672  \n",
       "35         0.638976                                  0.992204  \n",
       "36         0.628762                                  0.991764  \n",
       "37         0.619261                                  0.991148  \n",
       "38         0.610245                                  0.990583  \n",
       "39         0.601510                                  0.990155  \n",
       "40         0.594100                                  0.989937  \n",
       "41         0.584929                                  0.989139  \n",
       "42         0.575327                                  0.988577  \n",
       "43         0.564956                                  0.988047  \n",
       "44         0.554544                                  0.987671  \n",
       "45         0.544179                                  0.987336  \n",
       "46         0.534556                                  0.987506  \n",
       "47         0.525028                                  0.988099  \n",
       "48         0.515818                                  0.988822  "
      ]
     },
     "execution_count": 9,
     "metadata": {},
     "output_type": "execute_result"
    }
   ],
   "source": [
    "results_transmission_numpy = results_transmission_numpy[0 : 49]\n",
    "results_transmission_numpy"
   ]
  },
  {
   "cell_type": "code",
   "execution_count": 16,
   "id": "6db2b622",
   "metadata": {},
   "outputs": [
    {
     "data": {
      "image/png": "[encoded data removed]",
      "text/plain": [
       "<Figure size 259.2x259.2 with 1 Axes>"
      ]
     },
     "metadata": {
      "needs_background": "light"
     },
     "output_type": "display_data"
    }
   ],
   "source": [
    "fig, axes = plt.subplots(figsize=[3.6, 3.6])\n",
    "sns.scatterplot(data=results_transmission_numpy, x='percent1', y='T1out1st', label=\"$1^{st}$ channel\", marker='o', s = 35)\n",
    "sns.scatterplot(data=results_transmission_numpy, x='percent1', y='T1out2nd', label=\"$2^{nd}$ channel\", marker='o', s = 35)\n",
    "#sns.scatterplot(data=results_transmission_numpy, x='percent1', y='psi_transmission_total', label=\"Cross section\",  marker='o', s = 35)\n",
    "sns.scatterplot(data=results_transmission_numpy, x='percent1', y='T1out_channel', label=\"All channels\", marker='o', s = 35)\n",
    "plt.plot([0, 0.5], [1, 0.5], 'k--', linewidth = 1, label = 'Target')\n",
    "plt.plot([0, 0.5], [0, 0.5], 'k--', linewidth = 1)\n",
    "plt.plot([0, 0.5], [1, 1], 'k--', linewidth = 1)\n",
    "axes.legend()\n",
    "axes.set_xlabel('Energy split ratio of the $1^{st}$ channel')\n",
    "axes.set_ylabel('Energy transmission ratio')\n",
    "plt.savefig('C:/Users/DELL/Desktop/2023年上半年学习和生活的文件/科研的文件/waveguide_structure_design/figures/test_evaluate_3-6.png', dpi = 450)"
   ]
  },
  {
   "cell_type": "code",
   "execution_count": 15,
   "id": "e53a6fa6",
   "metadata": {},
   "outputs": [
    {
     "data": {
      "image/png": "[encoded data removed]",
      "text/plain": [
       "<Figure size 259.2x259.2 with 1 Axes>"
      ]
     },
     "metadata": {
      "needs_background": "light"
     },
     "output_type": "display_data"
    }
   ],
   "source": [
    "fig, axes = plt.subplots(figsize=[3.6, 3.6])#figsize=[4.6, 4.6]\n",
    "sns.scatterplot(data=results_transmission_numpy, x='percent1', y='T1out1st', label=\"Lower channel\", marker='o', s = 35)\n",
    "sns.scatterplot(data=results_transmission_numpy, x='percent1', y='T1out2nd', label=\"Upper channel\", marker='o', s = 35)\n",
    "#sns.scatterplot(data=results_transmission_numpy, x='percent1', y='psi_transmission_total', label=\"Cross section\",  marker='o', s = 35)\n",
    "sns.scatterplot(data=results_transmission_numpy, x='percent1', y='T1out_channel', label=\"Total\", marker='o', s = 35)\n",
    "plt.plot([0, 0.5], [1, 0.5], 'k--', linewidth = 1, label = 'Target')\n",
    "plt.plot([0, 0.5], [0, 0.5], 'k--', linewidth = 1)\n",
    "plt.plot([0, 0.5], [1, 1], 'k--', linewidth = 1)\n",
    "axes.legend()\n",
    "axes.set_xlabel('Target energy split ratio of the lower channel')\n",
    "axes.set_ylabel('Actual energy transmission ratio')\n",
    "plt.savefig('C:/Users/DELL/Desktop/2023年上半年学习和生活的文件/科研的文件/waveguide_structure_design/figures/test_evaluate_3-6.svg', dpi = 450, bbox_inches = 'tight')"
   ]
  },
  {
   "cell_type": "code",
   "execution_count": 55,
   "id": "6f18ba10",
   "metadata": {},
   "outputs": [
    {
     "data": {
      "text/plain": [
       "[<matplotlib.lines.Line2D at 0x25bd7cba5e0>]"
      ]
     },
     "execution_count": 55,
     "metadata": {},
     "output_type": "execute_result"
    },
    {
     "data": {
      "image/png": "[encoded data removed]",
      "text/plain": [
       "<Figure size 216x432 with 1 Axes>"
      ]
     },
     "metadata": {
      "needs_background": "light"
     },
     "output_type": "display_data"
    }
   ],
   "source": [
    "fig, axes = plt.subplots(figsize=[3, 6])\n",
    "sns.lineplot(data=results_transmission_numpy, x='percent1', y='psi_transmission_total_continuous_smooth', color = 'y')\n",
    "sns.scatterplot(data=results_transmission_numpy, x='percent1', y='T1out_smooth', marker='o', color = 'b')\n",
    "sns.scatterplot(data=results_transmission_numpy, x='percent1', y='T1out1st_smooth', marker='o', color='g')\n",
    "plt.plot([0, 0.5], [0, 0.5], '--')\n",
    "sns.scatterplot(data=results_transmission_numpy, x='percent1', y='T1out2nd_smooth', marker='o', color='r')\n",
    "plt.plot([0, 0.5], [1, 0.5], '--')"
   ]
  },
  {
   "cell_type": "code",
   "execution_count": 89,
   "id": "cb5fa5d9",
   "metadata": {},
   "outputs": [],
   "source": [
    "results_transmission_numpy = np.array(results_transmission[0 : 49])"
   ]
  },
  {
   "cell_type": "code",
   "execution_count": 90,
   "id": "33806c98",
   "metadata": {},
   "outputs": [
    {
     "data": {
      "text/plain": [
       "<matplotlib.legend.Legend at 0x25bdc2fdac0>"
      ]
     },
     "execution_count": 90,
     "metadata": {},
     "output_type": "execute_result"
    },
    {
     "data": {
      "image/png": "[encoded data removed]",
      "text/plain": [
       "<Figure size 252x504 with 1 Axes>"
      ]
     },
     "metadata": {
      "needs_background": "light"
     },
     "output_type": "display_data"
    }
   ],
   "source": [
    "fig, axes = plt.subplots(figsize=[3.5, 7])\n",
    "plt.plot(results_transmission_numpy[:, 0], abs(results_transmission_numpy[:, 2] - results_transmission_numpy[:, 0]) + abs(results_transmission_numpy[:, 3] - (1 - results_transmission_numpy[:, 0])), marker = 'o', color = 'sandybrown')\n",
    "plt.plot(results_transmission_numpy[:, 0], abs(results_transmission_numpy[:, 2] - results_transmission_numpy[:, 0]), label = \"$1^{st}$ channel\", marker = 'o', color = 'g')#marker = '*'\n",
    "plt.plot(results_transmission_numpy[:, 0], abs(results_transmission_numpy[:, 3] - (1 - results_transmission_numpy[:, 0])), label = \"$2^{nd}$ channel\", marker = 'o', color = 'r')#marker = '*'\n",
    "#plt.plot([0, 0.5], [0.0113, 0.0113], '--')\n",
    "axes.legend(labels=[\"All channels\", \"$1^{st}$ channel\", \"$2^{nd}$ channel\"])\n",
    "#axes.set_xlim([-0.01, 0.5])\n",
    "#axes.set_ylim([-0.0003, 0.03])"
   ]
  },
  {
   "cell_type": "code",
   "execution_count": 47,
   "id": "fbd3479d",
   "metadata": {},
   "outputs": [
    {
     "data": {
      "text/plain": [
       "<matplotlib.legend.Legend at 0x23112fe0f70>"
      ]
     },
     "execution_count": 47,
     "metadata": {},
     "output_type": "execute_result"
    },
    {
     "data": {
      "image/png": "[encoded data removed]",
      "text/plain": [
       "<Figure size 252x504 with 1 Axes>"
      ]
     },
     "metadata": {
      "needs_background": "light"
     },
     "output_type": "display_data"
    }
   ],
   "source": [
    "fig, axes = plt.subplots(figsize=[3.5, 7])\n",
    "#plt.plot(results_transmission_numpy[:, 0], abs(results_transmission_numpy[:, 2] - results_transmission_numpy[:, 0]) + abs(results_transmission_numpy[:, 3] - (1 - results_transmission_numpy[:, 0])), marker = 'o', color = 'b')\n",
    "plt.plot(results_transmission_numpy[:, 0], abs(results_transmission_numpy[:, 4] - 1), marker = 'o', color = 'b')\n",
    "plt.plot(results_transmission_numpy[:, 0], abs(results_transmission_numpy[:, 1] - 1), marker = '*', color = 'y')#color = 'b'\n",
    "#plt.plot(results_transmission_numpy[:, 0], abs(results_transmission_numpy[:, 2] - results_transmission_numpy[:, 0]), marker = '*', color = 'g')\n",
    "#plt.plot(results_transmission_numpy[:, 0], abs(results_transmission_numpy[:, 3] - (1 - results_transmission_numpy[:, 0])), marker = '*', color = 'r')\n",
    "axes.legend(labels=[\"Channels\", \"Total\"])\n",
    "#axes.set_xlim([-0.01, 0.5])\n",
    "#axes.set_ylim([-0.0003, 0.03])"
   ]
  },
  {
   "cell_type": "code",
   "execution_count": 74,
   "id": "2af686e3",
   "metadata": {},
   "outputs": [
    {
     "data": {
      "text/plain": [
       "0.03424952529441741"
      ]
     },
     "execution_count": 74,
     "metadata": {},
     "output_type": "execute_result"
    }
   ],
   "source": [
    "np.mean(abs(results_transmission_numpy[:, 2] - results_transmission_numpy[:, 0]) + abs(results_transmission_numpy[:, 3] - (1 - results_transmission_numpy[:, 0])))"
   ]
  },
  {
   "cell_type": "code",
   "execution_count": 75,
   "id": "834754fa",
   "metadata": {},
   "outputs": [
    {
     "data": {
      "text/plain": [
       "0.01154320936779081"
      ]
     },
     "execution_count": 75,
     "metadata": {},
     "output_type": "execute_result"
    }
   ],
   "source": [
    "np.std(abs(results_transmission_numpy[:, 2] - results_transmission_numpy[:, 0]) + abs(results_transmission_numpy[:, 3] - (1 - results_transmission_numpy[:, 0])))"
   ]
  },
  {
   "cell_type": "code",
   "execution_count": 140,
   "id": "8f782fa2",
   "metadata": {},
   "outputs": [
    {
     "data": {
      "text/plain": [
       "0.015018108654811674"
      ]
     },
     "execution_count": 140,
     "metadata": {},
     "output_type": "execute_result"
    }
   ],
   "source": [
    "np.mean(abs(results_transmission_numpy[:, 8] - results_transmission_numpy[:, 0]) + abs(results_transmission_numpy[:, 9] - (1 - results_transmission_numpy[:, 0])))"
   ]
  },
  {
   "cell_type": "code",
   "execution_count": 141,
   "id": "93e4a96c",
   "metadata": {},
   "outputs": [
    {
     "data": {
      "text/plain": [
       "0.006894145402163654"
      ]
     },
     "execution_count": 141,
     "metadata": {},
     "output_type": "execute_result"
    }
   ],
   "source": [
    "np.std(abs(results_transmission_numpy[:, 8] - results_transmission_numpy[:, 0]) + abs(results_transmission_numpy[:, 9] - (1 - results_transmission_numpy[:, 0])))"
   ]
  },
  {
   "cell_type": "code",
   "execution_count": 142,
   "id": "053fd09c",
   "metadata": {},
   "outputs": [
    {
     "data": {
      "text/plain": [
       "[<matplotlib.lines.Line2D at 0x19ba3ec2040>]"
      ]
     },
     "execution_count": 142,
     "metadata": {},
     "output_type": "execute_result"
    },
    {
     "data": {
      "image/png": "[encoded data removed]",
      "text/plain": [
       "<Figure size 216x432 with 1 Axes>"
      ]
     },
     "metadata": {
      "needs_background": "light"
     },
     "output_type": "display_data"
    }
   ],
   "source": [
    "fig, axes = plt.subplots(figsize=[3, 6])\n",
    "plt.plot(results_transmission_numpy[:, 0], abs(results_transmission_numpy[:, 7] - 1), marker = 'o', color = 'b')\n",
    "plt.plot(results_transmission_numpy[:, 0], abs(results_transmission_numpy[:, 8] - results_transmission_numpy[:, 0]), marker = '*', color = 'g')\n",
    "plt.plot(results_transmission_numpy[:, 0], abs(results_transmission_numpy[:, 9] - (1 - results_transmission_numpy[:, 0])), marker = '*', color = 'r')"
   ]
  },
  {
   "cell_type": "code",
   "execution_count": 143,
   "id": "ef18d8d4",
   "metadata": {},
   "outputs": [
    {
     "ename": "NameError",
     "evalue": "name 'x' is not defined",
     "output_type": "error",
     "traceback": [
      "\u001b[1;31m---------------------------------------------------------------------------\u001b[0m",
      "\u001b[1;31mNameError\u001b[0m                                 Traceback (most recent call last)",
      "\u001b[1;32m~\\AppData\\Local\\Temp/ipykernel_19812/2708912570.py\u001b[0m in \u001b[0;36m<module>\u001b[1;34m\u001b[0m\n\u001b[1;32m----> 1\u001b[1;33m \u001b[0mx\u001b[0m\u001b[1;33m[\u001b[0m\u001b[1;36m1\u001b[0m\u001b[1;33m]\u001b[0m \u001b[1;33m-\u001b[0m \u001b[0mx\u001b[0m\u001b[1;33m[\u001b[0m\u001b[1;36m0\u001b[0m\u001b[1;33m]\u001b[0m\u001b[1;33m\u001b[0m\u001b[1;33m\u001b[0m\u001b[0m\n\u001b[0m",
      "\u001b[1;31mNameError\u001b[0m: name 'x' is not defined"
     ]
    }
   ],
   "source": [
    "x[1] - x[0]"
   ]
  },
  {
   "cell_type": "code",
   "execution_count": 53,
   "id": "af95bd6d",
   "metadata": {},
   "outputs": [
    {
     "data": {
      "text/plain": [
       "[<matplotlib.lines.Line2D at 0x12701c7b4c0>]"
      ]
     },
     "execution_count": 53,
     "metadata": {},
     "output_type": "execute_result"
    },
    {
     "data": {
      "image/png": "[encoded data removed]",
      "text/plain": [
       "<Figure size 216x432 with 1 Axes>"
      ]
     },
     "metadata": {
      "needs_background": "light"
     },
     "output_type": "display_data"
    }
   ],
   "source": [
    "fig, axes = plt.subplots(figsize=[3, 6])\n",
    "plt.plot(results_transmission_numpy1[:, 0], \n",
    "         np.where(np.abs(results_transmission_numpy1[:, 6] - results_transmission_numpy1[:, 0]) <= np.abs(results_transmission_numpy[:, 6] - results_transmission_numpy[:, 0]),\n",
    "                 results_transmission_numpy1[:, 6] - results_transmission_numpy1[:, 0], np.abs(results_transmission_numpy[:, 6] - results_transmission_numpy[:, 0])))"
   ]
  },
  {
   "cell_type": "code",
   "execution_count": 59,
   "id": "b4a638ea",
   "metadata": {},
   "outputs": [],
   "source": [
    "data1 = np.where(np.abs(results_transmission_numpy1[:, 6] - results_transmission_numpy1[:, 0]) <= np.abs(results_transmission_numpy[:, 6] - results_transmission_numpy[:, 0]),\n",
    "                 results_transmission_numpy1[:, 6] - results_transmission_numpy1[:, 0], np.abs(results_transmission_numpy[:, 6] - results_transmission_numpy[:, 0]))"
   ]
  },
  {
   "cell_type": "code",
   "execution_count": 63,
   "id": "83564991",
   "metadata": {},
   "outputs": [
    {
     "data": {
      "text/plain": [
       "0.008668915952089594"
      ]
     },
     "execution_count": 63,
     "metadata": {},
     "output_type": "execute_result"
    }
   ],
   "source": [
    "np.mean(np.abs(data1))"
   ]
  },
  {
   "cell_type": "code",
   "execution_count": 64,
   "id": "3be351be",
   "metadata": {},
   "outputs": [
    {
     "data": {
      "text/plain": [
       "0.006910724807651561"
      ]
     },
     "execution_count": 64,
     "metadata": {},
     "output_type": "execute_result"
    }
   ],
   "source": [
    "np.std(np.abs(data1))"
   ]
  },
  {
   "cell_type": "code",
   "execution_count": 22,
   "id": "0442fa75",
   "metadata": {},
   "outputs": [
    {
     "data": {
      "text/plain": [
       "[<matplotlib.lines.Line2D at 0x1270015b6d0>]"
      ]
     },
     "execution_count": 22,
     "metadata": {},
     "output_type": "execute_result"
    },
    {
     "data": {
      "image/png": "[encoded data removed]",
      "text/plain": [
       "<Figure size 216x432 with 1 Axes>"
      ]
     },
     "metadata": {
      "needs_background": "light"
     },
     "output_type": "display_data"
    }
   ],
   "source": [
    "fig, axes = plt.subplots(figsize=[3, 6])\n",
    "sns.lineplot(data=results_transmission_numpy, x='percent1', y='psi_transmission_total_continuous_smooth', color = 'y')\n",
    "sns.scatterplot(data=results_transmission_numpy, x='percent1', y='T1out_smooth', marker='o', color = 'b')\n",
    "sns.scatterplot(data=results_transmission_numpy, x='percent1', y='T1out1st_smooth', marker='o', color='g')\n",
    "plt.plot([0, 0.5], [0, 0.5], '--')\n",
    "sns.scatterplot(data=results_transmission_numpy, x='percent1', y='T1out2nd_smooth', marker='o', color='r')\n",
    "plt.plot([0, 0.5], [1, 0.5], '--')"
   ]
  },
  {
   "cell_type": "code",
   "execution_count": null,
   "id": "292ddae5",
   "metadata": {},
   "outputs": [],
   "source": []
  },
  {
   "cell_type": "code",
   "execution_count": 23,
   "id": "f96ae9ee",
   "metadata": {},
   "outputs": [
    {
     "data": {
      "text/plain": [
       "[<matplotlib.lines.Line2D at 0x12701866e20>]"
      ]
     },
     "execution_count": 23,
     "metadata": {},
     "output_type": "execute_result"
    },
    {
     "data": {
      "image/png": "[encoded data removed]",
      "text/plain": [
       "<Figure size 216x432 with 1 Axes>"
      ]
     },
     "metadata": {
      "needs_background": "light"
     },
     "output_type": "display_data"
    }
   ],
   "source": [
    "fig, axes = plt.subplots(figsize=[3, 6])\n",
    "sns.lineplot(data=results_transmission_numpy1, x='percent1', y='psi_transmission_total_continuous_smooth', color = 'y')\n",
    "sns.scatterplot(data=results_transmission_numpy1, x='percent1', y='T1out_smooth', marker='o', color = 'b')\n",
    "sns.scatterplot(data=results_transmission_numpy1, x='percent1', y='T1out1st_smooth', marker='o', color='g')\n",
    "plt.plot([0, 0.5], [0, 0.5], '--')\n",
    "sns.scatterplot(data=results_transmission_numpy1, x='percent1', y='T1out2nd_smooth', marker='o', color='r')\n",
    "plt.plot([0, 0.5], [1, 0.5], '--')"
   ]
  },
  {
   "cell_type": "code",
   "execution_count": 24,
   "id": "5b1c11a2",
   "metadata": {},
   "outputs": [
    {
     "data": {
      "text/plain": [
       "<AxesSubplot:xlabel='percent1', ylabel='psi_transmission_total'>"
      ]
     },
     "execution_count": 24,
     "metadata": {},
     "output_type": "execute_result"
    },
    {
     "data": {
      "image/png": "[encoded data removed]",
      "text/plain": [
       "<Figure size 432x432 with 1 Axes>"
      ]
     },
     "metadata": {
      "needs_background": "light"
     },
     "output_type": "display_data"
    }
   ],
   "source": [
    "fig, axes = plt.subplots(figsize=[6, 6])\n",
    "sns.scatterplot(data=results_transmission_numpy, x='percent1', y='psi_transmission_total', marker='o')"
   ]
  },
  {
   "cell_type": "code",
   "execution_count": 25,
   "id": "2197871a",
   "metadata": {},
   "outputs": [
    {
     "data": {
      "text/plain": [
       "<AxesSubplot:xlabel='percent1', ylabel='psi_transmission_total_continuous_smooth'>"
      ]
     },
     "execution_count": 25,
     "metadata": {},
     "output_type": "execute_result"
    },
    {
     "data": {
      "image/png": "[encoded data removed]",
      "text/plain": [
       "<Figure size 432x432 with 1 Axes>"
      ]
     },
     "metadata": {
      "needs_background": "light"
     },
     "output_type": "display_data"
    }
   ],
   "source": [
    "fig, axes = plt.subplots(figsize=[6, 6])\n",
    "sns.scatterplot(data=results_transmission_numpy, x='percent1', y='psi_transmission_total_continuous_smooth', marker='o')"
   ]
  },
  {
   "cell_type": "code",
   "execution_count": null,
   "id": "b489e0b4",
   "metadata": {},
   "outputs": [],
   "source": []
  }
 ],
 "metadata": {
  "kernelspec": {
   "display_name": "Python 3 (ipykernel)",
   "language": "python",
   "name": "python3"
  },
  "language_info": {
   "codemirror_mode": {
    "name": "ipython",
    "version": 3
   },
   "file_extension": ".py",
   "mimetype": "text/x-python",
   "name": "python",
   "nbconvert_exporter": "python",
   "pygments_lexer": "ipython3",
   "version": "3.9.7"
  }
 },
 "nbformat": 4,
 "nbformat_minor": 5
}
